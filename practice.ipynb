{
 "cells": [
  {
   "cell_type": "markdown",
   "id": "67447636",
   "metadata": {},
   "source": [
    "# SQL Practice\n",
    "\n",
    "This is a quick notebook with exercises for anyone wanting to practice their SQL. It uses the [California School SAT Performance](http://2016.padjo.org/tutorials/sqlite-data-starterpacks/#toc-california-school-sat-performance-and-poverty-data) dataset, which gives a good enough set of data to use many SQL features.\n",
    "\n",
    "We use SQLite specifically, which lacks a few SQL language features - you can adapt it to your own database if you like.\n",
    "\n",
    "It also requires you to install `jupysql` into your Python environment (`conda install jupysql` if using Conda)."
   ]
  },
  {
   "cell_type": "markdown",
   "id": "7a46ac13",
   "metadata": {},
   "source": [
    "## Download the Dataset"
   ]
  },
  {
   "cell_type": "code",
   "execution_count": 107,
   "id": "b189f183",
   "metadata": {},
   "outputs": [],
   "source": [
    "![ -f \"cdeschools.sqlite\" ] || curl http://2016.padjo.org/files/data/starterpack/cde-schools/cdeschools.sqlite --output cdeschools.sqlite"
   ]
  },
  {
   "cell_type": "markdown",
   "id": "250c390c",
   "metadata": {},
   "source": [
    "## Load `jupysql` and the Dataset"
   ]
  },
  {
   "cell_type": "code",
   "execution_count": 108,
   "id": "a6601487",
   "metadata": {},
   "outputs": [
    {
     "name": "stdout",
     "output_type": "stream",
     "text": [
      "The sql extension is already loaded. To reload it, use:\n",
      "  %reload_ext sql\n"
     ]
    }
   ],
   "source": [
    "%load_ext sql\n",
    "\n",
    "%sql sqlite:///cdeschools.sqlite"
   ]
  },
  {
   "cell_type": "markdown",
   "id": "4db75c7b",
   "metadata": {},
   "source": [
    "## Show Tables Available, and a Sample for each Table"
   ]
  },
  {
   "cell_type": "code",
   "execution_count": 109,
   "id": "7c7f8f21",
   "metadata": {},
   "outputs": [
    {
     "data": {
      "text/html": [
       "<span style=\"None\">Running query in &#x27;sqlite:///cdeschools.sqlite&#x27;</span>"
      ],
      "text/plain": [
       "Running query in 'sqlite:///cdeschools.sqlite'"
      ]
     },
     "metadata": {},
     "output_type": "display_data"
    },
    {
     "data": {
      "text/html": [
       "<table>\n",
       "    <thead>\n",
       "        <tr>\n",
       "            <th>name</th>\n",
       "        </tr>\n",
       "    </thead>\n",
       "    <tbody>\n",
       "        <tr>\n",
       "            <td>frpm</td>\n",
       "        </tr>\n",
       "        <tr>\n",
       "            <td>satscores</td>\n",
       "        </tr>\n",
       "        <tr>\n",
       "            <td>schools</td>\n",
       "        </tr>\n",
       "    </tbody>\n",
       "</table>"
      ],
      "text/plain": [
       "+-----------+\n",
       "|    name   |\n",
       "+-----------+\n",
       "|    frpm   |\n",
       "| satscores |\n",
       "|  schools  |\n",
       "+-----------+"
      ]
     },
     "execution_count": 109,
     "metadata": {},
     "output_type": "execute_result"
    }
   ],
   "source": [
    "%%sql\n",
    "SELECT name \n",
    "FROM sqlite_master \n",
    "WHERE type='table'\n",
    "ORDER BY name;"
   ]
  },
  {
   "cell_type": "code",
   "execution_count": 110,
   "id": "418f6ffb",
   "metadata": {},
   "outputs": [
    {
     "data": {
      "text/html": [
       "<span style=\"None\">Running query in &#x27;sqlite:///cdeschools.sqlite&#x27;</span>"
      ],
      "text/plain": [
       "Running query in 'sqlite:///cdeschools.sqlite'"
      ]
     },
     "metadata": {},
     "output_type": "display_data"
    },
    {
     "data": {
      "text/html": [
       "<table>\n",
       "    <thead>\n",
       "        <tr>\n",
       "            <th>Academic Year</th>\n",
       "            <th>County Code</th>\n",
       "            <th>District Code</th>\n",
       "            <th>School Code</th>\n",
       "            <th>County Name</th>\n",
       "            <th>District Name</th>\n",
       "            <th>School Name</th>\n",
       "            <th>District Type</th>\n",
       "            <th>School Type</th>\n",
       "            <th>Educational Option Type</th>\n",
       "            <th>NSLP Provision Status</th>\n",
       "            <th>Charter School (Y/N)</th>\n",
       "            <th>Charter School Number</th>\n",
       "            <th>Charter Funding Type</th>\n",
       "            <th>IRC</th>\n",
       "            <th>Low Grade</th>\n",
       "            <th>High Grade</th>\n",
       "            <th>Enrollment (K-12)</th>\n",
       "            <th>Free Meal Count (K-12)</th>\n",
       "            <th>Percent (%) Eligible Free (K-12)</th>\n",
       "            <th>FRPM Count (K-12)</th>\n",
       "            <th>Percent (%) Eligible FRPM (K-12)</th>\n",
       "            <th>Enrollment (Ages 5-17)</th>\n",
       "            <th>Free Meal Count (Ages 5-17)</th>\n",
       "            <th>Percent (%) Eligible Free (Ages 5-17)</th>\n",
       "            <th>FRPM Count (Ages 5-17)</th>\n",
       "            <th>Percent (%) Eligible FRPM (Ages 5-17)</th>\n",
       "            <th>2013-14 CALPADS Fall 1 Certification Status</th>\n",
       "        </tr>\n",
       "    </thead>\n",
       "    <tbody>\n",
       "        <tr>\n",
       "            <td>2014-2015</td>\n",
       "            <td>01</td>\n",
       "            <td>10017</td>\n",
       "            <td>0109835</td>\n",
       "            <td>Alameda</td>\n",
       "            <td>Alameda County Office of Education</td>\n",
       "            <td>FAME Public Charter</td>\n",
       "            <td>County Office of Education (COE)</td>\n",
       "            <td>K-12 Schools (Public)</td>\n",
       "            <td>Traditional</td>\n",
       "            <td>None</td>\n",
       "            <td>1</td>\n",
       "            <td>0728</td>\n",
       "            <td>Directly funded</td>\n",
       "            <td>1</td>\n",
       "            <td>K</td>\n",
       "            <td>12</td>\n",
       "            <td>1087.0</td>\n",
       "            <td>565.0</td>\n",
       "            <td>0.5197792088316467</td>\n",
       "            <td>715.0</td>\n",
       "            <td>0.6577736890524379</td>\n",
       "            <td>1070.0</td>\n",
       "            <td>553.0</td>\n",
       "            <td>0.516822429906542</td>\n",
       "            <td>702.0</td>\n",
       "            <td>0.6560747663551402</td>\n",
       "            <td>1</td>\n",
       "        </tr>\n",
       "        <tr>\n",
       "            <td>2014-2015</td>\n",
       "            <td>01</td>\n",
       "            <td>10017</td>\n",
       "            <td>0112607</td>\n",
       "            <td>Alameda</td>\n",
       "            <td>Alameda County Office of Education</td>\n",
       "            <td>Envision Academy for Arts & Technology</td>\n",
       "            <td>County Office of Education (COE)</td>\n",
       "            <td>High Schools (Public)</td>\n",
       "            <td>Traditional</td>\n",
       "            <td>None</td>\n",
       "            <td>1</td>\n",
       "            <td>0811</td>\n",
       "            <td>Directly funded</td>\n",
       "            <td>1</td>\n",
       "            <td>9</td>\n",
       "            <td>12</td>\n",
       "            <td>395.0</td>\n",
       "            <td>186.0</td>\n",
       "            <td>0.4708860759493671</td>\n",
       "            <td>186.0</td>\n",
       "            <td>0.4708860759493671</td>\n",
       "            <td>376.0</td>\n",
       "            <td>182.0</td>\n",
       "            <td>0.48404255319148937</td>\n",
       "            <td>182.0</td>\n",
       "            <td>0.48404255319148937</td>\n",
       "            <td>1</td>\n",
       "        </tr>\n",
       "        <tr>\n",
       "            <td>2014-2015</td>\n",
       "            <td>01</td>\n",
       "            <td>10017</td>\n",
       "            <td>0118489</td>\n",
       "            <td>Alameda</td>\n",
       "            <td>Alameda County Office of Education</td>\n",
       "            <td>Aspire California College Preparatory Academy</td>\n",
       "            <td>County Office of Education (COE)</td>\n",
       "            <td>High Schools (Public)</td>\n",
       "            <td>Traditional</td>\n",
       "            <td>None</td>\n",
       "            <td>1</td>\n",
       "            <td>1049</td>\n",
       "            <td>Directly funded</td>\n",
       "            <td>1</td>\n",
       "            <td>9</td>\n",
       "            <td>12</td>\n",
       "            <td>244.0</td>\n",
       "            <td>134.0</td>\n",
       "            <td>0.5491803278688525</td>\n",
       "            <td>175.0</td>\n",
       "            <td>0.7172131147540983</td>\n",
       "            <td>230.0</td>\n",
       "            <td>128.0</td>\n",
       "            <td>0.5565217391304348</td>\n",
       "            <td>168.0</td>\n",
       "            <td>0.7304347826086957</td>\n",
       "            <td>1</td>\n",
       "        </tr>\n",
       "    </tbody>\n",
       "</table>"
      ],
      "text/plain": [
       "+---------------+-------------+---------------+-------------+-------------+------------------------------------+-----------------------------------------------+----------------------------------+-----------------------+-------------------------+-----------------------+----------------------+-----------------------+----------------------+-----+-----------+------------+-------------------+------------------------+----------------------------------+-------------------+----------------------------------+------------------------+-----------------------------+---------------------------------------+------------------------+---------------------------------------+---------------------------------------------+\n",
       "| Academic Year | County Code | District Code | School Code | County Name |           District Name            |                  School Name                  |          District Type           |      School Type      | Educational Option Type | NSLP Provision Status | Charter School (Y/N) | Charter School Number | Charter Funding Type | IRC | Low Grade | High Grade | Enrollment (K-12) | Free Meal Count (K-12) | Percent (%) Eligible Free (K-12) | FRPM Count (K-12) | Percent (%) Eligible FRPM (K-12) | Enrollment (Ages 5-17) | Free Meal Count (Ages 5-17) | Percent (%) Eligible Free (Ages 5-17) | FRPM Count (Ages 5-17) | Percent (%) Eligible FRPM (Ages 5-17) | 2013-14 CALPADS Fall 1 Certification Status |\n",
       "+---------------+-------------+---------------+-------------+-------------+------------------------------------+-----------------------------------------------+----------------------------------+-----------------------+-------------------------+-----------------------+----------------------+-----------------------+----------------------+-----+-----------+------------+-------------------+------------------------+----------------------------------+-------------------+----------------------------------+------------------------+-----------------------------+---------------------------------------+------------------------+---------------------------------------+---------------------------------------------+\n",
       "|   2014-2015   |      01     |     10017     |   0109835   |   Alameda   | Alameda County Office of Education |              FAME Public Charter              | County Office of Education (COE) | K-12 Schools (Public) |       Traditional       |          None         |          1           |          0728         |   Directly funded    |  1  |     K     |     12     |       1087.0      |         565.0          |        0.5197792088316467        |       715.0       |        0.6577736890524379        |         1070.0         |            553.0            |           0.516822429906542           |         702.0          |           0.6560747663551402          |                      1                      |\n",
       "|   2014-2015   |      01     |     10017     |   0112607   |   Alameda   | Alameda County Office of Education |     Envision Academy for Arts & Technology    | County Office of Education (COE) | High Schools (Public) |       Traditional       |          None         |          1           |          0811         |   Directly funded    |  1  |     9     |     12     |       395.0       |         186.0          |        0.4708860759493671        |       186.0       |        0.4708860759493671        |         376.0          |            182.0            |          0.48404255319148937          |         182.0          |          0.48404255319148937          |                      1                      |\n",
       "|   2014-2015   |      01     |     10017     |   0118489   |   Alameda   | Alameda County Office of Education | Aspire California College Preparatory Academy | County Office of Education (COE) | High Schools (Public) |       Traditional       |          None         |          1           |          1049         |   Directly funded    |  1  |     9     |     12     |       244.0       |         134.0          |        0.5491803278688525        |       175.0       |        0.7172131147540983        |         230.0          |            128.0            |           0.5565217391304348          |         168.0          |           0.7304347826086957          |                      1                      |\n",
       "+---------------+-------------+---------------+-------------+-------------+------------------------------------+-----------------------------------------------+----------------------------------+-----------------------+-------------------------+-----------------------+----------------------+-----------------------+----------------------+-----+-----------+------------+-------------------+------------------------+----------------------------------+-------------------+----------------------------------+------------------------+-----------------------------+---------------------------------------+------------------------+---------------------------------------+---------------------------------------------+"
      ]
     },
     "execution_count": 110,
     "metadata": {},
     "output_type": "execute_result"
    }
   ],
   "source": [
    "%%sql\n",
    "SELECT *\n",
    "FROM frpm\n",
    "LIMIT 3;"
   ]
  },
  {
   "cell_type": "code",
   "execution_count": 111,
   "id": "9d31fc43",
   "metadata": {},
   "outputs": [
    {
     "data": {
      "text/html": [
       "<span style=\"None\">Running query in &#x27;sqlite:///cdeschools.sqlite&#x27;</span>"
      ],
      "text/plain": [
       "Running query in 'sqlite:///cdeschools.sqlite'"
      ]
     },
     "metadata": {},
     "output_type": "display_data"
    },
    {
     "data": {
      "text/html": [
       "<table>\n",
       "    <thead>\n",
       "        <tr>\n",
       "            <th>cds</th>\n",
       "            <th>rtype</th>\n",
       "            <th>sname</th>\n",
       "            <th>dname</th>\n",
       "            <th>cname</th>\n",
       "            <th>enroll12</th>\n",
       "            <th>NumTstTakr</th>\n",
       "            <th>AvgScrRead</th>\n",
       "            <th>AvgScrMath</th>\n",
       "            <th>AvgScrWrite</th>\n",
       "            <th>NumGE1500</th>\n",
       "            <th>PctGE1500</th>\n",
       "        </tr>\n",
       "    </thead>\n",
       "    <tbody>\n",
       "        <tr>\n",
       "            <td>00000000000000</td>\n",
       "            <td>X</td>\n",
       "            <td>None</td>\n",
       "            <td>None</td>\n",
       "            <td>None</td>\n",
       "            <td>496901</td>\n",
       "            <td>210706</td>\n",
       "            <td>489</td>\n",
       "            <td>500</td>\n",
       "            <td>484</td>\n",
       "            <td>93334</td>\n",
       "            <td>44.3</td>\n",
       "        </tr>\n",
       "        <tr>\n",
       "            <td>01000000000000</td>\n",
       "            <td>C</td>\n",
       "            <td>None</td>\n",
       "            <td>None</td>\n",
       "            <td>Alameda</td>\n",
       "            <td>16978</td>\n",
       "            <td>8855</td>\n",
       "            <td>516</td>\n",
       "            <td>536</td>\n",
       "            <td>517</td>\n",
       "            <td>4900</td>\n",
       "            <td>55.34</td>\n",
       "        </tr>\n",
       "        <tr>\n",
       "            <td>01100170000000</td>\n",
       "            <td>D</td>\n",
       "            <td>None</td>\n",
       "            <td>Alameda County Office of Education</td>\n",
       "            <td>Alameda</td>\n",
       "            <td>398</td>\n",
       "            <td>88</td>\n",
       "            <td>418</td>\n",
       "            <td>418</td>\n",
       "            <td>417</td>\n",
       "            <td>14</td>\n",
       "            <td>15.91</td>\n",
       "        </tr>\n",
       "    </tbody>\n",
       "</table>"
      ],
      "text/plain": [
       "+----------------+-------+-------+------------------------------------+---------+----------+------------+------------+------------+-------------+-----------+-----------+\n",
       "|      cds       | rtype | sname |               dname                |  cname  | enroll12 | NumTstTakr | AvgScrRead | AvgScrMath | AvgScrWrite | NumGE1500 | PctGE1500 |\n",
       "+----------------+-------+-------+------------------------------------+---------+----------+------------+------------+------------+-------------+-----------+-----------+\n",
       "| 00000000000000 |   X   |  None |                None                |   None  |  496901  |   210706   |    489     |    500     |     484     |   93334   |    44.3   |\n",
       "| 01000000000000 |   C   |  None |                None                | Alameda |  16978   |    8855    |    516     |    536     |     517     |    4900   |   55.34   |\n",
       "| 01100170000000 |   D   |  None | Alameda County Office of Education | Alameda |   398    |     88     |    418     |    418     |     417     |     14    |   15.91   |\n",
       "+----------------+-------+-------+------------------------------------+---------+----------+------------+------------+------------+-------------+-----------+-----------+"
      ]
     },
     "execution_count": 111,
     "metadata": {},
     "output_type": "execute_result"
    }
   ],
   "source": [
    "%%sql\n",
    "SELECT *\n",
    "FROM satscores\n",
    "LIMIT 3;"
   ]
  },
  {
   "cell_type": "code",
   "execution_count": 112,
   "id": "f2d17298",
   "metadata": {},
   "outputs": [
    {
     "data": {
      "text/html": [
       "<span style=\"None\">Running query in &#x27;sqlite:///cdeschools.sqlite&#x27;</span>"
      ],
      "text/plain": [
       "Running query in 'sqlite:///cdeschools.sqlite'"
      ]
     },
     "metadata": {},
     "output_type": "display_data"
    },
    {
     "data": {
      "text/html": [
       "<table>\n",
       "    <thead>\n",
       "        <tr>\n",
       "            <th>CDSCode</th>\n",
       "            <th>NCESDist</th>\n",
       "            <th>NCESSchool</th>\n",
       "            <th>StatusType</th>\n",
       "            <th>County</th>\n",
       "            <th>District</th>\n",
       "            <th>School</th>\n",
       "            <th>Street</th>\n",
       "            <th>StreetAbr</th>\n",
       "            <th>City</th>\n",
       "            <th>Zip</th>\n",
       "            <th>State</th>\n",
       "            <th>MailStreet</th>\n",
       "            <th>MailStrAbr</th>\n",
       "            <th>MailCity</th>\n",
       "            <th>MailZip</th>\n",
       "            <th>MailState</th>\n",
       "            <th>Phone</th>\n",
       "            <th>Ext</th>\n",
       "            <th>Website</th>\n",
       "            <th>OpenDate</th>\n",
       "            <th>ClosedDate</th>\n",
       "            <th>Charter</th>\n",
       "            <th>CharterNum</th>\n",
       "            <th>FundingType</th>\n",
       "            <th>DOC</th>\n",
       "            <th>DOCType</th>\n",
       "            <th>SOC</th>\n",
       "            <th>SOCType</th>\n",
       "            <th>EdOpsCode</th>\n",
       "            <th>EdOpsName</th>\n",
       "            <th>EILCode</th>\n",
       "            <th>EILName</th>\n",
       "            <th>GSoffered</th>\n",
       "            <th>GSserved</th>\n",
       "            <th>Virtual</th>\n",
       "            <th>Magnet</th>\n",
       "            <th>Latitude</th>\n",
       "            <th>Longitude</th>\n",
       "            <th>AdmFName1</th>\n",
       "            <th>AdmLName1</th>\n",
       "            <th>AdmEmail1</th>\n",
       "            <th>AdmFName2</th>\n",
       "            <th>AdmLName2</th>\n",
       "            <th>AdmEmail2</th>\n",
       "            <th>AdmFName3</th>\n",
       "            <th>AdmLName3</th>\n",
       "            <th>AdmEmail3</th>\n",
       "            <th>LastUpdate</th>\n",
       "        </tr>\n",
       "    </thead>\n",
       "    <tbody>\n",
       "        <tr>\n",
       "            <td>01100170000000</td>\n",
       "            <td>0691051</td>\n",
       "            <td>None</td>\n",
       "            <td>Active</td>\n",
       "            <td>Alameda</td>\n",
       "            <td>Alameda County Office of Education</td>\n",
       "            <td>None</td>\n",
       "            <td>313 West Winton Avenue</td>\n",
       "            <td>313 West Winton Ave.</td>\n",
       "            <td>Hayward</td>\n",
       "            <td>94544-1136</td>\n",
       "            <td>CA</td>\n",
       "            <td>313 West Winton Avenue</td>\n",
       "            <td>313 West Winton Ave.</td>\n",
       "            <td>Hayward</td>\n",
       "            <td>94544-1136</td>\n",
       "            <td>CA</td>\n",
       "            <td>(510) 887-0152</td>\n",
       "            <td>None</td>\n",
       "            <td>www.acoe.org</td>\n",
       "            <td>None</td>\n",
       "            <td>None</td>\n",
       "            <td>None</td>\n",
       "            <td>None</td>\n",
       "            <td>None</td>\n",
       "            <td>00</td>\n",
       "            <td>County Office of Education (COE)</td>\n",
       "            <td>None</td>\n",
       "            <td>None</td>\n",
       "            <td>None</td>\n",
       "            <td>None</td>\n",
       "            <td>None</td>\n",
       "            <td>None</td>\n",
       "            <td>None</td>\n",
       "            <td>None</td>\n",
       "            <td>None</td>\n",
       "            <td>None</td>\n",
       "            <td>37.658212</td>\n",
       "            <td>-122.09713</td>\n",
       "            <td>L Karen</td>\n",
       "            <td>Monroe</td>\n",
       "            <td>lkmonroe@acoe.org</td>\n",
       "            <td>None</td>\n",
       "            <td>None</td>\n",
       "            <td>None</td>\n",
       "            <td>None</td>\n",
       "            <td>None</td>\n",
       "            <td>None</td>\n",
       "            <td>2015-06-23</td>\n",
       "        </tr>\n",
       "        <tr>\n",
       "            <td>01100170109835</td>\n",
       "            <td>0691051</td>\n",
       "            <td>10546</td>\n",
       "            <td>Closed</td>\n",
       "            <td>Alameda</td>\n",
       "            <td>Alameda County Office of Education</td>\n",
       "            <td>FAME Public Charter</td>\n",
       "            <td>39899 Balentine Drive, Suite 335</td>\n",
       "            <td>39899 Balentine Dr., Ste. 335</td>\n",
       "            <td>Newark</td>\n",
       "            <td>94560-5359</td>\n",
       "            <td>CA</td>\n",
       "            <td>39899 Balentine Drive, Suite 335</td>\n",
       "            <td>39899 Balentine Dr., Ste. 335</td>\n",
       "            <td>Newark</td>\n",
       "            <td>94560-5359</td>\n",
       "            <td>CA</td>\n",
       "            <td>None</td>\n",
       "            <td>None</td>\n",
       "            <td>None</td>\n",
       "            <td>2005-08-29</td>\n",
       "            <td>2015-07-31</td>\n",
       "            <td>1</td>\n",
       "            <td>0728</td>\n",
       "            <td>Directly funded</td>\n",
       "            <td>00</td>\n",
       "            <td>County Office of Education (COE)</td>\n",
       "            <td>65</td>\n",
       "            <td>K-12 Schools (Public)</td>\n",
       "            <td>TRAD</td>\n",
       "            <td>Traditional</td>\n",
       "            <td>ELEMHIGH</td>\n",
       "            <td>Elementary-High Combination</td>\n",
       "            <td>K-12</td>\n",
       "            <td>K-12</td>\n",
       "            <td>P</td>\n",
       "            <td>0</td>\n",
       "            <td>37.521436</td>\n",
       "            <td>-121.99391</td>\n",
       "            <td>None</td>\n",
       "            <td>None</td>\n",
       "            <td>None</td>\n",
       "            <td>None</td>\n",
       "            <td>None</td>\n",
       "            <td>None</td>\n",
       "            <td>None</td>\n",
       "            <td>None</td>\n",
       "            <td>None</td>\n",
       "            <td>2015-09-01</td>\n",
       "        </tr>\n",
       "        <tr>\n",
       "            <td>01100170112607</td>\n",
       "            <td>0691051</td>\n",
       "            <td>10947</td>\n",
       "            <td>Active</td>\n",
       "            <td>Alameda</td>\n",
       "            <td>Alameda County Office of Education</td>\n",
       "            <td>Envision Academy for Arts & Technology</td>\n",
       "            <td>1515 Webster Street</td>\n",
       "            <td>1515 Webster St.</td>\n",
       "            <td>Oakland</td>\n",
       "            <td>94612-3355</td>\n",
       "            <td>CA</td>\n",
       "            <td>1515 Webster Street</td>\n",
       "            <td>1515 Webster St.</td>\n",
       "            <td>Oakland</td>\n",
       "            <td>94612</td>\n",
       "            <td>CA</td>\n",
       "            <td>(510) 596-8901</td>\n",
       "            <td>None</td>\n",
       "            <td>www.envisionacademy.org/</td>\n",
       "            <td>2006-08-28</td>\n",
       "            <td>None</td>\n",
       "            <td>1</td>\n",
       "            <td>0811</td>\n",
       "            <td>Directly funded</td>\n",
       "            <td>00</td>\n",
       "            <td>County Office of Education (COE)</td>\n",
       "            <td>66</td>\n",
       "            <td>High Schools (Public)</td>\n",
       "            <td>TRAD</td>\n",
       "            <td>Traditional</td>\n",
       "            <td>HS</td>\n",
       "            <td>High School</td>\n",
       "            <td>9-12</td>\n",
       "            <td>9-12</td>\n",
       "            <td>N</td>\n",
       "            <td>0</td>\n",
       "            <td>37.80452</td>\n",
       "            <td>-122.26815</td>\n",
       "            <td>Laura</td>\n",
       "            <td>Robell</td>\n",
       "            <td>laura@envisionacademy.org</td>\n",
       "            <td>None</td>\n",
       "            <td>None</td>\n",
       "            <td>None</td>\n",
       "            <td>None</td>\n",
       "            <td>None</td>\n",
       "            <td>None</td>\n",
       "            <td>2015-06-18</td>\n",
       "        </tr>\n",
       "    </tbody>\n",
       "</table>"
      ],
      "text/plain": [
       "+----------------+----------+------------+------------+---------+------------------------------------+----------------------------------------+----------------------------------+-------------------------------+---------+------------+-------+----------------------------------+-------------------------------+----------+------------+-----------+----------------+------+--------------------------+------------+------------+---------+------------+-----------------+-----+----------------------------------+------+-----------------------+-----------+-------------+----------+-----------------------------+-----------+----------+---------+--------+-----------+------------+-----------+-----------+---------------------------+-----------+-----------+-----------+-----------+-----------+-----------+------------+\n",
       "|    CDSCode     | NCESDist | NCESSchool | StatusType |  County |              District              |                 School                 |              Street              |           StreetAbr           |   City  |    Zip     | State |            MailStreet            |           MailStrAbr          | MailCity |  MailZip   | MailState |     Phone      | Ext  |         Website          |  OpenDate  | ClosedDate | Charter | CharterNum |   FundingType   | DOC |             DOCType              | SOC  |        SOCType        | EdOpsCode |  EdOpsName  | EILCode  |           EILName           | GSoffered | GSserved | Virtual | Magnet |  Latitude | Longitude  | AdmFName1 | AdmLName1 |         AdmEmail1         | AdmFName2 | AdmLName2 | AdmEmail2 | AdmFName3 | AdmLName3 | AdmEmail3 | LastUpdate |\n",
       "+----------------+----------+------------+------------+---------+------------------------------------+----------------------------------------+----------------------------------+-------------------------------+---------+------------+-------+----------------------------------+-------------------------------+----------+------------+-----------+----------------+------+--------------------------+------------+------------+---------+------------+-----------------+-----+----------------------------------+------+-----------------------+-----------+-------------+----------+-----------------------------+-----------+----------+---------+--------+-----------+------------+-----------+-----------+---------------------------+-----------+-----------+-----------+-----------+-----------+-----------+------------+\n",
       "| 01100170000000 | 0691051  |    None    |   Active   | Alameda | Alameda County Office of Education |                  None                  |      313 West Winton Avenue      |      313 West Winton Ave.     | Hayward | 94544-1136 |   CA  |      313 West Winton Avenue      |      313 West Winton Ave.     | Hayward  | 94544-1136 |     CA    | (510) 887-0152 | None |       www.acoe.org       |    None    |    None    |   None  |    None    |       None      |  00 | County Office of Education (COE) | None |          None         |    None   |     None    |   None   |             None            |    None   |   None   |   None  |  None  | 37.658212 | -122.09713 |  L Karen  |   Monroe  |     lkmonroe@acoe.org     |    None   |    None   |    None   |    None   |    None   |    None   | 2015-06-23 |\n",
       "| 01100170109835 | 0691051  |   10546    |   Closed   | Alameda | Alameda County Office of Education |          FAME Public Charter           | 39899 Balentine Drive, Suite 335 | 39899 Balentine Dr., Ste. 335 |  Newark | 94560-5359 |   CA  | 39899 Balentine Drive, Suite 335 | 39899 Balentine Dr., Ste. 335 |  Newark  | 94560-5359 |     CA    |      None      | None |           None           | 2005-08-29 | 2015-07-31 |    1    |    0728    | Directly funded |  00 | County Office of Education (COE) |  65  | K-12 Schools (Public) |    TRAD   | Traditional | ELEMHIGH | Elementary-High Combination |    K-12   |   K-12   |    P    |   0    | 37.521436 | -121.99391 |    None   |    None   |            None           |    None   |    None   |    None   |    None   |    None   |    None   | 2015-09-01 |\n",
       "| 01100170112607 | 0691051  |   10947    |   Active   | Alameda | Alameda County Office of Education | Envision Academy for Arts & Technology |       1515 Webster Street        |        1515 Webster St.       | Oakland | 94612-3355 |   CA  |       1515 Webster Street        |        1515 Webster St.       | Oakland  |   94612    |     CA    | (510) 596-8901 | None | www.envisionacademy.org/ | 2006-08-28 |    None    |    1    |    0811    | Directly funded |  00 | County Office of Education (COE) |  66  | High Schools (Public) |    TRAD   | Traditional |    HS    |         High School         |    9-12   |   9-12   |    N    |   0    |  37.80452 | -122.26815 |   Laura   |   Robell  | laura@envisionacademy.org |    None   |    None   |    None   |    None   |    None   |    None   | 2015-06-18 |\n",
       "+----------------+----------+------------+------------+---------+------------------------------------+----------------------------------------+----------------------------------+-------------------------------+---------+------------+-------+----------------------------------+-------------------------------+----------+------------+-----------+----------------+------+--------------------------+------------+------------+---------+------------+-----------------+-----+----------------------------------+------+-----------------------+-----------+-------------+----------+-----------------------------+-----------+----------+---------+--------+-----------+------------+-----------+-----------+---------------------------+-----------+-----------+-----------+-----------+-----------+-----------+------------+"
      ]
     },
     "execution_count": 112,
     "metadata": {},
     "output_type": "execute_result"
    }
   ],
   "source": [
    "%%sql\n",
    "SELECT *\n",
    "FROM schools\n",
    "LIMIT 3;"
   ]
  },
  {
   "cell_type": "markdown",
   "id": "35135800",
   "metadata": {},
   "source": [
    "## 1. Basic Queries"
   ]
  },
  {
   "cell_type": "markdown",
   "id": "fc35a1b8",
   "metadata": {},
   "source": [
    "### Project Columns"
   ]
  },
  {
   "cell_type": "markdown",
   "id": "0953e4ae",
   "metadata": {},
   "source": [
    "Retrieve the `School Name`, `County Name` and `Enrollment (K-12)` from frpm."
   ]
  },
  {
   "cell_type": "code",
   "execution_count": 113,
   "id": "4f753129",
   "metadata": {},
   "outputs": [
    {
     "data": {
      "text/html": [
       "<span style=\"None\">Running query in &#x27;sqlite:///cdeschools.sqlite&#x27;</span>"
      ],
      "text/plain": [
       "Running query in 'sqlite:///cdeschools.sqlite'"
      ]
     },
     "metadata": {},
     "output_type": "display_data"
    },
    {
     "data": {
      "text/html": [
       "<table>\n",
       "    <thead>\n",
       "        <tr>\n",
       "            <th>school_name</th>\n",
       "            <th>county_name</th>\n",
       "            <th>enrolment_k12</th>\n",
       "        </tr>\n",
       "    </thead>\n",
       "    <tbody>\n",
       "        <tr>\n",
       "            <td>FAME Public Charter</td>\n",
       "            <td>Alameda</td>\n",
       "            <td>1087.0</td>\n",
       "        </tr>\n",
       "        <tr>\n",
       "            <td>Envision Academy for Arts & Technology</td>\n",
       "            <td>Alameda</td>\n",
       "            <td>395.0</td>\n",
       "        </tr>\n",
       "        <tr>\n",
       "            <td>Aspire California College Preparatory Academy</td>\n",
       "            <td>Alameda</td>\n",
       "            <td>244.0</td>\n",
       "        </tr>\n",
       "    </tbody>\n",
       "</table>"
      ],
      "text/plain": [
       "+-----------------------------------------------+-------------+---------------+\n",
       "|                  school_name                  | county_name | enrolment_k12 |\n",
       "+-----------------------------------------------+-------------+---------------+\n",
       "|              FAME Public Charter              |   Alameda   |     1087.0    |\n",
       "|     Envision Academy for Arts & Technology    |   Alameda   |     395.0     |\n",
       "| Aspire California College Preparatory Academy |   Alameda   |     244.0     |\n",
       "+-----------------------------------------------+-------------+---------------+"
      ]
     },
     "execution_count": 113,
     "metadata": {},
     "output_type": "execute_result"
    }
   ],
   "source": [
    "%%sql\n",
    "SELECT \"School Name\" AS school_name, \"County Name\" AS county_name, \"Enrollment (K-12)\" AS enrolment_k12\n",
    "FROM frpm\n",
    "LIMIT 3;"
   ]
  },
  {
   "cell_type": "markdown",
   "id": "df1f5526",
   "metadata": {},
   "source": [
    "### Simple Filtering"
   ]
  },
  {
   "cell_type": "markdown",
   "id": "bcd352f0",
   "metadata": {},
   "source": [
    "List all schools in the “Los Angeles” county (from schools) that are open."
   ]
  },
  {
   "cell_type": "code",
   "execution_count": 114,
   "id": "e1886666",
   "metadata": {},
   "outputs": [
    {
     "data": {
      "text/html": [
       "<span style=\"None\">Running query in &#x27;sqlite:///cdeschools.sqlite&#x27;</span>"
      ],
      "text/plain": [
       "Running query in 'sqlite:///cdeschools.sqlite'"
      ]
     },
     "metadata": {},
     "output_type": "display_data"
    },
    {
     "data": {
      "text/html": [
       "<table>\n",
       "    <thead>\n",
       "        <tr>\n",
       "            <th>school_name</th>\n",
       "            <th>county_name</th>\n",
       "            <th>open_date</th>\n",
       "        </tr>\n",
       "    </thead>\n",
       "    <tbody>\n",
       "        <tr>\n",
       "            <td>Jardin de la Infancia</td>\n",
       "            <td>Los Angeles</td>\n",
       "            <td>2004-09-01</td>\n",
       "        </tr>\n",
       "        <tr>\n",
       "            <td>Aspire Antonio Maria Lugo Academy</td>\n",
       "            <td>Los Angeles</td>\n",
       "            <td>2005-09-06</td>\n",
       "        </tr>\n",
       "        <tr>\n",
       "            <td>Los Angeles International Charter High</td>\n",
       "            <td>Los Angeles</td>\n",
       "            <td>2005-09-06</td>\n",
       "        </tr>\n",
       "        <tr>\n",
       "            <td>Aspire Ollin University Preparatory Academy</td>\n",
       "            <td>Los Angeles</td>\n",
       "            <td>2006-09-11</td>\n",
       "        </tr>\n",
       "        <tr>\n",
       "            <td>Environmental Charter Middle</td>\n",
       "            <td>Los Angeles</td>\n",
       "            <td>2010-08-31</td>\n",
       "        </tr>\n",
       "        <tr>\n",
       "            <td>Nidorf, Barry J.</td>\n",
       "            <td>Los Angeles</td>\n",
       "            <td>2010-07-01</td>\n",
       "        </tr>\n",
       "        <tr>\n",
       "            <td>Los Padrinos Juvenile Hall</td>\n",
       "            <td>Los Angeles</td>\n",
       "            <td>2010-07-01</td>\n",
       "        </tr>\n",
       "        <tr>\n",
       "            <td>Central Juvenile Hall</td>\n",
       "            <td>Los Angeles</td>\n",
       "            <td>2010-07-01</td>\n",
       "        </tr>\n",
       "        <tr>\n",
       "            <td>Kirby, Dorothy Camp</td>\n",
       "            <td>Los Angeles</td>\n",
       "            <td>2010-07-01</td>\n",
       "        </tr>\n",
       "        <tr>\n",
       "            <td>Afflerbaugh-Paige Camp</td>\n",
       "            <td>Los Angeles</td>\n",
       "            <td>2010-07-01</td>\n",
       "        </tr>\n",
       "    </tbody>\n",
       "</table>\n",
       "<span style=\"font-style:italic;text-align:center;\">Truncated to <a href=\"https://jupysql.ploomber.io/en/latest/api/configuration.html#displaylimit\">displaylimit</a> of 10.</span>"
      ],
      "text/plain": [
       "+---------------------------------------------+-------------+------------+\n",
       "|                 school_name                 | county_name | open_date  |\n",
       "+---------------------------------------------+-------------+------------+\n",
       "|            Jardin de la Infancia            | Los Angeles | 2004-09-01 |\n",
       "|      Aspire Antonio Maria Lugo Academy      | Los Angeles | 2005-09-06 |\n",
       "|    Los Angeles International Charter High   | Los Angeles | 2005-09-06 |\n",
       "| Aspire Ollin University Preparatory Academy | Los Angeles | 2006-09-11 |\n",
       "|         Environmental Charter Middle        | Los Angeles | 2010-08-31 |\n",
       "|               Nidorf, Barry J.              | Los Angeles | 2010-07-01 |\n",
       "|          Los Padrinos Juvenile Hall         | Los Angeles | 2010-07-01 |\n",
       "|            Central Juvenile Hall            | Los Angeles | 2010-07-01 |\n",
       "|             Kirby, Dorothy Camp             | Los Angeles | 2010-07-01 |\n",
       "|            Afflerbaugh-Paige Camp           | Los Angeles | 2010-07-01 |\n",
       "+---------------------------------------------+-------------+------------+\n",
       "Truncated to displaylimit of 10."
      ]
     },
     "execution_count": 114,
     "metadata": {},
     "output_type": "execute_result"
    }
   ],
   "source": [
    "%%sql\n",
    "SELECT \"School\" AS school_name, \"County\" AS county_name, OpenDate AS open_date\n",
    "FROM schools\n",
    "WHERE StatusType IS NOT \"Closed\" AND school_name IS NOT NULL AND county_name IS \"Los Angeles\";"
   ]
  },
  {
   "cell_type": "markdown",
   "id": "3fa76d00",
   "metadata": {},
   "source": [
    "### Sorting and Filtering"
   ]
  },
  {
   "cell_type": "markdown",
   "id": "2de88706",
   "metadata": {},
   "source": [
    "From satscores, find the top 5 schools by `AvgScrMath`, showing `sname`, `AvgScrRead`, `AvgScrMath`."
   ]
  },
  {
   "cell_type": "code",
   "execution_count": 115,
   "id": "8f7269a5",
   "metadata": {},
   "outputs": [
    {
     "data": {
      "text/html": [
       "<span style=\"None\">Running query in &#x27;sqlite:///cdeschools.sqlite&#x27;</span>"
      ],
      "text/plain": [
       "Running query in 'sqlite:///cdeschools.sqlite'"
      ]
     },
     "metadata": {},
     "output_type": "display_data"
    },
    {
     "data": {
      "text/html": [
       "<table>\n",
       "    <thead>\n",
       "        <tr>\n",
       "            <th>school_name</th>\n",
       "            <th>avg_scr_math</th>\n",
       "            <th>avg_scr_read</th>\n",
       "        </tr>\n",
       "    </thead>\n",
       "    <tbody>\n",
       "        <tr>\n",
       "            <td>Mission San Jose High</td>\n",
       "            <td>699</td>\n",
       "            <td>653</td>\n",
       "        </tr>\n",
       "        <tr>\n",
       "            <td>Lynbrook High</td>\n",
       "            <td>698</td>\n",
       "            <td>639</td>\n",
       "        </tr>\n",
       "        <tr>\n",
       "            <td>Monta Vista High</td>\n",
       "            <td>691</td>\n",
       "            <td>638</td>\n",
       "        </tr>\n",
       "        <tr>\n",
       "            <td>Whitney (Gretchen) High</td>\n",
       "            <td>687</td>\n",
       "            <td>639</td>\n",
       "        </tr>\n",
       "        <tr>\n",
       "            <td>Henry M. Gunn High</td>\n",
       "            <td>686</td>\n",
       "            <td>642</td>\n",
       "        </tr>\n",
       "    </tbody>\n",
       "</table>"
      ],
      "text/plain": [
       "+-------------------------+--------------+--------------+\n",
       "|       school_name       | avg_scr_math | avg_scr_read |\n",
       "+-------------------------+--------------+--------------+\n",
       "|  Mission San Jose High  |     699      |     653      |\n",
       "|      Lynbrook High      |     698      |     639      |\n",
       "|     Monta Vista High    |     691      |     638      |\n",
       "| Whitney (Gretchen) High |     687      |     639      |\n",
       "|    Henry M. Gunn High   |     686      |     642      |\n",
       "+-------------------------+--------------+--------------+"
      ]
     },
     "execution_count": 115,
     "metadata": {},
     "output_type": "execute_result"
    }
   ],
   "source": [
    "%%sql\n",
    "SELECT sname AS school_name, AvgScrMath AS avg_scr_math, AvgScrRead AS avg_scr_read\n",
    "FROM satscores\n",
    "ORDER BY avg_scr_math DESC\n",
    "LIMIT 5;"
   ]
  },
  {
   "cell_type": "markdown",
   "id": "913bf098",
   "metadata": {},
   "source": [
    "### Distinct Values"
   ]
  },
  {
   "cell_type": "markdown",
   "id": "ceec3148",
   "metadata": {},
   "source": [
    "Get all distinct `FundingType` values from schools."
   ]
  },
  {
   "cell_type": "code",
   "execution_count": 116,
   "id": "573bd6c7",
   "metadata": {},
   "outputs": [
    {
     "data": {
      "text/html": [
       "<span style=\"None\">Running query in &#x27;sqlite:///cdeschools.sqlite&#x27;</span>"
      ],
      "text/plain": [
       "Running query in 'sqlite:///cdeschools.sqlite'"
      ]
     },
     "metadata": {},
     "output_type": "display_data"
    },
    {
     "data": {
      "text/html": [
       "<table>\n",
       "    <thead>\n",
       "        <tr>\n",
       "            <th>funding_type</th>\n",
       "            <th>number_of_schools</th>\n",
       "        </tr>\n",
       "    </thead>\n",
       "    <tbody>\n",
       "        <tr>\n",
       "            <td>None</td>\n",
       "            <td>16044</td>\n",
       "        </tr>\n",
       "        <tr>\n",
       "            <td>Directly funded</td>\n",
       "            <td>1176</td>\n",
       "        </tr>\n",
       "        <tr>\n",
       "            <td>Locally funded</td>\n",
       "            <td>460</td>\n",
       "        </tr>\n",
       "        <tr>\n",
       "            <td>Not in CS funding model</td>\n",
       "            <td>6</td>\n",
       "        </tr>\n",
       "    </tbody>\n",
       "</table>"
      ],
      "text/plain": [
       "+-------------------------+-------------------+\n",
       "|       funding_type      | number_of_schools |\n",
       "+-------------------------+-------------------+\n",
       "|           None          |       16044       |\n",
       "|     Directly funded     |        1176       |\n",
       "|      Locally funded     |        460        |\n",
       "| Not in CS funding model |         6         |\n",
       "+-------------------------+-------------------+"
      ]
     },
     "execution_count": 116,
     "metadata": {},
     "output_type": "execute_result"
    }
   ],
   "source": [
    "%%sql\n",
    "SELECT DISTINCT(FundingType) AS funding_type, COUNT(*) AS number_of_schools\n",
    "FROM schools\n",
    "GROUP BY funding_type;"
   ]
  },
  {
   "cell_type": "markdown",
   "id": "b4d8a2a0",
   "metadata": {},
   "source": [
    "## Aggregations and Groupings"
   ]
  },
  {
   "cell_type": "markdown",
   "id": "bd69ac03",
   "metadata": {},
   "source": [
    "### Basic Aggregates"
   ]
  },
  {
   "cell_type": "markdown",
   "id": "e406eb04",
   "metadata": {},
   "source": [
    "For each district in frpm (`District Name`), compute the total `Enrollment (K-12)` and average `Percent (%) Eligible FRPM (K-12)`."
   ]
  },
  {
   "cell_type": "code",
   "execution_count": 117,
   "id": "c96739d4",
   "metadata": {},
   "outputs": [
    {
     "data": {
      "text/html": [
       "<span style=\"None\">Running query in &#x27;sqlite:///cdeschools.sqlite&#x27;</span>"
      ],
      "text/plain": [
       "Running query in 'sqlite:///cdeschools.sqlite'"
      ]
     },
     "metadata": {},
     "output_type": "display_data"
    },
    {
     "data": {
      "text/html": [
       "<table>\n",
       "    <thead>\n",
       "        <tr>\n",
       "            <th>district_name</th>\n",
       "            <th>total_enrolment_k12</th>\n",
       "            <th>avg_pct_eligible_frpm_k12</th>\n",
       "        </tr>\n",
       "    </thead>\n",
       "    <tbody>\n",
       "        <tr>\n",
       "            <td>None</td>\n",
       "            <td>6236439.0</td>\n",
       "            <td>0.5861716918901957</td>\n",
       "        </tr>\n",
       "        <tr>\n",
       "            <td>Los Angeles Unified</td>\n",
       "            <td>646683.0</td>\n",
       "            <td>0.7661354707053055</td>\n",
       "        </tr>\n",
       "        <tr>\n",
       "            <td>San Diego Unified</td>\n",
       "            <td>129794.0</td>\n",
       "            <td>0.6341436895240766</td>\n",
       "        </tr>\n",
       "        <tr>\n",
       "            <td>Long Beach Unified</td>\n",
       "            <td>79709.0</td>\n",
       "            <td>0.6499238451630597</td>\n",
       "        </tr>\n",
       "        <tr>\n",
       "            <td>Fresno Unified</td>\n",
       "            <td>73543.0</td>\n",
       "            <td>0.8505455348746777</td>\n",
       "        </tr>\n",
       "        <tr>\n",
       "            <td>Elk Grove Unified</td>\n",
       "            <td>62888.0</td>\n",
       "            <td>0.5605733170202977</td>\n",
       "        </tr>\n",
       "        <tr>\n",
       "            <td>San Francisco Unified</td>\n",
       "            <td>58414.0</td>\n",
       "            <td>0.6422081930672513</td>\n",
       "        </tr>\n",
       "        <tr>\n",
       "            <td>Santa Ana Unified</td>\n",
       "            <td>56815.0</td>\n",
       "            <td>0.8565427846367221</td>\n",
       "        </tr>\n",
       "        <tr>\n",
       "            <td>Capistrano Unified</td>\n",
       "            <td>54036.0</td>\n",
       "            <td>0.24393433223604294</td>\n",
       "        </tr>\n",
       "        <tr>\n",
       "            <td>Corona-Norco Unified</td>\n",
       "            <td>53739.0</td>\n",
       "            <td>0.4835829509222873</td>\n",
       "        </tr>\n",
       "    </tbody>\n",
       "</table>\n",
       "<span style=\"font-style:italic;text-align:center;\">Truncated to <a href=\"https://jupysql.ploomber.io/en/latest/api/configuration.html#displaylimit\">displaylimit</a> of 10.</span>"
      ],
      "text/plain": [
       "+-----------------------+---------------------+---------------------------+\n",
       "|     district_name     | total_enrolment_k12 | avg_pct_eligible_frpm_k12 |\n",
       "+-----------------------+---------------------+---------------------------+\n",
       "|          None         |      6236439.0      |     0.5861716918901957    |\n",
       "|  Los Angeles Unified  |       646683.0      |     0.7661354707053055    |\n",
       "|   San Diego Unified   |       129794.0      |     0.6341436895240766    |\n",
       "|   Long Beach Unified  |       79709.0       |     0.6499238451630597    |\n",
       "|     Fresno Unified    |       73543.0       |     0.8505455348746777    |\n",
       "|   Elk Grove Unified   |       62888.0       |     0.5605733170202977    |\n",
       "| San Francisco Unified |       58414.0       |     0.6422081930672513    |\n",
       "|   Santa Ana Unified   |       56815.0       |     0.8565427846367221    |\n",
       "|   Capistrano Unified  |       54036.0       |    0.24393433223604294    |\n",
       "|  Corona-Norco Unified |       53739.0       |     0.4835829509222873    |\n",
       "+-----------------------+---------------------+---------------------------+\n",
       "Truncated to displaylimit of 10."
      ]
     },
     "execution_count": 117,
     "metadata": {},
     "output_type": "execute_result"
    }
   ],
   "source": [
    "%%sql\n",
    "SELECT \"District Name\" AS district_name, SUM(\"Enrollment (K-12)\") AS total_enrolment_k12, AVG(\"Percent (%) Eligible FRPM (K-12)\") AS avg_pct_eligible_frpm_k12\n",
    "FROM frpm\n",
    "GROUP BY district_name\n",
    "ORDER BY total_enrolment_k12 DESC;"
   ]
  },
  {
   "cell_type": "markdown",
   "id": "460ce08c",
   "metadata": {},
   "source": [
    "### Filtering Groups"
   ]
  },
  {
   "cell_type": "markdown",
   "id": "d945ebf0",
   "metadata": {},
   "source": [
    "Identify districts with more than 10,000 total enrollment in frpm. Show `District Name` and total enrollment."
   ]
  },
  {
   "cell_type": "code",
   "execution_count": 118,
   "id": "d5b9fdeb",
   "metadata": {},
   "outputs": [
    {
     "data": {
      "text/html": [
       "<span style=\"None\">Running query in &#x27;sqlite:///cdeschools.sqlite&#x27;</span>"
      ],
      "text/plain": [
       "Running query in 'sqlite:///cdeschools.sqlite'"
      ]
     },
     "metadata": {},
     "output_type": "display_data"
    },
    {
     "data": {
      "text/html": [
       "<table>\n",
       "    <thead>\n",
       "        <tr>\n",
       "            <th>district_name</th>\n",
       "            <th>total_enrolment_k12</th>\n",
       "        </tr>\n",
       "    </thead>\n",
       "    <tbody>\n",
       "        <tr>\n",
       "            <td>Merced Union High</td>\n",
       "            <td>10039.0</td>\n",
       "        </tr>\n",
       "        <tr>\n",
       "            <td>Woodland Joint Unified</td>\n",
       "            <td>10055.0</td>\n",
       "        </tr>\n",
       "        <tr>\n",
       "            <td>Lompoc Unified</td>\n",
       "            <td>10076.0</td>\n",
       "        </tr>\n",
       "        <tr>\n",
       "            <td>Bonita Unified</td>\n",
       "            <td>10146.0</td>\n",
       "        </tr>\n",
       "        <tr>\n",
       "            <td>Roseville Joint Union High</td>\n",
       "            <td>10223.0</td>\n",
       "        </tr>\n",
       "        <tr>\n",
       "            <td>Los Banos Unified</td>\n",
       "            <td>10260.0</td>\n",
       "        </tr>\n",
       "        <tr>\n",
       "            <td>Milpitas Unified</td>\n",
       "            <td>10281.0</td>\n",
       "        </tr>\n",
       "        <tr>\n",
       "            <td>Adelanto Elementary</td>\n",
       "            <td>10378.0</td>\n",
       "        </tr>\n",
       "        <tr>\n",
       "            <td>Berkeley Unified</td>\n",
       "            <td>10442.0</td>\n",
       "        </tr>\n",
       "        <tr>\n",
       "            <td>Perris Union High</td>\n",
       "            <td>10510.0</td>\n",
       "        </tr>\n",
       "    </tbody>\n",
       "</table>\n",
       "<span style=\"font-style:italic;text-align:center;\">Truncated to <a href=\"https://jupysql.ploomber.io/en/latest/api/configuration.html#displaylimit\">displaylimit</a> of 10.</span>"
      ],
      "text/plain": [
       "+----------------------------+---------------------+\n",
       "|       district_name        | total_enrolment_k12 |\n",
       "+----------------------------+---------------------+\n",
       "|     Merced Union High      |       10039.0       |\n",
       "|   Woodland Joint Unified   |       10055.0       |\n",
       "|       Lompoc Unified       |       10076.0       |\n",
       "|       Bonita Unified       |       10146.0       |\n",
       "| Roseville Joint Union High |       10223.0       |\n",
       "|     Los Banos Unified      |       10260.0       |\n",
       "|      Milpitas Unified      |       10281.0       |\n",
       "|    Adelanto Elementary     |       10378.0       |\n",
       "|      Berkeley Unified      |       10442.0       |\n",
       "|     Perris Union High      |       10510.0       |\n",
       "+----------------------------+---------------------+\n",
       "Truncated to displaylimit of 10."
      ]
     },
     "execution_count": 118,
     "metadata": {},
     "output_type": "execute_result"
    }
   ],
   "source": [
    "%%sql\n",
    "SELECT \"District Name\" AS district_name, SUM(\"Enrollment (K-12)\") AS total_enrolment_k12\n",
    "FROM frpm\n",
    "GROUP BY district_name\n",
    "HAVING total_enrolment_k12 > 10000\n",
    "ORDER BY total_enrolment_k12 ASC;"
   ]
  }
 ],
 "metadata": {
  "kernelspec": {
   "display_name": "jupyter-sql",
   "language": "python",
   "name": "python3"
  },
  "language_info": {
   "codemirror_mode": {
    "name": "ipython",
    "version": 3
   },
   "file_extension": ".py",
   "mimetype": "text/x-python",
   "name": "python",
   "nbconvert_exporter": "python",
   "pygments_lexer": "ipython3",
   "version": "3.12.11"
  }
 },
 "nbformat": 4,
 "nbformat_minor": 5
}
