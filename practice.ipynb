{
 "cells": [
  {
   "cell_type": "markdown",
   "id": "67447636",
   "metadata": {},
   "source": [
    "# SQL Practice\n",
    "\n",
    "This is a quick notebook with exercises for anyone wanting to practice their SQL. It uses the [California School SAT Performance](http://2016.padjo.org/tutorials/sqlite-data-starterpacks/#toc-california-school-sat-performance-and-poverty-data) dataset, which gives a good enough set of data to use many SQL features.\n",
    "\n",
    "We use SQLite specifically, which lacks a few SQL language features - you can adapt it to your own database if you like.\n",
    "\n",
    "It also requires you to install `jupysql` into your Python environment (`conda install jupysql` if using Conda)."
   ]
  },
  {
   "cell_type": "markdown",
   "id": "7a46ac13",
   "metadata": {},
   "source": [
    "## Download the Dataset"
   ]
  },
  {
   "cell_type": "code",
   "execution_count": 808,
   "id": "b189f183",
   "metadata": {},
   "outputs": [],
   "source": [
    "![ -f \"cdeschools.sqlite\" ] || curl http://2016.padjo.org/files/data/starterpack/cde-schools/cdeschools.sqlite --output cdeschools.sqlite"
   ]
  },
  {
   "cell_type": "markdown",
   "id": "250c390c",
   "metadata": {},
   "source": [
    "## Load `jupysql` and the Dataset"
   ]
  },
  {
   "cell_type": "code",
   "execution_count": 809,
   "id": "a6601487",
   "metadata": {},
   "outputs": [
    {
     "name": "stdout",
     "output_type": "stream",
     "text": [
      "The sql extension is already loaded. To reload it, use:\n",
      "  %reload_ext sql\n"
     ]
    }
   ],
   "source": [
    "%load_ext sql\n",
    "\n",
    "%sql sqlite:///cdeschools.sqlite"
   ]
  },
  {
   "cell_type": "markdown",
   "id": "4db75c7b",
   "metadata": {},
   "source": [
    "## Show Tables Available, and a Sample for each Table"
   ]
  },
  {
   "cell_type": "code",
   "execution_count": 810,
   "id": "7c7f8f21",
   "metadata": {},
   "outputs": [
    {
     "data": {
      "text/html": [
       "<span style=\"None\">Running query in &#x27;sqlite:///cdeschools.sqlite&#x27;</span>"
      ],
      "text/plain": [
       "Running query in 'sqlite:///cdeschools.sqlite'"
      ]
     },
     "metadata": {},
     "output_type": "display_data"
    },
    {
     "data": {
      "text/html": [
       "<table>\n",
       "    <thead>\n",
       "        <tr>\n",
       "            <th>name</th>\n",
       "        </tr>\n",
       "    </thead>\n",
       "    <tbody>\n",
       "        <tr>\n",
       "            <td>frpm</td>\n",
       "        </tr>\n",
       "        <tr>\n",
       "            <td>satscores</td>\n",
       "        </tr>\n",
       "        <tr>\n",
       "            <td>schools</td>\n",
       "        </tr>\n",
       "    </tbody>\n",
       "</table>"
      ],
      "text/plain": [
       "+-----------+\n",
       "|    name   |\n",
       "+-----------+\n",
       "|    frpm   |\n",
       "| satscores |\n",
       "|  schools  |\n",
       "+-----------+"
      ]
     },
     "execution_count": 810,
     "metadata": {},
     "output_type": "execute_result"
    }
   ],
   "source": [
    "%%sql\n",
    "SELECT name \n",
    "FROM sqlite_master \n",
    "WHERE type='table'\n",
    "ORDER BY name;"
   ]
  },
  {
   "cell_type": "code",
   "execution_count": 811,
   "id": "418f6ffb",
   "metadata": {},
   "outputs": [
    {
     "data": {
      "text/html": [
       "<span style=\"None\">Running query in &#x27;sqlite:///cdeschools.sqlite&#x27;</span>"
      ],
      "text/plain": [
       "Running query in 'sqlite:///cdeschools.sqlite'"
      ]
     },
     "metadata": {},
     "output_type": "display_data"
    },
    {
     "data": {
      "text/html": [
       "<table>\n",
       "    <thead>\n",
       "        <tr>\n",
       "            <th>Academic Year</th>\n",
       "            <th>County Code</th>\n",
       "            <th>District Code</th>\n",
       "            <th>School Code</th>\n",
       "            <th>County Name</th>\n",
       "            <th>District Name</th>\n",
       "            <th>School Name</th>\n",
       "            <th>District Type</th>\n",
       "            <th>School Type</th>\n",
       "            <th>Educational Option Type</th>\n",
       "            <th>NSLP Provision Status</th>\n",
       "            <th>Charter School (Y/N)</th>\n",
       "            <th>Charter School Number</th>\n",
       "            <th>Charter Funding Type</th>\n",
       "            <th>IRC</th>\n",
       "            <th>Low Grade</th>\n",
       "            <th>High Grade</th>\n",
       "            <th>Enrollment (K-12)</th>\n",
       "            <th>Free Meal Count (K-12)</th>\n",
       "            <th>Percent (%) Eligible Free (K-12)</th>\n",
       "            <th>FRPM Count (K-12)</th>\n",
       "            <th>Percent (%) Eligible FRPM (K-12)</th>\n",
       "            <th>Enrollment (Ages 5-17)</th>\n",
       "            <th>Free Meal Count (Ages 5-17)</th>\n",
       "            <th>Percent (%) Eligible Free (Ages 5-17)</th>\n",
       "            <th>FRPM Count (Ages 5-17)</th>\n",
       "            <th>Percent (%) Eligible FRPM (Ages 5-17)</th>\n",
       "            <th>2013-14 CALPADS Fall 1 Certification Status</th>\n",
       "        </tr>\n",
       "    </thead>\n",
       "    <tbody>\n",
       "        <tr>\n",
       "            <td>2014-2015</td>\n",
       "            <td>01</td>\n",
       "            <td>10017</td>\n",
       "            <td>0109835</td>\n",
       "            <td>Alameda</td>\n",
       "            <td>Alameda County Office of Education</td>\n",
       "            <td>FAME Public Charter</td>\n",
       "            <td>County Office of Education (COE)</td>\n",
       "            <td>K-12 Schools (Public)</td>\n",
       "            <td>Traditional</td>\n",
       "            <td>None</td>\n",
       "            <td>1</td>\n",
       "            <td>0728</td>\n",
       "            <td>Directly funded</td>\n",
       "            <td>1</td>\n",
       "            <td>K</td>\n",
       "            <td>12</td>\n",
       "            <td>1087.0</td>\n",
       "            <td>565.0</td>\n",
       "            <td>0.5197792088316467</td>\n",
       "            <td>715.0</td>\n",
       "            <td>0.6577736890524379</td>\n",
       "            <td>1070.0</td>\n",
       "            <td>553.0</td>\n",
       "            <td>0.516822429906542</td>\n",
       "            <td>702.0</td>\n",
       "            <td>0.6560747663551402</td>\n",
       "            <td>1</td>\n",
       "        </tr>\n",
       "        <tr>\n",
       "            <td>2014-2015</td>\n",
       "            <td>01</td>\n",
       "            <td>10017</td>\n",
       "            <td>0112607</td>\n",
       "            <td>Alameda</td>\n",
       "            <td>Alameda County Office of Education</td>\n",
       "            <td>Envision Academy for Arts & Technology</td>\n",
       "            <td>County Office of Education (COE)</td>\n",
       "            <td>High Schools (Public)</td>\n",
       "            <td>Traditional</td>\n",
       "            <td>None</td>\n",
       "            <td>1</td>\n",
       "            <td>0811</td>\n",
       "            <td>Directly funded</td>\n",
       "            <td>1</td>\n",
       "            <td>9</td>\n",
       "            <td>12</td>\n",
       "            <td>395.0</td>\n",
       "            <td>186.0</td>\n",
       "            <td>0.4708860759493671</td>\n",
       "            <td>186.0</td>\n",
       "            <td>0.4708860759493671</td>\n",
       "            <td>376.0</td>\n",
       "            <td>182.0</td>\n",
       "            <td>0.48404255319148937</td>\n",
       "            <td>182.0</td>\n",
       "            <td>0.48404255319148937</td>\n",
       "            <td>1</td>\n",
       "        </tr>\n",
       "        <tr>\n",
       "            <td>2014-2015</td>\n",
       "            <td>01</td>\n",
       "            <td>10017</td>\n",
       "            <td>0118489</td>\n",
       "            <td>Alameda</td>\n",
       "            <td>Alameda County Office of Education</td>\n",
       "            <td>Aspire California College Preparatory Academy</td>\n",
       "            <td>County Office of Education (COE)</td>\n",
       "            <td>High Schools (Public)</td>\n",
       "            <td>Traditional</td>\n",
       "            <td>None</td>\n",
       "            <td>1</td>\n",
       "            <td>1049</td>\n",
       "            <td>Directly funded</td>\n",
       "            <td>1</td>\n",
       "            <td>9</td>\n",
       "            <td>12</td>\n",
       "            <td>244.0</td>\n",
       "            <td>134.0</td>\n",
       "            <td>0.5491803278688525</td>\n",
       "            <td>175.0</td>\n",
       "            <td>0.7172131147540983</td>\n",
       "            <td>230.0</td>\n",
       "            <td>128.0</td>\n",
       "            <td>0.5565217391304348</td>\n",
       "            <td>168.0</td>\n",
       "            <td>0.7304347826086957</td>\n",
       "            <td>1</td>\n",
       "        </tr>\n",
       "    </tbody>\n",
       "</table>"
      ],
      "text/plain": [
       "+---------------+-------------+---------------+-------------+-------------+------------------------------------+-----------------------------------------------+----------------------------------+-----------------------+-------------------------+-----------------------+----------------------+-----------------------+----------------------+-----+-----------+------------+-------------------+------------------------+----------------------------------+-------------------+----------------------------------+------------------------+-----------------------------+---------------------------------------+------------------------+---------------------------------------+---------------------------------------------+\n",
       "| Academic Year | County Code | District Code | School Code | County Name |           District Name            |                  School Name                  |          District Type           |      School Type      | Educational Option Type | NSLP Provision Status | Charter School (Y/N) | Charter School Number | Charter Funding Type | IRC | Low Grade | High Grade | Enrollment (K-12) | Free Meal Count (K-12) | Percent (%) Eligible Free (K-12) | FRPM Count (K-12) | Percent (%) Eligible FRPM (K-12) | Enrollment (Ages 5-17) | Free Meal Count (Ages 5-17) | Percent (%) Eligible Free (Ages 5-17) | FRPM Count (Ages 5-17) | Percent (%) Eligible FRPM (Ages 5-17) | 2013-14 CALPADS Fall 1 Certification Status |\n",
       "+---------------+-------------+---------------+-------------+-------------+------------------------------------+-----------------------------------------------+----------------------------------+-----------------------+-------------------------+-----------------------+----------------------+-----------------------+----------------------+-----+-----------+------------+-------------------+------------------------+----------------------------------+-------------------+----------------------------------+------------------------+-----------------------------+---------------------------------------+------------------------+---------------------------------------+---------------------------------------------+\n",
       "|   2014-2015   |      01     |     10017     |   0109835   |   Alameda   | Alameda County Office of Education |              FAME Public Charter              | County Office of Education (COE) | K-12 Schools (Public) |       Traditional       |          None         |          1           |          0728         |   Directly funded    |  1  |     K     |     12     |       1087.0      |         565.0          |        0.5197792088316467        |       715.0       |        0.6577736890524379        |         1070.0         |            553.0            |           0.516822429906542           |         702.0          |           0.6560747663551402          |                      1                      |\n",
       "|   2014-2015   |      01     |     10017     |   0112607   |   Alameda   | Alameda County Office of Education |     Envision Academy for Arts & Technology    | County Office of Education (COE) | High Schools (Public) |       Traditional       |          None         |          1           |          0811         |   Directly funded    |  1  |     9     |     12     |       395.0       |         186.0          |        0.4708860759493671        |       186.0       |        0.4708860759493671        |         376.0          |            182.0            |          0.48404255319148937          |         182.0          |          0.48404255319148937          |                      1                      |\n",
       "|   2014-2015   |      01     |     10017     |   0118489   |   Alameda   | Alameda County Office of Education | Aspire California College Preparatory Academy | County Office of Education (COE) | High Schools (Public) |       Traditional       |          None         |          1           |          1049         |   Directly funded    |  1  |     9     |     12     |       244.0       |         134.0          |        0.5491803278688525        |       175.0       |        0.7172131147540983        |         230.0          |            128.0            |           0.5565217391304348          |         168.0          |           0.7304347826086957          |                      1                      |\n",
       "+---------------+-------------+---------------+-------------+-------------+------------------------------------+-----------------------------------------------+----------------------------------+-----------------------+-------------------------+-----------------------+----------------------+-----------------------+----------------------+-----+-----------+------------+-------------------+------------------------+----------------------------------+-------------------+----------------------------------+------------------------+-----------------------------+---------------------------------------+------------------------+---------------------------------------+---------------------------------------------+"
      ]
     },
     "execution_count": 811,
     "metadata": {},
     "output_type": "execute_result"
    }
   ],
   "source": [
    "%%sql\n",
    "SELECT *\n",
    "FROM frpm\n",
    "LIMIT 3;"
   ]
  },
  {
   "cell_type": "code",
   "execution_count": 812,
   "id": "9d31fc43",
   "metadata": {},
   "outputs": [
    {
     "data": {
      "text/html": [
       "<span style=\"None\">Running query in &#x27;sqlite:///cdeschools.sqlite&#x27;</span>"
      ],
      "text/plain": [
       "Running query in 'sqlite:///cdeschools.sqlite'"
      ]
     },
     "metadata": {},
     "output_type": "display_data"
    },
    {
     "data": {
      "text/html": [
       "<table>\n",
       "    <thead>\n",
       "        <tr>\n",
       "            <th>cds</th>\n",
       "            <th>rtype</th>\n",
       "            <th>sname</th>\n",
       "            <th>dname</th>\n",
       "            <th>cname</th>\n",
       "            <th>enroll12</th>\n",
       "            <th>NumTstTakr</th>\n",
       "            <th>AvgScrRead</th>\n",
       "            <th>AvgScrMath</th>\n",
       "            <th>AvgScrWrite</th>\n",
       "            <th>NumGE1500</th>\n",
       "            <th>PctGE1500</th>\n",
       "        </tr>\n",
       "    </thead>\n",
       "    <tbody>\n",
       "        <tr>\n",
       "            <td>00000000000000</td>\n",
       "            <td>X</td>\n",
       "            <td>None</td>\n",
       "            <td>None</td>\n",
       "            <td>None</td>\n",
       "            <td>496901</td>\n",
       "            <td>210706</td>\n",
       "            <td>489</td>\n",
       "            <td>500</td>\n",
       "            <td>484</td>\n",
       "            <td>93334</td>\n",
       "            <td>44.3</td>\n",
       "        </tr>\n",
       "        <tr>\n",
       "            <td>01000000000000</td>\n",
       "            <td>C</td>\n",
       "            <td>None</td>\n",
       "            <td>None</td>\n",
       "            <td>Alameda</td>\n",
       "            <td>16978</td>\n",
       "            <td>8855</td>\n",
       "            <td>516</td>\n",
       "            <td>536</td>\n",
       "            <td>517</td>\n",
       "            <td>4900</td>\n",
       "            <td>55.34</td>\n",
       "        </tr>\n",
       "        <tr>\n",
       "            <td>01100170000000</td>\n",
       "            <td>D</td>\n",
       "            <td>None</td>\n",
       "            <td>Alameda County Office of Education</td>\n",
       "            <td>Alameda</td>\n",
       "            <td>398</td>\n",
       "            <td>88</td>\n",
       "            <td>418</td>\n",
       "            <td>418</td>\n",
       "            <td>417</td>\n",
       "            <td>14</td>\n",
       "            <td>15.91</td>\n",
       "        </tr>\n",
       "        <tr>\n",
       "            <td>01100170109835</td>\n",
       "            <td>S</td>\n",
       "            <td>FAME Public Charter</td>\n",
       "            <td>Alameda County Office of Education</td>\n",
       "            <td>Alameda</td>\n",
       "            <td>62</td>\n",
       "            <td>17</td>\n",
       "            <td>503</td>\n",
       "            <td>546</td>\n",
       "            <td>505</td>\n",
       "            <td>9</td>\n",
       "            <td>52.94</td>\n",
       "        </tr>\n",
       "        <tr>\n",
       "            <td>01100170112607</td>\n",
       "            <td>S</td>\n",
       "            <td>Envision Academy for Arts & Technology</td>\n",
       "            <td>Alameda County Office of Education</td>\n",
       "            <td>Alameda</td>\n",
       "            <td>75</td>\n",
       "            <td>71</td>\n",
       "            <td>397</td>\n",
       "            <td>387</td>\n",
       "            <td>395</td>\n",
       "            <td>5</td>\n",
       "            <td>7.04</td>\n",
       "        </tr>\n",
       "    </tbody>\n",
       "</table>"
      ],
      "text/plain": [
       "+----------------+-------+----------------------------------------+------------------------------------+---------+----------+------------+------------+------------+-------------+-----------+-----------+\n",
       "|      cds       | rtype |                 sname                  |               dname                |  cname  | enroll12 | NumTstTakr | AvgScrRead | AvgScrMath | AvgScrWrite | NumGE1500 | PctGE1500 |\n",
       "+----------------+-------+----------------------------------------+------------------------------------+---------+----------+------------+------------+------------+-------------+-----------+-----------+\n",
       "| 00000000000000 |   X   |                  None                  |                None                |   None  |  496901  |   210706   |    489     |    500     |     484     |   93334   |    44.3   |\n",
       "| 01000000000000 |   C   |                  None                  |                None                | Alameda |  16978   |    8855    |    516     |    536     |     517     |    4900   |   55.34   |\n",
       "| 01100170000000 |   D   |                  None                  | Alameda County Office of Education | Alameda |   398    |     88     |    418     |    418     |     417     |     14    |   15.91   |\n",
       "| 01100170109835 |   S   |          FAME Public Charter           | Alameda County Office of Education | Alameda |    62    |     17     |    503     |    546     |     505     |     9     |   52.94   |\n",
       "| 01100170112607 |   S   | Envision Academy for Arts & Technology | Alameda County Office of Education | Alameda |    75    |     71     |    397     |    387     |     395     |     5     |    7.04   |\n",
       "+----------------+-------+----------------------------------------+------------------------------------+---------+----------+------------+------------+------------+-------------+-----------+-----------+"
      ]
     },
     "execution_count": 812,
     "metadata": {},
     "output_type": "execute_result"
    }
   ],
   "source": [
    "%%sql\n",
    "SELECT *\n",
    "FROM satscores\n",
    "LIMIT 5;"
   ]
  },
  {
   "cell_type": "code",
   "execution_count": 813,
   "id": "f2d17298",
   "metadata": {},
   "outputs": [
    {
     "data": {
      "text/html": [
       "<span style=\"None\">Running query in &#x27;sqlite:///cdeschools.sqlite&#x27;</span>"
      ],
      "text/plain": [
       "Running query in 'sqlite:///cdeschools.sqlite'"
      ]
     },
     "metadata": {},
     "output_type": "display_data"
    },
    {
     "data": {
      "text/html": [
       "<table>\n",
       "    <thead>\n",
       "        <tr>\n",
       "            <th>CDSCode</th>\n",
       "            <th>NCESDist</th>\n",
       "            <th>NCESSchool</th>\n",
       "            <th>StatusType</th>\n",
       "            <th>County</th>\n",
       "            <th>District</th>\n",
       "            <th>School</th>\n",
       "            <th>Street</th>\n",
       "            <th>StreetAbr</th>\n",
       "            <th>City</th>\n",
       "            <th>Zip</th>\n",
       "            <th>State</th>\n",
       "            <th>MailStreet</th>\n",
       "            <th>MailStrAbr</th>\n",
       "            <th>MailCity</th>\n",
       "            <th>MailZip</th>\n",
       "            <th>MailState</th>\n",
       "            <th>Phone</th>\n",
       "            <th>Ext</th>\n",
       "            <th>Website</th>\n",
       "            <th>OpenDate</th>\n",
       "            <th>ClosedDate</th>\n",
       "            <th>Charter</th>\n",
       "            <th>CharterNum</th>\n",
       "            <th>FundingType</th>\n",
       "            <th>DOC</th>\n",
       "            <th>DOCType</th>\n",
       "            <th>SOC</th>\n",
       "            <th>SOCType</th>\n",
       "            <th>EdOpsCode</th>\n",
       "            <th>EdOpsName</th>\n",
       "            <th>EILCode</th>\n",
       "            <th>EILName</th>\n",
       "            <th>GSoffered</th>\n",
       "            <th>GSserved</th>\n",
       "            <th>Virtual</th>\n",
       "            <th>Magnet</th>\n",
       "            <th>Latitude</th>\n",
       "            <th>Longitude</th>\n",
       "            <th>AdmFName1</th>\n",
       "            <th>AdmLName1</th>\n",
       "            <th>AdmEmail1</th>\n",
       "            <th>AdmFName2</th>\n",
       "            <th>AdmLName2</th>\n",
       "            <th>AdmEmail2</th>\n",
       "            <th>AdmFName3</th>\n",
       "            <th>AdmLName3</th>\n",
       "            <th>AdmEmail3</th>\n",
       "            <th>LastUpdate</th>\n",
       "        </tr>\n",
       "    </thead>\n",
       "    <tbody>\n",
       "        <tr>\n",
       "            <td>01100170000000</td>\n",
       "            <td>0691051</td>\n",
       "            <td>None</td>\n",
       "            <td>Active</td>\n",
       "            <td>Alameda</td>\n",
       "            <td>Alameda County Office of Education</td>\n",
       "            <td>None</td>\n",
       "            <td>313 West Winton Avenue</td>\n",
       "            <td>313 West Winton Ave.</td>\n",
       "            <td>Hayward</td>\n",
       "            <td>94544-1136</td>\n",
       "            <td>CA</td>\n",
       "            <td>313 West Winton Avenue</td>\n",
       "            <td>313 West Winton Ave.</td>\n",
       "            <td>Hayward</td>\n",
       "            <td>94544-1136</td>\n",
       "            <td>CA</td>\n",
       "            <td>(510) 887-0152</td>\n",
       "            <td>None</td>\n",
       "            <td>www.acoe.org</td>\n",
       "            <td>None</td>\n",
       "            <td>None</td>\n",
       "            <td>None</td>\n",
       "            <td>None</td>\n",
       "            <td>None</td>\n",
       "            <td>00</td>\n",
       "            <td>County Office of Education (COE)</td>\n",
       "            <td>None</td>\n",
       "            <td>None</td>\n",
       "            <td>None</td>\n",
       "            <td>None</td>\n",
       "            <td>None</td>\n",
       "            <td>None</td>\n",
       "            <td>None</td>\n",
       "            <td>None</td>\n",
       "            <td>None</td>\n",
       "            <td>None</td>\n",
       "            <td>37.658212</td>\n",
       "            <td>-122.09713</td>\n",
       "            <td>L Karen</td>\n",
       "            <td>Monroe</td>\n",
       "            <td>lkmonroe@acoe.org</td>\n",
       "            <td>None</td>\n",
       "            <td>None</td>\n",
       "            <td>None</td>\n",
       "            <td>None</td>\n",
       "            <td>None</td>\n",
       "            <td>None</td>\n",
       "            <td>2015-06-23</td>\n",
       "        </tr>\n",
       "        <tr>\n",
       "            <td>01100170109835</td>\n",
       "            <td>0691051</td>\n",
       "            <td>10546</td>\n",
       "            <td>Closed</td>\n",
       "            <td>Alameda</td>\n",
       "            <td>Alameda County Office of Education</td>\n",
       "            <td>FAME Public Charter</td>\n",
       "            <td>39899 Balentine Drive, Suite 335</td>\n",
       "            <td>39899 Balentine Dr., Ste. 335</td>\n",
       "            <td>Newark</td>\n",
       "            <td>94560-5359</td>\n",
       "            <td>CA</td>\n",
       "            <td>39899 Balentine Drive, Suite 335</td>\n",
       "            <td>39899 Balentine Dr., Ste. 335</td>\n",
       "            <td>Newark</td>\n",
       "            <td>94560-5359</td>\n",
       "            <td>CA</td>\n",
       "            <td>None</td>\n",
       "            <td>None</td>\n",
       "            <td>None</td>\n",
       "            <td>2005-08-29</td>\n",
       "            <td>2015-07-31</td>\n",
       "            <td>1</td>\n",
       "            <td>0728</td>\n",
       "            <td>Directly funded</td>\n",
       "            <td>00</td>\n",
       "            <td>County Office of Education (COE)</td>\n",
       "            <td>65</td>\n",
       "            <td>K-12 Schools (Public)</td>\n",
       "            <td>TRAD</td>\n",
       "            <td>Traditional</td>\n",
       "            <td>ELEMHIGH</td>\n",
       "            <td>Elementary-High Combination</td>\n",
       "            <td>K-12</td>\n",
       "            <td>K-12</td>\n",
       "            <td>P</td>\n",
       "            <td>0</td>\n",
       "            <td>37.521436</td>\n",
       "            <td>-121.99391</td>\n",
       "            <td>None</td>\n",
       "            <td>None</td>\n",
       "            <td>None</td>\n",
       "            <td>None</td>\n",
       "            <td>None</td>\n",
       "            <td>None</td>\n",
       "            <td>None</td>\n",
       "            <td>None</td>\n",
       "            <td>None</td>\n",
       "            <td>2015-09-01</td>\n",
       "        </tr>\n",
       "        <tr>\n",
       "            <td>01100170112607</td>\n",
       "            <td>0691051</td>\n",
       "            <td>10947</td>\n",
       "            <td>Active</td>\n",
       "            <td>Alameda</td>\n",
       "            <td>Alameda County Office of Education</td>\n",
       "            <td>Envision Academy for Arts & Technology</td>\n",
       "            <td>1515 Webster Street</td>\n",
       "            <td>1515 Webster St.</td>\n",
       "            <td>Oakland</td>\n",
       "            <td>94612-3355</td>\n",
       "            <td>CA</td>\n",
       "            <td>1515 Webster Street</td>\n",
       "            <td>1515 Webster St.</td>\n",
       "            <td>Oakland</td>\n",
       "            <td>94612</td>\n",
       "            <td>CA</td>\n",
       "            <td>(510) 596-8901</td>\n",
       "            <td>None</td>\n",
       "            <td>www.envisionacademy.org/</td>\n",
       "            <td>2006-08-28</td>\n",
       "            <td>None</td>\n",
       "            <td>1</td>\n",
       "            <td>0811</td>\n",
       "            <td>Directly funded</td>\n",
       "            <td>00</td>\n",
       "            <td>County Office of Education (COE)</td>\n",
       "            <td>66</td>\n",
       "            <td>High Schools (Public)</td>\n",
       "            <td>TRAD</td>\n",
       "            <td>Traditional</td>\n",
       "            <td>HS</td>\n",
       "            <td>High School</td>\n",
       "            <td>9-12</td>\n",
       "            <td>9-12</td>\n",
       "            <td>N</td>\n",
       "            <td>0</td>\n",
       "            <td>37.80452</td>\n",
       "            <td>-122.26815</td>\n",
       "            <td>Laura</td>\n",
       "            <td>Robell</td>\n",
       "            <td>laura@envisionacademy.org</td>\n",
       "            <td>None</td>\n",
       "            <td>None</td>\n",
       "            <td>None</td>\n",
       "            <td>None</td>\n",
       "            <td>None</td>\n",
       "            <td>None</td>\n",
       "            <td>2015-06-18</td>\n",
       "        </tr>\n",
       "    </tbody>\n",
       "</table>"
      ],
      "text/plain": [
       "+----------------+----------+------------+------------+---------+------------------------------------+----------------------------------------+----------------------------------+-------------------------------+---------+------------+-------+----------------------------------+-------------------------------+----------+------------+-----------+----------------+------+--------------------------+------------+------------+---------+------------+-----------------+-----+----------------------------------+------+-----------------------+-----------+-------------+----------+-----------------------------+-----------+----------+---------+--------+-----------+------------+-----------+-----------+---------------------------+-----------+-----------+-----------+-----------+-----------+-----------+------------+\n",
       "|    CDSCode     | NCESDist | NCESSchool | StatusType |  County |              District              |                 School                 |              Street              |           StreetAbr           |   City  |    Zip     | State |            MailStreet            |           MailStrAbr          | MailCity |  MailZip   | MailState |     Phone      | Ext  |         Website          |  OpenDate  | ClosedDate | Charter | CharterNum |   FundingType   | DOC |             DOCType              | SOC  |        SOCType        | EdOpsCode |  EdOpsName  | EILCode  |           EILName           | GSoffered | GSserved | Virtual | Magnet |  Latitude | Longitude  | AdmFName1 | AdmLName1 |         AdmEmail1         | AdmFName2 | AdmLName2 | AdmEmail2 | AdmFName3 | AdmLName3 | AdmEmail3 | LastUpdate |\n",
       "+----------------+----------+------------+------------+---------+------------------------------------+----------------------------------------+----------------------------------+-------------------------------+---------+------------+-------+----------------------------------+-------------------------------+----------+------------+-----------+----------------+------+--------------------------+------------+------------+---------+------------+-----------------+-----+----------------------------------+------+-----------------------+-----------+-------------+----------+-----------------------------+-----------+----------+---------+--------+-----------+------------+-----------+-----------+---------------------------+-----------+-----------+-----------+-----------+-----------+-----------+------------+\n",
       "| 01100170000000 | 0691051  |    None    |   Active   | Alameda | Alameda County Office of Education |                  None                  |      313 West Winton Avenue      |      313 West Winton Ave.     | Hayward | 94544-1136 |   CA  |      313 West Winton Avenue      |      313 West Winton Ave.     | Hayward  | 94544-1136 |     CA    | (510) 887-0152 | None |       www.acoe.org       |    None    |    None    |   None  |    None    |       None      |  00 | County Office of Education (COE) | None |          None         |    None   |     None    |   None   |             None            |    None   |   None   |   None  |  None  | 37.658212 | -122.09713 |  L Karen  |   Monroe  |     lkmonroe@acoe.org     |    None   |    None   |    None   |    None   |    None   |    None   | 2015-06-23 |\n",
       "| 01100170109835 | 0691051  |   10546    |   Closed   | Alameda | Alameda County Office of Education |          FAME Public Charter           | 39899 Balentine Drive, Suite 335 | 39899 Balentine Dr., Ste. 335 |  Newark | 94560-5359 |   CA  | 39899 Balentine Drive, Suite 335 | 39899 Balentine Dr., Ste. 335 |  Newark  | 94560-5359 |     CA    |      None      | None |           None           | 2005-08-29 | 2015-07-31 |    1    |    0728    | Directly funded |  00 | County Office of Education (COE) |  65  | K-12 Schools (Public) |    TRAD   | Traditional | ELEMHIGH | Elementary-High Combination |    K-12   |   K-12   |    P    |   0    | 37.521436 | -121.99391 |    None   |    None   |            None           |    None   |    None   |    None   |    None   |    None   |    None   | 2015-09-01 |\n",
       "| 01100170112607 | 0691051  |   10947    |   Active   | Alameda | Alameda County Office of Education | Envision Academy for Arts & Technology |       1515 Webster Street        |        1515 Webster St.       | Oakland | 94612-3355 |   CA  |       1515 Webster Street        |        1515 Webster St.       | Oakland  |   94612    |     CA    | (510) 596-8901 | None | www.envisionacademy.org/ | 2006-08-28 |    None    |    1    |    0811    | Directly funded |  00 | County Office of Education (COE) |  66  | High Schools (Public) |    TRAD   | Traditional |    HS    |         High School         |    9-12   |   9-12   |    N    |   0    |  37.80452 | -122.26815 |   Laura   |   Robell  | laura@envisionacademy.org |    None   |    None   |    None   |    None   |    None   |    None   | 2015-06-18 |\n",
       "+----------------+----------+------------+------------+---------+------------------------------------+----------------------------------------+----------------------------------+-------------------------------+---------+------------+-------+----------------------------------+-------------------------------+----------+------------+-----------+----------------+------+--------------------------+------------+------------+---------+------------+-----------------+-----+----------------------------------+------+-----------------------+-----------+-------------+----------+-----------------------------+-----------+----------+---------+--------+-----------+------------+-----------+-----------+---------------------------+-----------+-----------+-----------+-----------+-----------+-----------+------------+"
      ]
     },
     "execution_count": 813,
     "metadata": {},
     "output_type": "execute_result"
    }
   ],
   "source": [
    "%%sql\n",
    "SELECT *\n",
    "FROM schools\n",
    "LIMIT 3;"
   ]
  },
  {
   "cell_type": "markdown",
   "id": "35135800",
   "metadata": {},
   "source": [
    "## 1. Basic Queries"
   ]
  },
  {
   "cell_type": "markdown",
   "id": "fc35a1b8",
   "metadata": {},
   "source": [
    "### Project Columns"
   ]
  },
  {
   "cell_type": "markdown",
   "id": "0953e4ae",
   "metadata": {},
   "source": [
    "Retrieve the `School Name`, `County Name` and `Enrollment (K-12)` from frpm."
   ]
  },
  {
   "cell_type": "code",
   "execution_count": 814,
   "id": "4f753129",
   "metadata": {},
   "outputs": [
    {
     "data": {
      "text/html": [
       "<span style=\"None\">Running query in &#x27;sqlite:///cdeschools.sqlite&#x27;</span>"
      ],
      "text/plain": [
       "Running query in 'sqlite:///cdeschools.sqlite'"
      ]
     },
     "metadata": {},
     "output_type": "display_data"
    },
    {
     "data": {
      "text/html": [
       "<table>\n",
       "    <thead>\n",
       "        <tr>\n",
       "            <th>school_name</th>\n",
       "            <th>county_name</th>\n",
       "            <th>enrolment_k12</th>\n",
       "        </tr>\n",
       "    </thead>\n",
       "    <tbody>\n",
       "        <tr>\n",
       "            <td>FAME Public Charter</td>\n",
       "            <td>Alameda</td>\n",
       "            <td>1087.0</td>\n",
       "        </tr>\n",
       "        <tr>\n",
       "            <td>Envision Academy for Arts & Technology</td>\n",
       "            <td>Alameda</td>\n",
       "            <td>395.0</td>\n",
       "        </tr>\n",
       "        <tr>\n",
       "            <td>Aspire California College Preparatory Academy</td>\n",
       "            <td>Alameda</td>\n",
       "            <td>244.0</td>\n",
       "        </tr>\n",
       "        <tr>\n",
       "            <td>Community School for Creative Education</td>\n",
       "            <td>Alameda</td>\n",
       "            <td>191.0</td>\n",
       "        </tr>\n",
       "        <tr>\n",
       "            <td>Yu Ming Charter</td>\n",
       "            <td>Alameda</td>\n",
       "            <td>257.0</td>\n",
       "        </tr>\n",
       "        <tr>\n",
       "            <td>Urban Montessori Charter</td>\n",
       "            <td>Alameda</td>\n",
       "            <td>279.0</td>\n",
       "        </tr>\n",
       "        <tr>\n",
       "            <td>Alameda County Juvenile Hall/Court</td>\n",
       "            <td>Alameda</td>\n",
       "            <td>181.0</td>\n",
       "        </tr>\n",
       "        <tr>\n",
       "            <td>Alameda County Community</td>\n",
       "            <td>Alameda</td>\n",
       "            <td>277.0</td>\n",
       "        </tr>\n",
       "        <tr>\n",
       "            <td>Cox Academy</td>\n",
       "            <td>Alameda</td>\n",
       "            <td>597.0</td>\n",
       "        </tr>\n",
       "        <tr>\n",
       "            <td>Lazear Charter Academy</td>\n",
       "            <td>Alameda</td>\n",
       "            <td>437.0</td>\n",
       "        </tr>\n",
       "    </tbody>\n",
       "</table>\n",
       "<span style=\"font-style:italic;text-align:center;\">Truncated to <a href=\"https://jupysql.ploomber.io/en/latest/api/configuration.html#displaylimit\">displaylimit</a> of 10.</span>"
      ],
      "text/plain": [
       "+-----------------------------------------------+-------------+---------------+\n",
       "|                  school_name                  | county_name | enrolment_k12 |\n",
       "+-----------------------------------------------+-------------+---------------+\n",
       "|              FAME Public Charter              |   Alameda   |     1087.0    |\n",
       "|     Envision Academy for Arts & Technology    |   Alameda   |     395.0     |\n",
       "| Aspire California College Preparatory Academy |   Alameda   |     244.0     |\n",
       "|    Community School for Creative Education    |   Alameda   |     191.0     |\n",
       "|                Yu Ming Charter                |   Alameda   |     257.0     |\n",
       "|            Urban Montessori Charter           |   Alameda   |     279.0     |\n",
       "|       Alameda County Juvenile Hall/Court      |   Alameda   |     181.0     |\n",
       "|            Alameda County Community           |   Alameda   |     277.0     |\n",
       "|                  Cox Academy                  |   Alameda   |     597.0     |\n",
       "|             Lazear Charter Academy            |   Alameda   |     437.0     |\n",
       "+-----------------------------------------------+-------------+---------------+\n",
       "Truncated to displaylimit of 10."
      ]
     },
     "execution_count": 814,
     "metadata": {},
     "output_type": "execute_result"
    }
   ],
   "source": [
    "%%sql\n",
    "SELECT\n",
    "    \"School Name\" AS school_name,\n",
    "    \"County Name\" AS county_name,\n",
    "    \"Enrollment (K-12)\" AS enrolment_k12\n",
    "FROM frpm;"
   ]
  },
  {
   "cell_type": "markdown",
   "id": "df1f5526",
   "metadata": {},
   "source": [
    "### Simple Filtering"
   ]
  },
  {
   "cell_type": "markdown",
   "id": "bcd352f0",
   "metadata": {},
   "source": [
    "List all schools in the “Los Angeles” county (from schools) that are open."
   ]
  },
  {
   "cell_type": "code",
   "execution_count": 815,
   "id": "e1886666",
   "metadata": {},
   "outputs": [
    {
     "data": {
      "text/html": [
       "<span style=\"None\">Running query in &#x27;sqlite:///cdeschools.sqlite&#x27;</span>"
      ],
      "text/plain": [
       "Running query in 'sqlite:///cdeschools.sqlite'"
      ]
     },
     "metadata": {},
     "output_type": "display_data"
    },
    {
     "data": {
      "text/html": [
       "<table>\n",
       "    <thead>\n",
       "        <tr>\n",
       "            <th>school_name</th>\n",
       "            <th>county_name</th>\n",
       "            <th>open_date</th>\n",
       "        </tr>\n",
       "    </thead>\n",
       "    <tbody>\n",
       "        <tr>\n",
       "            <td>Jardin de la Infancia</td>\n",
       "            <td>Los Angeles</td>\n",
       "            <td>2004-09-01</td>\n",
       "        </tr>\n",
       "        <tr>\n",
       "            <td>Aspire Antonio Maria Lugo Academy</td>\n",
       "            <td>Los Angeles</td>\n",
       "            <td>2005-09-06</td>\n",
       "        </tr>\n",
       "        <tr>\n",
       "            <td>Los Angeles International Charter High</td>\n",
       "            <td>Los Angeles</td>\n",
       "            <td>2005-09-06</td>\n",
       "        </tr>\n",
       "        <tr>\n",
       "            <td>Aspire Ollin University Preparatory Academy</td>\n",
       "            <td>Los Angeles</td>\n",
       "            <td>2006-09-11</td>\n",
       "        </tr>\n",
       "        <tr>\n",
       "            <td>Environmental Charter Middle</td>\n",
       "            <td>Los Angeles</td>\n",
       "            <td>2010-08-31</td>\n",
       "        </tr>\n",
       "        <tr>\n",
       "            <td>Nidorf, Barry J.</td>\n",
       "            <td>Los Angeles</td>\n",
       "            <td>2010-07-01</td>\n",
       "        </tr>\n",
       "        <tr>\n",
       "            <td>Los Padrinos Juvenile Hall</td>\n",
       "            <td>Los Angeles</td>\n",
       "            <td>2010-07-01</td>\n",
       "        </tr>\n",
       "        <tr>\n",
       "            <td>Central Juvenile Hall</td>\n",
       "            <td>Los Angeles</td>\n",
       "            <td>2010-07-01</td>\n",
       "        </tr>\n",
       "        <tr>\n",
       "            <td>Kirby, Dorothy Camp</td>\n",
       "            <td>Los Angeles</td>\n",
       "            <td>2010-07-01</td>\n",
       "        </tr>\n",
       "        <tr>\n",
       "            <td>Afflerbaugh-Paige Camp</td>\n",
       "            <td>Los Angeles</td>\n",
       "            <td>2010-07-01</td>\n",
       "        </tr>\n",
       "    </tbody>\n",
       "</table>\n",
       "<span style=\"font-style:italic;text-align:center;\">Truncated to <a href=\"https://jupysql.ploomber.io/en/latest/api/configuration.html#displaylimit\">displaylimit</a> of 10.</span>"
      ],
      "text/plain": [
       "+---------------------------------------------+-------------+------------+\n",
       "|                 school_name                 | county_name | open_date  |\n",
       "+---------------------------------------------+-------------+------------+\n",
       "|            Jardin de la Infancia            | Los Angeles | 2004-09-01 |\n",
       "|      Aspire Antonio Maria Lugo Academy      | Los Angeles | 2005-09-06 |\n",
       "|    Los Angeles International Charter High   | Los Angeles | 2005-09-06 |\n",
       "| Aspire Ollin University Preparatory Academy | Los Angeles | 2006-09-11 |\n",
       "|         Environmental Charter Middle        | Los Angeles | 2010-08-31 |\n",
       "|               Nidorf, Barry J.              | Los Angeles | 2010-07-01 |\n",
       "|          Los Padrinos Juvenile Hall         | Los Angeles | 2010-07-01 |\n",
       "|            Central Juvenile Hall            | Los Angeles | 2010-07-01 |\n",
       "|             Kirby, Dorothy Camp             | Los Angeles | 2010-07-01 |\n",
       "|            Afflerbaugh-Paige Camp           | Los Angeles | 2010-07-01 |\n",
       "+---------------------------------------------+-------------+------------+\n",
       "Truncated to displaylimit of 10."
      ]
     },
     "execution_count": 815,
     "metadata": {},
     "output_type": "execute_result"
    }
   ],
   "source": [
    "%%sql\n",
    "SELECT\n",
    "    \"School\" AS school_name,\n",
    "    \"County\" AS county_name,\n",
    "    OpenDate AS open_date\n",
    "FROM schools\n",
    "WHERE StatusType\n",
    "    IS NOT \"Closed\" AND\n",
    "    school_name IS NOT NULL AND\n",
    "    county_name IS \"Los Angeles\";"
   ]
  },
  {
   "cell_type": "markdown",
   "id": "3fa76d00",
   "metadata": {},
   "source": [
    "### Sorting and Filtering"
   ]
  },
  {
   "cell_type": "markdown",
   "id": "2de88706",
   "metadata": {},
   "source": [
    "From satscores, find the top 5 schools by `AvgScrMath`, showing `sname`, `AvgScrRead`, `AvgScrMath`."
   ]
  },
  {
   "cell_type": "code",
   "execution_count": 816,
   "id": "8f7269a5",
   "metadata": {},
   "outputs": [
    {
     "data": {
      "text/html": [
       "<span style=\"None\">Running query in &#x27;sqlite:///cdeschools.sqlite&#x27;</span>"
      ],
      "text/plain": [
       "Running query in 'sqlite:///cdeschools.sqlite'"
      ]
     },
     "metadata": {},
     "output_type": "display_data"
    },
    {
     "data": {
      "text/html": [
       "<table>\n",
       "    <thead>\n",
       "        <tr>\n",
       "            <th>school_name</th>\n",
       "            <th>avg_scr_math</th>\n",
       "            <th>avg_scr_read</th>\n",
       "        </tr>\n",
       "    </thead>\n",
       "    <tbody>\n",
       "        <tr>\n",
       "            <td>Mission San Jose High</td>\n",
       "            <td>699</td>\n",
       "            <td>653</td>\n",
       "        </tr>\n",
       "        <tr>\n",
       "            <td>Lynbrook High</td>\n",
       "            <td>698</td>\n",
       "            <td>639</td>\n",
       "        </tr>\n",
       "        <tr>\n",
       "            <td>Monta Vista High</td>\n",
       "            <td>691</td>\n",
       "            <td>638</td>\n",
       "        </tr>\n",
       "        <tr>\n",
       "            <td>Whitney (Gretchen) High</td>\n",
       "            <td>687</td>\n",
       "            <td>639</td>\n",
       "        </tr>\n",
       "        <tr>\n",
       "            <td>Henry M. Gunn High</td>\n",
       "            <td>686</td>\n",
       "            <td>642</td>\n",
       "        </tr>\n",
       "    </tbody>\n",
       "</table>"
      ],
      "text/plain": [
       "+-------------------------+--------------+--------------+\n",
       "|       school_name       | avg_scr_math | avg_scr_read |\n",
       "+-------------------------+--------------+--------------+\n",
       "|  Mission San Jose High  |     699      |     653      |\n",
       "|      Lynbrook High      |     698      |     639      |\n",
       "|     Monta Vista High    |     691      |     638      |\n",
       "| Whitney (Gretchen) High |     687      |     639      |\n",
       "|    Henry M. Gunn High   |     686      |     642      |\n",
       "+-------------------------+--------------+--------------+"
      ]
     },
     "execution_count": 816,
     "metadata": {},
     "output_type": "execute_result"
    }
   ],
   "source": [
    "%%sql\n",
    "SELECT\n",
    "    sname AS school_name,\n",
    "    AvgScrMath AS avg_scr_math,\n",
    "    AvgScrRead AS avg_scr_read\n",
    "FROM satscores\n",
    "ORDER BY avg_scr_math DESC\n",
    "LIMIT 5;"
   ]
  },
  {
   "cell_type": "markdown",
   "id": "913bf098",
   "metadata": {},
   "source": [
    "### Distinct Values"
   ]
  },
  {
   "cell_type": "markdown",
   "id": "ceec3148",
   "metadata": {},
   "source": [
    "Get all distinct `FundingType` values from schools."
   ]
  },
  {
   "cell_type": "code",
   "execution_count": 817,
   "id": "573bd6c7",
   "metadata": {},
   "outputs": [
    {
     "data": {
      "text/html": [
       "<span style=\"None\">Running query in &#x27;sqlite:///cdeschools.sqlite&#x27;</span>"
      ],
      "text/plain": [
       "Running query in 'sqlite:///cdeschools.sqlite'"
      ]
     },
     "metadata": {},
     "output_type": "display_data"
    },
    {
     "data": {
      "text/html": [
       "<table>\n",
       "    <thead>\n",
       "        <tr>\n",
       "            <th>funding_type</th>\n",
       "            <th>number_of_schools</th>\n",
       "        </tr>\n",
       "    </thead>\n",
       "    <tbody>\n",
       "        <tr>\n",
       "            <td>None</td>\n",
       "            <td>12307</td>\n",
       "        </tr>\n",
       "        <tr>\n",
       "            <td>Directly funded</td>\n",
       "            <td>1156</td>\n",
       "        </tr>\n",
       "        <tr>\n",
       "            <td>Locally funded</td>\n",
       "            <td>452</td>\n",
       "        </tr>\n",
       "        <tr>\n",
       "            <td>Not in CS funding model</td>\n",
       "            <td>6</td>\n",
       "        </tr>\n",
       "    </tbody>\n",
       "</table>"
      ],
      "text/plain": [
       "+-------------------------+-------------------+\n",
       "|       funding_type      | number_of_schools |\n",
       "+-------------------------+-------------------+\n",
       "|           None          |       12307       |\n",
       "|     Directly funded     |        1156       |\n",
       "|      Locally funded     |        452        |\n",
       "| Not in CS funding model |         6         |\n",
       "+-------------------------+-------------------+"
      ]
     },
     "execution_count": 817,
     "metadata": {},
     "output_type": "execute_result"
    }
   ],
   "source": [
    "%%sql\n",
    "SELECT\n",
    "    DISTINCT(FundingType) AS funding_type,\n",
    "    COUNT(DISTINCT School) AS number_of_schools\n",
    "FROM schools\n",
    "GROUP BY funding_type;"
   ]
  },
  {
   "cell_type": "markdown",
   "id": "b4d8a2a0",
   "metadata": {},
   "source": [
    "## Aggregations and Groupings"
   ]
  },
  {
   "cell_type": "markdown",
   "id": "bd69ac03",
   "metadata": {},
   "source": [
    "### Basic Aggregates"
   ]
  },
  {
   "cell_type": "markdown",
   "id": "e406eb04",
   "metadata": {},
   "source": [
    "For each district in frpm (`District Name`), compute the total `Enrollment (K-12)` and average `Percent (%) Eligible FRPM (K-12)`."
   ]
  },
  {
   "cell_type": "code",
   "execution_count": 818,
   "id": "c96739d4",
   "metadata": {},
   "outputs": [
    {
     "data": {
      "text/html": [
       "<span style=\"None\">Running query in &#x27;sqlite:///cdeschools.sqlite&#x27;</span>"
      ],
      "text/plain": [
       "Running query in 'sqlite:///cdeschools.sqlite'"
      ]
     },
     "metadata": {},
     "output_type": "display_data"
    },
    {
     "data": {
      "text/html": [
       "<table>\n",
       "    <thead>\n",
       "        <tr>\n",
       "            <th>district_name</th>\n",
       "            <th>total_enrolment_k12</th>\n",
       "            <th>avg_pct_eligible_frpm_k12</th>\n",
       "        </tr>\n",
       "    </thead>\n",
       "    <tbody>\n",
       "        <tr>\n",
       "            <td>Los Angeles Unified</td>\n",
       "            <td>646683.0</td>\n",
       "            <td>0.7661354707053055</td>\n",
       "        </tr>\n",
       "        <tr>\n",
       "            <td>San Diego Unified</td>\n",
       "            <td>129794.0</td>\n",
       "            <td>0.6341436895240766</td>\n",
       "        </tr>\n",
       "        <tr>\n",
       "            <td>Long Beach Unified</td>\n",
       "            <td>79709.0</td>\n",
       "            <td>0.6499238451630597</td>\n",
       "        </tr>\n",
       "        <tr>\n",
       "            <td>Fresno Unified</td>\n",
       "            <td>73543.0</td>\n",
       "            <td>0.8505455348746777</td>\n",
       "        </tr>\n",
       "        <tr>\n",
       "            <td>Elk Grove Unified</td>\n",
       "            <td>62888.0</td>\n",
       "            <td>0.5605733170202977</td>\n",
       "        </tr>\n",
       "        <tr>\n",
       "            <td>San Francisco Unified</td>\n",
       "            <td>58414.0</td>\n",
       "            <td>0.6422081930672513</td>\n",
       "        </tr>\n",
       "        <tr>\n",
       "            <td>Santa Ana Unified</td>\n",
       "            <td>56815.0</td>\n",
       "            <td>0.8565427846367221</td>\n",
       "        </tr>\n",
       "        <tr>\n",
       "            <td>Capistrano Unified</td>\n",
       "            <td>54036.0</td>\n",
       "            <td>0.24393433223604294</td>\n",
       "        </tr>\n",
       "        <tr>\n",
       "            <td>Corona-Norco Unified</td>\n",
       "            <td>53739.0</td>\n",
       "            <td>0.4835829509222873</td>\n",
       "        </tr>\n",
       "        <tr>\n",
       "            <td>San Bernardino City Unified</td>\n",
       "            <td>53365.0</td>\n",
       "            <td>0.8826857456644714</td>\n",
       "        </tr>\n",
       "    </tbody>\n",
       "</table>\n",
       "<span style=\"font-style:italic;text-align:center;\">Truncated to <a href=\"https://jupysql.ploomber.io/en/latest/api/configuration.html#displaylimit\">displaylimit</a> of 10.</span>"
      ],
      "text/plain": [
       "+-----------------------------+---------------------+---------------------------+\n",
       "|        district_name        | total_enrolment_k12 | avg_pct_eligible_frpm_k12 |\n",
       "+-----------------------------+---------------------+---------------------------+\n",
       "|     Los Angeles Unified     |       646683.0      |     0.7661354707053055    |\n",
       "|      San Diego Unified      |       129794.0      |     0.6341436895240766    |\n",
       "|      Long Beach Unified     |       79709.0       |     0.6499238451630597    |\n",
       "|        Fresno Unified       |       73543.0       |     0.8505455348746777    |\n",
       "|      Elk Grove Unified      |       62888.0       |     0.5605733170202977    |\n",
       "|    San Francisco Unified    |       58414.0       |     0.6422081930672513    |\n",
       "|      Santa Ana Unified      |       56815.0       |     0.8565427846367221    |\n",
       "|      Capistrano Unified     |       54036.0       |    0.24393433223604294    |\n",
       "|     Corona-Norco Unified    |       53739.0       |     0.4835829509222873    |\n",
       "| San Bernardino City Unified |       53365.0       |     0.8826857456644714    |\n",
       "+-----------------------------+---------------------+---------------------------+\n",
       "Truncated to displaylimit of 10."
      ]
     },
     "execution_count": 818,
     "metadata": {},
     "output_type": "execute_result"
    }
   ],
   "source": [
    "%%sql\n",
    "SELECT \n",
    "    \"District Name\" AS district_name,\n",
    "    SUM(\"Enrollment (K-12)\") AS total_enrolment_k12,\n",
    "    AVG(\"Percent (%) Eligible FRPM (K-12)\") AS avg_pct_eligible_frpm_k12\n",
    "FROM frpm\n",
    "WHERE district_name IS NOT NULL\n",
    "GROUP BY district_name\n",
    "ORDER BY total_enrolment_k12 DESC;"
   ]
  },
  {
   "cell_type": "markdown",
   "id": "460ce08c",
   "metadata": {},
   "source": [
    "### Filtering Groups"
   ]
  },
  {
   "cell_type": "markdown",
   "id": "d945ebf0",
   "metadata": {},
   "source": [
    "Identify districts with more than 10,000 total enrollment in frpm. Show `District Name` and total enrollment."
   ]
  },
  {
   "cell_type": "code",
   "execution_count": 819,
   "id": "d5b9fdeb",
   "metadata": {},
   "outputs": [
    {
     "data": {
      "text/html": [
       "<span style=\"None\">Running query in &#x27;sqlite:///cdeschools.sqlite&#x27;</span>"
      ],
      "text/plain": [
       "Running query in 'sqlite:///cdeschools.sqlite'"
      ]
     },
     "metadata": {},
     "output_type": "display_data"
    },
    {
     "data": {
      "text/html": [
       "<table>\n",
       "    <thead>\n",
       "        <tr>\n",
       "            <th>district_name</th>\n",
       "            <th>total_enrolment_k12</th>\n",
       "        </tr>\n",
       "    </thead>\n",
       "    <tbody>\n",
       "        <tr>\n",
       "            <td>Merced Union High</td>\n",
       "            <td>10039.0</td>\n",
       "        </tr>\n",
       "        <tr>\n",
       "            <td>Woodland Joint Unified</td>\n",
       "            <td>10055.0</td>\n",
       "        </tr>\n",
       "        <tr>\n",
       "            <td>Lompoc Unified</td>\n",
       "            <td>10076.0</td>\n",
       "        </tr>\n",
       "        <tr>\n",
       "            <td>Bonita Unified</td>\n",
       "            <td>10146.0</td>\n",
       "        </tr>\n",
       "        <tr>\n",
       "            <td>Roseville Joint Union High</td>\n",
       "            <td>10223.0</td>\n",
       "        </tr>\n",
       "        <tr>\n",
       "            <td>Los Banos Unified</td>\n",
       "            <td>10260.0</td>\n",
       "        </tr>\n",
       "        <tr>\n",
       "            <td>Milpitas Unified</td>\n",
       "            <td>10281.0</td>\n",
       "        </tr>\n",
       "        <tr>\n",
       "            <td>Adelanto Elementary</td>\n",
       "            <td>10378.0</td>\n",
       "        </tr>\n",
       "        <tr>\n",
       "            <td>Berkeley Unified</td>\n",
       "            <td>10442.0</td>\n",
       "        </tr>\n",
       "        <tr>\n",
       "            <td>Perris Union High</td>\n",
       "            <td>10510.0</td>\n",
       "        </tr>\n",
       "    </tbody>\n",
       "</table>\n",
       "<span style=\"font-style:italic;text-align:center;\">Truncated to <a href=\"https://jupysql.ploomber.io/en/latest/api/configuration.html#displaylimit\">displaylimit</a> of 10.</span>"
      ],
      "text/plain": [
       "+----------------------------+---------------------+\n",
       "|       district_name        | total_enrolment_k12 |\n",
       "+----------------------------+---------------------+\n",
       "|     Merced Union High      |       10039.0       |\n",
       "|   Woodland Joint Unified   |       10055.0       |\n",
       "|       Lompoc Unified       |       10076.0       |\n",
       "|       Bonita Unified       |       10146.0       |\n",
       "| Roseville Joint Union High |       10223.0       |\n",
       "|     Los Banos Unified      |       10260.0       |\n",
       "|      Milpitas Unified      |       10281.0       |\n",
       "|    Adelanto Elementary     |       10378.0       |\n",
       "|      Berkeley Unified      |       10442.0       |\n",
       "|     Perris Union High      |       10510.0       |\n",
       "+----------------------------+---------------------+\n",
       "Truncated to displaylimit of 10."
      ]
     },
     "execution_count": 819,
     "metadata": {},
     "output_type": "execute_result"
    }
   ],
   "source": [
    "%%sql\n",
    "SELECT \n",
    "    \"District Name\" AS district_name,\n",
    "    SUM(\"Enrollment (K-12)\") AS total_enrolment_k12\n",
    "FROM frpm\n",
    "GROUP BY district_name\n",
    "HAVING total_enrolment_k12 > 10000\n",
    "ORDER BY total_enrolment_k12 ASC;"
   ]
  },
  {
   "cell_type": "markdown",
   "id": "9618595f",
   "metadata": {},
   "source": [
    "### Aggregate on a Join"
   ]
  },
  {
   "cell_type": "markdown",
   "id": "718b0e03",
   "metadata": {},
   "source": [
    "Join schools and frpm on the `cds` code, then for each school type (`School Type`) compute average `Percent (%) Eligible FRPM (K-12)`."
   ]
  },
  {
   "cell_type": "code",
   "execution_count": 820,
   "id": "a669cb66",
   "metadata": {},
   "outputs": [
    {
     "data": {
      "text/html": [
       "<span style=\"None\">Running query in &#x27;sqlite:///cdeschools.sqlite&#x27;</span>"
      ],
      "text/plain": [
       "Running query in 'sqlite:///cdeschools.sqlite'"
      ]
     },
     "metadata": {},
     "output_type": "display_data"
    },
    {
     "data": {
      "text/html": [
       "<table>\n",
       "    <thead>\n",
       "        <tr>\n",
       "            <th>school_name</th>\n",
       "            <th>county</th>\n",
       "            <th>school_type</th>\n",
       "            <th>avg_pct_eligible_frpm_k12</th>\n",
       "        </tr>\n",
       "    </thead>\n",
       "    <tbody>\n",
       "        <tr>\n",
       "            <td>Pine Grove Youth Conservation Camp</td>\n",
       "            <td>Amador</td>\n",
       "            <td>Youth Authority Facilities</td>\n",
       "            <td>1.0</td>\n",
       "        </tr>\n",
       "        <tr>\n",
       "            <td>Alameda County Juvenile Hall/Court</td>\n",
       "            <td>Alameda</td>\n",
       "            <td>Juvenile Court Schools</td>\n",
       "            <td>0.8431207533324713</td>\n",
       "        </tr>\n",
       "        <tr>\n",
       "            <td>Community Day</td>\n",
       "            <td>Fresno</td>\n",
       "            <td>District Community Day Schools</td>\n",
       "            <td>0.8083415487649598</td>\n",
       "        </tr>\n",
       "        <tr>\n",
       "            <td>Independent Study, Sojourner Truth</td>\n",
       "            <td>Alameda</td>\n",
       "            <td>Opportunity Schools</td>\n",
       "            <td>0.7861783973986869</td>\n",
       "        </tr>\n",
       "        <tr>\n",
       "            <td>Alameda County Community</td>\n",
       "            <td>Alameda</td>\n",
       "            <td>County Community</td>\n",
       "            <td>0.7712099176268455</td>\n",
       "        </tr>\n",
       "        <tr>\n",
       "            <td>California School for the Blind</td>\n",
       "            <td>Alameda</td>\n",
       "            <td>State Special Schools</td>\n",
       "            <td>0.7652792091301195</td>\n",
       "        </tr>\n",
       "        <tr>\n",
       "            <td>Island High (Continuation)</td>\n",
       "            <td>Alameda</td>\n",
       "            <td>Continuation High Schools</td>\n",
       "            <td>0.6813267525545001</td>\n",
       "        </tr>\n",
       "        <tr>\n",
       "            <td>Community School for Creative Education</td>\n",
       "            <td>Alameda</td>\n",
       "            <td>Elementary Schools (Public)</td>\n",
       "            <td>0.6551185234523391</td>\n",
       "        </tr>\n",
       "        <tr>\n",
       "            <td>The Academy of Alameda</td>\n",
       "            <td>Alameda</td>\n",
       "            <td>Intermediate/Middle Schools (Public)</td>\n",
       "            <td>0.6212738526114561</td>\n",
       "        </tr>\n",
       "        <tr>\n",
       "            <td>Roy A. Johnson High</td>\n",
       "            <td>Alameda</td>\n",
       "            <td>Special Education Schools (Public)</td>\n",
       "            <td>0.6046013858578518</td>\n",
       "        </tr>\n",
       "    </tbody>\n",
       "</table>\n",
       "<span style=\"font-style:italic;text-align:center;\">Truncated to <a href=\"https://jupysql.ploomber.io/en/latest/api/configuration.html#displaylimit\">displaylimit</a> of 10.</span>"
      ],
      "text/plain": [
       "+-----------------------------------------+---------+--------------------------------------+---------------------------+\n",
       "|               school_name               |  county |             school_type              | avg_pct_eligible_frpm_k12 |\n",
       "+-----------------------------------------+---------+--------------------------------------+---------------------------+\n",
       "|    Pine Grove Youth Conservation Camp   |  Amador |      Youth Authority Facilities      |            1.0            |\n",
       "|    Alameda County Juvenile Hall/Court   | Alameda |        Juvenile Court Schools        |     0.8431207533324713    |\n",
       "|              Community Day              |  Fresno |    District Community Day Schools    |     0.8083415487649598    |\n",
       "|    Independent Study, Sojourner Truth   | Alameda |         Opportunity Schools          |     0.7861783973986869    |\n",
       "|         Alameda County Community        | Alameda |           County Community           |     0.7712099176268455    |\n",
       "|     California School for the Blind     | Alameda |        State Special Schools         |     0.7652792091301195    |\n",
       "|        Island High (Continuation)       | Alameda |      Continuation High Schools       |     0.6813267525545001    |\n",
       "| Community School for Creative Education | Alameda |     Elementary Schools (Public)      |     0.6551185234523391    |\n",
       "|          The Academy of Alameda         | Alameda | Intermediate/Middle Schools (Public) |     0.6212738526114561    |\n",
       "|           Roy A. Johnson High           | Alameda |  Special Education Schools (Public)  |     0.6046013858578518    |\n",
       "+-----------------------------------------+---------+--------------------------------------+---------------------------+\n",
       "Truncated to displaylimit of 10."
      ]
     },
     "execution_count": 820,
     "metadata": {},
     "output_type": "execute_result"
    }
   ],
   "source": [
    "%%sql\n",
    "-- There is no adjoining code between schools and frpm, so we use name instead.\n",
    "SELECT\n",
    "    s1.School AS school_name,\n",
    "    s1.County AS county,\n",
    "    s2.\"School Type\" AS school_type,\n",
    "    AVG(s2.\"Percent (%) Eligible FRPM (K-12)\") AS avg_pct_eligible_frpm_k12\n",
    "FROM schools AS s1\n",
    "INNER JOIN frpm AS s2 ON s1.School = s2.\"School Name\"\n",
    "GROUP BY school_type\n",
    "ORDER BY avg_pct_eligible_frpm_k12 DESC;"
   ]
  },
  {
   "cell_type": "markdown",
   "id": "b607a102",
   "metadata": {},
   "source": [
    "Find the top three counties with the highest average `Percent (%) Eligible FRPM (K-12)`."
   ]
  },
  {
   "cell_type": "code",
   "execution_count": 821,
   "id": "b7e51e77",
   "metadata": {},
   "outputs": [
    {
     "data": {
      "text/html": [
       "<span style=\"None\">Running query in &#x27;sqlite:///cdeschools.sqlite&#x27;</span>"
      ],
      "text/plain": [
       "Running query in 'sqlite:///cdeschools.sqlite'"
      ]
     },
     "metadata": {},
     "output_type": "display_data"
    },
    {
     "data": {
      "text/html": [
       "<table>\n",
       "    <thead>\n",
       "        <tr>\n",
       "            <th>county</th>\n",
       "            <th>avg_pct_eligible_frpm_k12</th>\n",
       "        </tr>\n",
       "    </thead>\n",
       "    <tbody>\n",
       "        <tr>\n",
       "            <td>Alpine</td>\n",
       "            <td>0.74567364077651</td>\n",
       "        </tr>\n",
       "        <tr>\n",
       "            <td>Glenn</td>\n",
       "            <td>0.7423879276896337</td>\n",
       "        </tr>\n",
       "        <tr>\n",
       "            <td>Merced</td>\n",
       "            <td>0.7263867976141511</td>\n",
       "        </tr>\n",
       "    </tbody>\n",
       "</table>"
      ],
      "text/plain": [
       "+--------+---------------------------+\n",
       "| county | avg_pct_eligible_frpm_k12 |\n",
       "+--------+---------------------------+\n",
       "| Alpine |      0.74567364077651     |\n",
       "| Glenn  |     0.7423879276896337    |\n",
       "| Merced |     0.7263867976141511    |\n",
       "+--------+---------------------------+"
      ]
     },
     "execution_count": 821,
     "metadata": {},
     "output_type": "execute_result"
    }
   ],
   "source": [
    "%%sql\n",
    "-- There is no adjoining code between schools and frpm, so we use name instead.\n",
    "SELECT\n",
    "    s1.County AS county,\n",
    "    AVG(s2.\"Percent (%) Eligible FRPM (K-12)\") AS avg_pct_eligible_frpm_k12\n",
    "FROM schools AS s1\n",
    "INNER JOIN frpm AS s2 ON s1.School = s2.\"School Name\"\n",
    "GROUP BY county\n",
    "ORDER BY avg_pct_eligible_frpm_k12 DESC\n",
    "LIMIT 3;"
   ]
  },
  {
   "cell_type": "markdown",
   "id": "c7660a63",
   "metadata": {},
   "source": [
    "Improve the above, capturing also the school count, minimum and maximum eligibility."
   ]
  },
  {
   "cell_type": "code",
   "execution_count": 822,
   "id": "164c4dde",
   "metadata": {},
   "outputs": [
    {
     "data": {
      "text/html": [
       "<span style=\"None\">Running query in &#x27;sqlite:///cdeschools.sqlite&#x27;</span>"
      ],
      "text/plain": [
       "Running query in 'sqlite:///cdeschools.sqlite'"
      ]
     },
     "metadata": {},
     "output_type": "display_data"
    },
    {
     "data": {
      "text/html": [
       "<table>\n",
       "    <thead>\n",
       "        <tr>\n",
       "            <th>county</th>\n",
       "            <th>school_count</th>\n",
       "            <th>avg_pct_eligible_frpm_k12</th>\n",
       "            <th>min_pct_eligible_frpm_k12</th>\n",
       "            <th>max_pct_eligible_frpm_k12</th>\n",
       "        </tr>\n",
       "    </thead>\n",
       "    <tbody>\n",
       "        <tr>\n",
       "            <td>Alpine</td>\n",
       "            <td>6</td>\n",
       "            <td>0.74567364077651</td>\n",
       "            <td>0.06464646464646465</td>\n",
       "            <td>1.0</td>\n",
       "        </tr>\n",
       "        <tr>\n",
       "            <td>Glenn</td>\n",
       "            <td>29</td>\n",
       "            <td>0.7423879276896337</td>\n",
       "            <td>0.09611451942740286</td>\n",
       "            <td>1.0</td>\n",
       "        </tr>\n",
       "        <tr>\n",
       "            <td>Merced</td>\n",
       "            <td>105</td>\n",
       "            <td>0.7263867976141511</td>\n",
       "            <td>0.022573363431151242</td>\n",
       "            <td>1.0</td>\n",
       "        </tr>\n",
       "    </tbody>\n",
       "</table>"
      ],
      "text/plain": [
       "+--------+--------------+---------------------------+---------------------------+---------------------------+\n",
       "| county | school_count | avg_pct_eligible_frpm_k12 | min_pct_eligible_frpm_k12 | max_pct_eligible_frpm_k12 |\n",
       "+--------+--------------+---------------------------+---------------------------+---------------------------+\n",
       "| Alpine |      6       |      0.74567364077651     |    0.06464646464646465    |            1.0            |\n",
       "| Glenn  |      29      |     0.7423879276896337    |    0.09611451942740286    |            1.0            |\n",
       "| Merced |     105      |     0.7263867976141511    |    0.022573363431151242   |            1.0            |\n",
       "+--------+--------------+---------------------------+---------------------------+---------------------------+"
      ]
     },
     "execution_count": 822,
     "metadata": {},
     "output_type": "execute_result"
    }
   ],
   "source": [
    "%%sql\n",
    "-- There is no adjoining code between schools and frpm, so we use name instead.\n",
    "SELECT\n",
    "    s1.County AS county,\n",
    "    COUNT(DISTINCT s1.School) AS school_count,\n",
    "    AVG(s2.\"Percent (%) Eligible FRPM (K-12)\") AS avg_pct_eligible_frpm_k12,\n",
    "    MIN(s2.\"Percent (%) Eligible FRPM (K-12)\") AS min_pct_eligible_frpm_k12,\n",
    "    MAX(s2.\"Percent (%) Eligible FRPM (K-12)\") AS max_pct_eligible_frpm_k12\n",
    "FROM schools AS s1\n",
    "INNER JOIN frpm AS s2 ON s1.School = s2.\"School Name\"\n",
    "GROUP BY county\n",
    "ORDER BY avg_pct_eligible_frpm_k12 DESC\n",
    "LIMIT 3;"
   ]
  },
  {
   "cell_type": "markdown",
   "id": "0dcd64ae",
   "metadata": {},
   "source": [
    "## Joins & Subqueries"
   ]
  },
  {
   "cell_type": "markdown",
   "id": "20ac76df",
   "metadata": {},
   "source": [
    "### Inner Join"
   ]
  },
  {
   "cell_type": "markdown",
   "id": "c4ceab24",
   "metadata": {},
   "source": [
    "List all schools that appear in both schools and satscores. Show `School` (from schools) and `NumTstTakr`."
   ]
  },
  {
   "cell_type": "code",
   "execution_count": 823,
   "id": "16e3e098",
   "metadata": {},
   "outputs": [
    {
     "data": {
      "text/html": [
       "<span style=\"None\">Running query in &#x27;sqlite:///cdeschools.sqlite&#x27;</span>"
      ],
      "text/plain": [
       "Running query in 'sqlite:///cdeschools.sqlite'"
      ]
     },
     "metadata": {},
     "output_type": "display_data"
    },
    {
     "data": {
      "text/html": [
       "<table>\n",
       "    <thead>\n",
       "        <tr>\n",
       "            <th>school</th>\n",
       "            <th>total_tests</th>\n",
       "        </tr>\n",
       "    </thead>\n",
       "    <tbody>\n",
       "        <tr>\n",
       "            <td>John F. Kennedy High</td>\n",
       "            <td>1219</td>\n",
       "        </tr>\n",
       "        <tr>\n",
       "            <td>Foothill High</td>\n",
       "            <td>1027</td>\n",
       "        </tr>\n",
       "        <tr>\n",
       "            <td>Polytechnic High</td>\n",
       "            <td>966</td>\n",
       "        </tr>\n",
       "        <tr>\n",
       "            <td>Edison High</td>\n",
       "            <td>835</td>\n",
       "        </tr>\n",
       "        <tr>\n",
       "            <td>La Quinta High</td>\n",
       "            <td>808</td>\n",
       "        </tr>\n",
       "        <tr>\n",
       "            <td>Santiago High</td>\n",
       "            <td>802</td>\n",
       "        </tr>\n",
       "        <tr>\n",
       "            <td>Valencia High</td>\n",
       "            <td>800</td>\n",
       "        </tr>\n",
       "        <tr>\n",
       "            <td>California High</td>\n",
       "            <td>773</td>\n",
       "        </tr>\n",
       "        <tr>\n",
       "            <td>Granada Hills Charter High</td>\n",
       "            <td>748</td>\n",
       "        </tr>\n",
       "        <tr>\n",
       "            <td>Centennial High</td>\n",
       "            <td>705</td>\n",
       "        </tr>\n",
       "    </tbody>\n",
       "</table>\n",
       "<span style=\"font-style:italic;text-align:center;\">Truncated to <a href=\"https://jupysql.ploomber.io/en/latest/api/configuration.html#displaylimit\">displaylimit</a> of 10.</span>"
      ],
      "text/plain": [
       "+----------------------------+-------------+\n",
       "|           school           | total_tests |\n",
       "+----------------------------+-------------+\n",
       "|    John F. Kennedy High    |     1219    |\n",
       "|       Foothill High        |     1027    |\n",
       "|      Polytechnic High      |     966     |\n",
       "|        Edison High         |     835     |\n",
       "|       La Quinta High       |     808     |\n",
       "|       Santiago High        |     802     |\n",
       "|       Valencia High        |     800     |\n",
       "|      California High       |     773     |\n",
       "| Granada Hills Charter High |     748     |\n",
       "|      Centennial High       |     705     |\n",
       "+----------------------------+-------------+\n",
       "Truncated to displaylimit of 10."
      ]
     },
     "execution_count": 823,
     "metadata": {},
     "output_type": "execute_result"
    }
   ],
   "source": [
    "%%sql\n",
    "SELECT \n",
    "    s1.School AS school,\n",
    "    SUM(s2.NumTstTakr) AS total_tests\n",
    "FROM schools AS s1\n",
    "INNER JOIN satscores AS s2 ON s1.CDSCode = s2.cds\n",
    "WHERE s1.school IS NOT NULL\n",
    "GROUP BY school\n",
    "ORDER BY total_tests DESC;"
   ]
  },
  {
   "cell_type": "markdown",
   "id": "ac720fe7",
   "metadata": {},
   "source": [
    "As the above, but show the average `AvgScrMath`, `AvgScrRead`, `AvgScrWrite` and the average of all scores for each `County`."
   ]
  },
  {
   "cell_type": "code",
   "execution_count": 824,
   "id": "73aff490",
   "metadata": {},
   "outputs": [
    {
     "data": {
      "text/html": [
       "<span style=\"None\">Running query in &#x27;sqlite:///cdeschools.sqlite&#x27;</span>"
      ],
      "text/plain": [
       "Running query in 'sqlite:///cdeschools.sqlite'"
      ]
     },
     "metadata": {},
     "output_type": "display_data"
    },
    {
     "data": {
      "text/html": [
       "<table>\n",
       "    <thead>\n",
       "        <tr>\n",
       "            <th>county</th>\n",
       "            <th>total_tests</th>\n",
       "            <th>avg_scr_math</th>\n",
       "            <th>avg_scr_read</th>\n",
       "            <th>avg_scr_write</th>\n",
       "            <th>avg_scores</th>\n",
       "        </tr>\n",
       "    </thead>\n",
       "    <tbody>\n",
       "        <tr>\n",
       "            <td>Los Angeles</td>\n",
       "            <td>119269</td>\n",
       "            <td>456.4020356234097</td>\n",
       "            <td>450.97201017811705</td>\n",
       "            <td>449.21374045801525</td>\n",
       "            <td>452.1959287531807</td>\n",
       "        </tr>\n",
       "        <tr>\n",
       "            <td>Orange</td>\n",
       "            <td>38152</td>\n",
       "            <td>528.8409090909091</td>\n",
       "            <td>510.85227272727275</td>\n",
       "            <td>507.6136363636364</td>\n",
       "            <td>515.7689393939395</td>\n",
       "        </tr>\n",
       "        <tr>\n",
       "            <td>San Diego</td>\n",
       "            <td>36084</td>\n",
       "            <td>499.27966101694915</td>\n",
       "            <td>496.66101694915255</td>\n",
       "            <td>483.60169491525426</td>\n",
       "            <td>493.180790960452</td>\n",
       "        </tr>\n",
       "        <tr>\n",
       "            <td>Riverside</td>\n",
       "            <td>26851</td>\n",
       "            <td>465.4320987654321</td>\n",
       "            <td>463.7654320987654</td>\n",
       "            <td>456.2098765432099</td>\n",
       "            <td>461.8024691358025</td>\n",
       "        </tr>\n",
       "        <tr>\n",
       "            <td>San Bernardino</td>\n",
       "            <td>24386</td>\n",
       "            <td>468.76190476190476</td>\n",
       "            <td>465.0952380952381</td>\n",
       "            <td>456.1190476190476</td>\n",
       "            <td>463.3253968253968</td>\n",
       "        </tr>\n",
       "        <tr>\n",
       "            <td>Santa Clara</td>\n",
       "            <td>21380</td>\n",
       "            <td>548.728813559322</td>\n",
       "            <td>526.271186440678</td>\n",
       "            <td>527.0847457627119</td>\n",
       "            <td>534.0282485875706</td>\n",
       "        </tr>\n",
       "        <tr>\n",
       "            <td>Alameda</td>\n",
       "            <td>17635</td>\n",
       "            <td>497.06849315068496</td>\n",
       "            <td>480.5753424657534</td>\n",
       "            <td>481.5342465753425</td>\n",
       "            <td>486.3926940639269</td>\n",
       "        </tr>\n",
       "        <tr>\n",
       "            <td>Sacramento</td>\n",
       "            <td>14360</td>\n",
       "            <td>486.1</td>\n",
       "            <td>480.15</td>\n",
       "            <td>469.46666666666664</td>\n",
       "            <td>478.57222222222225</td>\n",
       "        </tr>\n",
       "        <tr>\n",
       "            <td>Contra Costa</td>\n",
       "            <td>14054</td>\n",
       "            <td>493.19565217391306</td>\n",
       "            <td>487.7608695652174</td>\n",
       "            <td>486.17391304347825</td>\n",
       "            <td>489.04347826086956</td>\n",
       "        </tr>\n",
       "        <tr>\n",
       "            <td>Fresno</td>\n",
       "            <td>11814</td>\n",
       "            <td>441.29411764705884</td>\n",
       "            <td>440.80392156862746</td>\n",
       "            <td>434.6470588235294</td>\n",
       "            <td>438.91503267973854</td>\n",
       "        </tr>\n",
       "    </tbody>\n",
       "</table>\n",
       "<span style=\"font-style:italic;text-align:center;\">Truncated to <a href=\"https://jupysql.ploomber.io/en/latest/api/configuration.html#displaylimit\">displaylimit</a> of 10.</span>"
      ],
      "text/plain": [
       "+----------------+-------------+--------------------+--------------------+--------------------+--------------------+\n",
       "|     county     | total_tests |    avg_scr_math    |    avg_scr_read    |   avg_scr_write    |     avg_scores     |\n",
       "+----------------+-------------+--------------------+--------------------+--------------------+--------------------+\n",
       "|  Los Angeles   |    119269   | 456.4020356234097  | 450.97201017811705 | 449.21374045801525 | 452.1959287531807  |\n",
       "|     Orange     |    38152    | 528.8409090909091  | 510.85227272727275 | 507.6136363636364  | 515.7689393939395  |\n",
       "|   San Diego    |    36084    | 499.27966101694915 | 496.66101694915255 | 483.60169491525426 |  493.180790960452  |\n",
       "|   Riverside    |    26851    | 465.4320987654321  | 463.7654320987654  | 456.2098765432099  | 461.8024691358025  |\n",
       "| San Bernardino |    24386    | 468.76190476190476 | 465.0952380952381  | 456.1190476190476  | 463.3253968253968  |\n",
       "|  Santa Clara   |    21380    |  548.728813559322  |  526.271186440678  | 527.0847457627119  | 534.0282485875706  |\n",
       "|    Alameda     |    17635    | 497.06849315068496 | 480.5753424657534  | 481.5342465753425  | 486.3926940639269  |\n",
       "|   Sacramento   |    14360    |       486.1        |       480.15       | 469.46666666666664 | 478.57222222222225 |\n",
       "|  Contra Costa  |    14054    | 493.19565217391306 | 487.7608695652174  | 486.17391304347825 | 489.04347826086956 |\n",
       "|     Fresno     |    11814    | 441.29411764705884 | 440.80392156862746 | 434.6470588235294  | 438.91503267973854 |\n",
       "+----------------+-------------+--------------------+--------------------+--------------------+--------------------+\n",
       "Truncated to displaylimit of 10."
      ]
     },
     "execution_count": 824,
     "metadata": {},
     "output_type": "execute_result"
    }
   ],
   "source": [
    "%%sql\n",
    "SELECT \n",
    "    s1.County AS county,\n",
    "    SUM(s2.NumTstTakr) AS total_tests,\n",
    "    AVG(s2.AvgScrMath) AS avg_scr_math,\n",
    "    AVG(s2.AvgScrRead) AS avg_scr_read,\n",
    "    AVG(s2.AvgScrWrite) AS avg_scr_write,\n",
    "    (AVG(s2.AvgScrMath) + AVG(s2.AvgScrRead) + AVG(s2.AvgScrWrite)) / 3 AS avg_scores\n",
    "FROM schools AS s1\n",
    "INNER JOIN satscores AS s2 ON s1.CDSCode = s2.cds\n",
    "GROUP BY county\n",
    "ORDER BY total_tests DESC;"
   ]
  },
  {
   "cell_type": "markdown",
   "id": "1765bb63",
   "metadata": {},
   "source": [
    "*The above can be achieved similarly without a subquery, pick whatever is more comprehensible:*"
   ]
  },
  {
   "cell_type": "markdown",
   "id": "454fb587",
   "metadata": {},
   "source": [
    "### Left Join & Nulls"
   ]
  },
  {
   "cell_type": "markdown",
   "id": "65ebd878",
   "metadata": {},
   "source": [
    "Find schools in schools that have no SAT scores. Show `CDSCode` and `School`."
   ]
  },
  {
   "cell_type": "code",
   "execution_count": 825,
   "id": "418a106e",
   "metadata": {},
   "outputs": [
    {
     "data": {
      "text/html": [
       "<span style=\"None\">Running query in &#x27;sqlite:///cdeschools.sqlite&#x27;</span>"
      ],
      "text/plain": [
       "Running query in 'sqlite:///cdeschools.sqlite'"
      ]
     },
     "metadata": {},
     "output_type": "display_data"
    },
    {
     "data": {
      "text/html": [
       "<table>\n",
       "    <thead>\n",
       "        <tr>\n",
       "            <th>school_code</th>\n",
       "            <th>school_name</th>\n",
       "        </tr>\n",
       "    </thead>\n",
       "    <tbody>\n",
       "        <tr>\n",
       "            <td>01100170118489</td>\n",
       "            <td>Aspire California College Preparatory Academy</td>\n",
       "        </tr>\n",
       "        <tr>\n",
       "            <td>01100170123968</td>\n",
       "            <td>Community School for Creative Education</td>\n",
       "        </tr>\n",
       "        <tr>\n",
       "            <td>01100170124172</td>\n",
       "            <td>Yu Ming Charter</td>\n",
       "        </tr>\n",
       "        <tr>\n",
       "            <td>01100170125567</td>\n",
       "            <td>Urban Montessori Charter</td>\n",
       "        </tr>\n",
       "        <tr>\n",
       "            <td>01100170130302</td>\n",
       "            <td>Technical, Agricultural & Nat.</td>\n",
       "        </tr>\n",
       "        <tr>\n",
       "            <td>01100170130401</td>\n",
       "            <td>Alameda County Juvenile Hall/Court</td>\n",
       "        </tr>\n",
       "        <tr>\n",
       "            <td>01100170130419</td>\n",
       "            <td>Alameda County Community</td>\n",
       "        </tr>\n",
       "        <tr>\n",
       "            <td>01100170130427</td>\n",
       "            <td>Alameda County Opportunity</td>\n",
       "        </tr>\n",
       "        <tr>\n",
       "            <td>01100170131276</td>\n",
       "            <td>Berkeley Trade & Tech. College</td>\n",
       "        </tr>\n",
       "        <tr>\n",
       "            <td>01100170131581</td>\n",
       "            <td>Oakland Unity Middle</td>\n",
       "        </tr>\n",
       "    </tbody>\n",
       "</table>\n",
       "<span style=\"font-style:italic;text-align:center;\">Truncated to <a href=\"https://jupysql.ploomber.io/en/latest/api/configuration.html#displaylimit\">displaylimit</a> of 10.</span>"
      ],
      "text/plain": [
       "+----------------+-----------------------------------------------+\n",
       "|  school_code   |                  school_name                  |\n",
       "+----------------+-----------------------------------------------+\n",
       "| 01100170118489 | Aspire California College Preparatory Academy |\n",
       "| 01100170123968 |    Community School for Creative Education    |\n",
       "| 01100170124172 |                Yu Ming Charter                |\n",
       "| 01100170125567 |            Urban Montessori Charter           |\n",
       "| 01100170130302 |         Technical, Agricultural & Nat.        |\n",
       "| 01100170130401 |       Alameda County Juvenile Hall/Court      |\n",
       "| 01100170130419 |            Alameda County Community           |\n",
       "| 01100170130427 |           Alameda County Opportunity          |\n",
       "| 01100170131276 |         Berkeley Trade & Tech. College        |\n",
       "| 01100170131581 |              Oakland Unity Middle             |\n",
       "+----------------+-----------------------------------------------+\n",
       "Truncated to displaylimit of 10."
      ]
     },
     "execution_count": 825,
     "metadata": {},
     "output_type": "execute_result"
    }
   ],
   "source": [
    "%%sql\n",
    "SELECT\n",
    "    s1.CDSCode AS school_code,\n",
    "    s1.School AS school_name\n",
    "FROM schools AS s1\n",
    "LEFT JOIN satscores AS s2 ON s1.CDSCode = s2.cds\n",
    "WHERE s2.AvgScrMath IS NULL AND s2.AvgScrRead IS NULL AND s2.AvgScrWrite IS NULL;"
   ]
  },
  {
   "cell_type": "markdown",
   "id": "f600817c",
   "metadata": {},
   "source": [
    "### Sub-query in WHERE"
   ]
  },
  {
   "cell_type": "markdown",
   "id": "1f348a8e",
   "metadata": {},
   "source": [
    "From frpm, get schools whose `Enrollment (Ages 5-17)` exceeds the overall average enrollment across all schools."
   ]
  },
  {
   "cell_type": "code",
   "execution_count": 826,
   "id": "faf92851",
   "metadata": {},
   "outputs": [
    {
     "data": {
      "text/html": [
       "<span style=\"None\">Running query in &#x27;sqlite:///cdeschools.sqlite&#x27;</span>"
      ],
      "text/plain": [
       "Running query in 'sqlite:///cdeschools.sqlite'"
      ]
     },
     "metadata": {},
     "output_type": "display_data"
    },
    {
     "data": {
      "text/html": [
       "<table>\n",
       "    <thead>\n",
       "        <tr>\n",
       "            <th>school_name</th>\n",
       "            <th>enrollment_ages_5_17</th>\n",
       "        </tr>\n",
       "    </thead>\n",
       "    <tbody>\n",
       "        <tr>\n",
       "            <td>Cox Academy</td>\n",
       "            <td>586.0</td>\n",
       "        </tr>\n",
       "        <tr>\n",
       "            <td>Brookvale Elementary</td>\n",
       "            <td>586.0</td>\n",
       "        </tr>\n",
       "        <tr>\n",
       "            <td>Rosedale Elementary</td>\n",
       "            <td>586.0</td>\n",
       "        </tr>\n",
       "        <tr>\n",
       "            <td>Bollinger Canyon Elementary</td>\n",
       "            <td>586.0</td>\n",
       "        </tr>\n",
       "        <tr>\n",
       "            <td>Desert Junior-Senior High</td>\n",
       "            <td>586.0</td>\n",
       "        </tr>\n",
       "        <tr>\n",
       "            <td>Endeavor College Preparatory Charter</td>\n",
       "            <td>586.0</td>\n",
       "        </tr>\n",
       "        <tr>\n",
       "            <td>Langdon Avenue Elementary</td>\n",
       "            <td>586.0</td>\n",
       "        </tr>\n",
       "        <tr>\n",
       "            <td>Saticoy Elementary</td>\n",
       "            <td>586.0</td>\n",
       "        </tr>\n",
       "        <tr>\n",
       "            <td>Howard Tanner</td>\n",
       "            <td>586.0</td>\n",
       "        </tr>\n",
       "        <tr>\n",
       "            <td>James Foster Elementary</td>\n",
       "            <td>586.0</td>\n",
       "        </tr>\n",
       "    </tbody>\n",
       "</table>\n",
       "<span style=\"font-style:italic;text-align:center;\">Truncated to <a href=\"https://jupysql.ploomber.io/en/latest/api/configuration.html#displaylimit\">displaylimit</a> of 10.</span>"
      ],
      "text/plain": [
       "+--------------------------------------+----------------------+\n",
       "|             school_name              | enrollment_ages_5_17 |\n",
       "+--------------------------------------+----------------------+\n",
       "|             Cox Academy              |        586.0         |\n",
       "|         Brookvale Elementary         |        586.0         |\n",
       "|         Rosedale Elementary          |        586.0         |\n",
       "|     Bollinger Canyon Elementary      |        586.0         |\n",
       "|      Desert Junior-Senior High       |        586.0         |\n",
       "| Endeavor College Preparatory Charter |        586.0         |\n",
       "|      Langdon Avenue Elementary       |        586.0         |\n",
       "|          Saticoy Elementary          |        586.0         |\n",
       "|            Howard Tanner             |        586.0         |\n",
       "|       James Foster Elementary        |        586.0         |\n",
       "+--------------------------------------+----------------------+\n",
       "Truncated to displaylimit of 10."
      ]
     },
     "execution_count": 826,
     "metadata": {},
     "output_type": "execute_result"
    }
   ],
   "source": [
    "%%sql\n",
    "SELECT\n",
    "    \"School Name\" AS school_name,\n",
    "    \"Enrollment (Ages 5-17)\" AS enrollment_ages_5_17\n",
    "FROM frpm\n",
    "WHERE enrollment_ages_5_17 > (\n",
    "    SELECT\n",
    "        AVG(\"Enrollment (Ages 5-17)\")\n",
    "    FROM frpm\n",
    "    WHERE \"School Name\" IS NOT NULL -- Filter out empty School Name's\n",
    ") AND school_name IS NOT NULL\n",
    "ORDER BY enrollment_ages_5_17 ASC;"
   ]
  },
  {
   "cell_type": "markdown",
   "id": "f4a2bb47",
   "metadata": {},
   "source": [
    "🚀🚀 **Advanced**: Another way to achieve the above is to use a window function and a CTE:"
   ]
  },
  {
   "cell_type": "code",
   "execution_count": 827,
   "id": "0f24f455",
   "metadata": {},
   "outputs": [
    {
     "data": {
      "text/html": [
       "<span style=\"None\">Running query in &#x27;sqlite:///cdeschools.sqlite&#x27;</span>"
      ],
      "text/plain": [
       "Running query in 'sqlite:///cdeschools.sqlite'"
      ]
     },
     "metadata": {},
     "output_type": "display_data"
    },
    {
     "data": {
      "text/html": [
       "<table>\n",
       "    <thead>\n",
       "        <tr>\n",
       "            <th>school_name</th>\n",
       "            <th>enrollment_ages_5_17</th>\n",
       "        </tr>\n",
       "    </thead>\n",
       "    <tbody>\n",
       "        <tr>\n",
       "            <td>Cox Academy</td>\n",
       "            <td>586.0</td>\n",
       "        </tr>\n",
       "        <tr>\n",
       "            <td>Brookvale Elementary</td>\n",
       "            <td>586.0</td>\n",
       "        </tr>\n",
       "        <tr>\n",
       "            <td>Rosedale Elementary</td>\n",
       "            <td>586.0</td>\n",
       "        </tr>\n",
       "        <tr>\n",
       "            <td>Bollinger Canyon Elementary</td>\n",
       "            <td>586.0</td>\n",
       "        </tr>\n",
       "        <tr>\n",
       "            <td>Desert Junior-Senior High</td>\n",
       "            <td>586.0</td>\n",
       "        </tr>\n",
       "        <tr>\n",
       "            <td>Endeavor College Preparatory Charter</td>\n",
       "            <td>586.0</td>\n",
       "        </tr>\n",
       "        <tr>\n",
       "            <td>Langdon Avenue Elementary</td>\n",
       "            <td>586.0</td>\n",
       "        </tr>\n",
       "        <tr>\n",
       "            <td>Saticoy Elementary</td>\n",
       "            <td>586.0</td>\n",
       "        </tr>\n",
       "        <tr>\n",
       "            <td>Howard Tanner</td>\n",
       "            <td>586.0</td>\n",
       "        </tr>\n",
       "        <tr>\n",
       "            <td>James Foster Elementary</td>\n",
       "            <td>586.0</td>\n",
       "        </tr>\n",
       "    </tbody>\n",
       "</table>\n",
       "<span style=\"font-style:italic;text-align:center;\">Truncated to <a href=\"https://jupysql.ploomber.io/en/latest/api/configuration.html#displaylimit\">displaylimit</a> of 10.</span>"
      ],
      "text/plain": [
       "+--------------------------------------+----------------------+\n",
       "|             school_name              | enrollment_ages_5_17 |\n",
       "+--------------------------------------+----------------------+\n",
       "|             Cox Academy              |        586.0         |\n",
       "|         Brookvale Elementary         |        586.0         |\n",
       "|         Rosedale Elementary          |        586.0         |\n",
       "|     Bollinger Canyon Elementary      |        586.0         |\n",
       "|      Desert Junior-Senior High       |        586.0         |\n",
       "| Endeavor College Preparatory Charter |        586.0         |\n",
       "|      Langdon Avenue Elementary       |        586.0         |\n",
       "|          Saticoy Elementary          |        586.0         |\n",
       "|            Howard Tanner             |        586.0         |\n",
       "|       James Foster Elementary        |        586.0         |\n",
       "+--------------------------------------+----------------------+\n",
       "Truncated to displaylimit of 10."
      ]
     },
     "execution_count": 827,
     "metadata": {},
     "output_type": "execute_result"
    }
   ],
   "source": [
    "%%sql\n",
    "WITH school_data AS (\n",
    "    SELECT\n",
    "        \"School Name\" AS school_name,\n",
    "        \"Enrollment (Ages 5-17)\" AS enrollment_ages_5_17,\n",
    "        AVG(\"Enrollment (Ages 5-17)\") OVER() AS avg_enrollment_ages_5_17 -- avg_enrollment_ages_5_17 is the window function!\n",
    "    FROM frpm\n",
    "    WHERE \"School Name\" IS NOT NULL\n",
    ")\n",
    "SELECT\n",
    "    school_name,\n",
    "    enrollment_ages_5_17\n",
    "FROM school_data\n",
    "WHERE enrollment_ages_5_17 > avg_enrollment_ages_5_17 -- Window function is calculated here!\n",
    "ORDER BY enrollment_ages_5_17 ASC;\n"
   ]
  },
  {
   "cell_type": "markdown",
   "id": "60c8ff08",
   "metadata": {},
   "source": [
    "### Correlated Sub-query"
   ]
  },
  {
   "cell_type": "markdown",
   "id": "9d3c566e",
   "metadata": {},
   "source": [
    "For each county in frpm, show the count of schools whose `Percent (%) Eligible FRPM (K-12)` is above the county’s own average."
   ]
  },
  {
   "cell_type": "code",
   "execution_count": 828,
   "id": "1d3239b5",
   "metadata": {},
   "outputs": [
    {
     "data": {
      "text/html": [
       "<span style=\"None\">Running query in &#x27;sqlite:///cdeschools.sqlite&#x27;</span>"
      ],
      "text/plain": [
       "Running query in 'sqlite:///cdeschools.sqlite'"
      ]
     },
     "metadata": {},
     "output_type": "display_data"
    },
    {
     "data": {
      "text/html": [
       "<table>\n",
       "    <thead>\n",
       "        <tr>\n",
       "            <th>county_name</th>\n",
       "            <th>schools_above_county_avg</th>\n",
       "        </tr>\n",
       "    </thead>\n",
       "    <tbody>\n",
       "        <tr>\n",
       "            <td>Los Angeles</td>\n",
       "            <td>1422</td>\n",
       "        </tr>\n",
       "        <tr>\n",
       "            <td>San Diego</td>\n",
       "            <td>385</td>\n",
       "        </tr>\n",
       "        <tr>\n",
       "            <td>San Bernardino</td>\n",
       "            <td>336</td>\n",
       "        </tr>\n",
       "        <tr>\n",
       "            <td>Orange</td>\n",
       "            <td>307</td>\n",
       "        </tr>\n",
       "        <tr>\n",
       "            <td>Riverside</td>\n",
       "            <td>293</td>\n",
       "        </tr>\n",
       "        <tr>\n",
       "            <td>Sacramento</td>\n",
       "            <td>220</td>\n",
       "        </tr>\n",
       "        <tr>\n",
       "            <td>Fresno</td>\n",
       "            <td>219</td>\n",
       "        </tr>\n",
       "        <tr>\n",
       "            <td>Alameda</td>\n",
       "            <td>204</td>\n",
       "        </tr>\n",
       "        <tr>\n",
       "            <td>Santa Clara</td>\n",
       "            <td>200</td>\n",
       "        </tr>\n",
       "        <tr>\n",
       "            <td>Kern</td>\n",
       "            <td>167</td>\n",
       "        </tr>\n",
       "    </tbody>\n",
       "</table>\n",
       "<span style=\"font-style:italic;text-align:center;\">Truncated to <a href=\"https://jupysql.ploomber.io/en/latest/api/configuration.html#displaylimit\">displaylimit</a> of 10.</span>"
      ],
      "text/plain": [
       "+----------------+--------------------------+\n",
       "|  county_name   | schools_above_county_avg |\n",
       "+----------------+--------------------------+\n",
       "|  Los Angeles   |           1422           |\n",
       "|   San Diego    |           385            |\n",
       "| San Bernardino |           336            |\n",
       "|     Orange     |           307            |\n",
       "|   Riverside    |           293            |\n",
       "|   Sacramento   |           220            |\n",
       "|     Fresno     |           219            |\n",
       "|    Alameda     |           204            |\n",
       "|  Santa Clara   |           200            |\n",
       "|      Kern      |           167            |\n",
       "+----------------+--------------------------+\n",
       "Truncated to displaylimit of 10."
      ]
     },
     "execution_count": 828,
     "metadata": {},
     "output_type": "execute_result"
    }
   ],
   "source": [
    "%%sql\n",
    "SELECT\n",
    "    s1.\"County Name\"      AS county_name,\n",
    "    COUNT(*)              AS schools_above_county_avg\n",
    "FROM frpm AS s1\n",
    "WHERE\n",
    "    s1.\"County Name\" IS NOT NULL\n",
    "    AND s1.\"Percent (%) Eligible FRPM (K-12)\" IS NOT NULL\n",
    "    -- only keep schools whose FRPM% is above their county’s avg\n",
    "    AND s1.\"Percent (%) Eligible FRPM (K-12)\" > (\n",
    "        SELECT\n",
    "            AVG(s2.\"Percent (%) Eligible FRPM (K-12)\")\n",
    "        FROM frpm AS s2\n",
    "        WHERE s2.\"County Name\" = s1.\"County Name\" AND s2.\"Percent (%) Eligible FRPM (K-12)\" IS NOT NULL\n",
    "    )\n",
    "GROUP BY county_name\n",
    "ORDER BY schools_above_county_avg DESC;\n"
   ]
  },
  {
   "cell_type": "markdown",
   "id": "81474666",
   "metadata": {},
   "source": [
    "The above can also be achieved with a CTE and a window function."
   ]
  },
  {
   "cell_type": "code",
   "execution_count": 829,
   "id": "95decd62",
   "metadata": {},
   "outputs": [
    {
     "data": {
      "text/html": [
       "<span style=\"None\">Running query in &#x27;sqlite:///cdeschools.sqlite&#x27;</span>"
      ],
      "text/plain": [
       "Running query in 'sqlite:///cdeschools.sqlite'"
      ]
     },
     "metadata": {},
     "output_type": "display_data"
    },
    {
     "data": {
      "text/html": [
       "<table>\n",
       "    <thead>\n",
       "        <tr>\n",
       "            <th>county_name</th>\n",
       "            <th>schools_above_county_avg</th>\n",
       "        </tr>\n",
       "    </thead>\n",
       "    <tbody>\n",
       "        <tr>\n",
       "            <td>Los Angeles</td>\n",
       "            <td>1422</td>\n",
       "        </tr>\n",
       "        <tr>\n",
       "            <td>San Diego</td>\n",
       "            <td>385</td>\n",
       "        </tr>\n",
       "        <tr>\n",
       "            <td>San Bernardino</td>\n",
       "            <td>336</td>\n",
       "        </tr>\n",
       "        <tr>\n",
       "            <td>Orange</td>\n",
       "            <td>307</td>\n",
       "        </tr>\n",
       "        <tr>\n",
       "            <td>Riverside</td>\n",
       "            <td>293</td>\n",
       "        </tr>\n",
       "        <tr>\n",
       "            <td>Sacramento</td>\n",
       "            <td>220</td>\n",
       "        </tr>\n",
       "        <tr>\n",
       "            <td>Fresno</td>\n",
       "            <td>219</td>\n",
       "        </tr>\n",
       "        <tr>\n",
       "            <td>Alameda</td>\n",
       "            <td>204</td>\n",
       "        </tr>\n",
       "        <tr>\n",
       "            <td>Santa Clara</td>\n",
       "            <td>200</td>\n",
       "        </tr>\n",
       "        <tr>\n",
       "            <td>Kern</td>\n",
       "            <td>167</td>\n",
       "        </tr>\n",
       "    </tbody>\n",
       "</table>\n",
       "<span style=\"font-style:italic;text-align:center;\">Truncated to <a href=\"https://jupysql.ploomber.io/en/latest/api/configuration.html#displaylimit\">displaylimit</a> of 10.</span>"
      ],
      "text/plain": [
       "+----------------+--------------------------+\n",
       "|  county_name   | schools_above_county_avg |\n",
       "+----------------+--------------------------+\n",
       "|  Los Angeles   |           1422           |\n",
       "|   San Diego    |           385            |\n",
       "| San Bernardino |           336            |\n",
       "|     Orange     |           307            |\n",
       "|   Riverside    |           293            |\n",
       "|   Sacramento   |           220            |\n",
       "|     Fresno     |           219            |\n",
       "|    Alameda     |           204            |\n",
       "|  Santa Clara   |           200            |\n",
       "|      Kern      |           167            |\n",
       "+----------------+--------------------------+\n",
       "Truncated to displaylimit of 10."
      ]
     },
     "execution_count": 829,
     "metadata": {},
     "output_type": "execute_result"
    }
   ],
   "source": [
    "%%sql\n",
    "WITH school_with_avg AS (\n",
    "    SELECT \n",
    "        s1.\"County Name\" AS county_name,\n",
    "        s1.\"School Name\" AS school,\n",
    "        s1.\"Percent (%) Eligible FRPM (K-12)\" AS frpm_percent,\n",
    "        AVG(s1.\"Percent (%) Eligible FRPM (K-12)\") OVER(PARTITION BY s1.\"County Name\") AS county_avg_frpm\n",
    "    FROM frpm AS s1\n",
    "    WHERE\n",
    "        s1.\"Percent (%) Eligible FRPM (K-12)\" IS NOT NULL AND s1.\"County Name\" IS NOT NULL\n",
    ")\n",
    "SELECT\n",
    "    county_name,\n",
    "    COUNT(*) AS schools_above_county_avg\n",
    "FROM school_with_avg AS s2\n",
    "WHERE s2.frpm_percent > s2.county_avg_frpm\n",
    "GROUP BY s2.county_name\n",
    "ORDER BY schools_above_county_avg DESC;"
   ]
  },
  {
   "cell_type": "markdown",
   "id": "e07cf48a",
   "metadata": {},
   "source": [
    "## Window Functions & CTEs"
   ]
  },
  {
   "cell_type": "markdown",
   "id": "4b608cde",
   "metadata": {},
   "source": [
    "### Window ranking"
   ]
  },
  {
   "cell_type": "markdown",
   "id": "d9746741",
   "metadata": {},
   "source": [
    "Using a window function on frpm, rank schools within each district by `FRPM Count (K-12)`. Show top 3 per district."
   ]
  },
  {
   "cell_type": "code",
   "execution_count": 830,
   "id": "8becdef4",
   "metadata": {},
   "outputs": [
    {
     "data": {
      "text/html": [
       "<span style=\"None\">Running query in &#x27;sqlite:///cdeschools.sqlite&#x27;</span>"
      ],
      "text/plain": [
       "Running query in 'sqlite:///cdeschools.sqlite'"
      ]
     },
     "metadata": {},
     "output_type": "display_data"
    },
    {
     "data": {
      "text/html": [
       "<table>\n",
       "    <thead>\n",
       "        <tr>\n",
       "            <th>school_name</th>\n",
       "            <th>district_name</th>\n",
       "            <th>frpm_count_k12</th>\n",
       "            <th>rank</th>\n",
       "        </tr>\n",
       "    </thead>\n",
       "    <tbody>\n",
       "        <tr>\n",
       "            <td>Nonpublic, Nonsectarian Schools</td>\n",
       "            <td>ABC Unified</td>\n",
       "            <td>2.0</td>\n",
       "            <td>1</td>\n",
       "        </tr>\n",
       "        <tr>\n",
       "            <td>District Office</td>\n",
       "            <td>ABC Unified</td>\n",
       "            <td>5.0</td>\n",
       "            <td>2</td>\n",
       "        </tr>\n",
       "        <tr>\n",
       "            <td>ABC Secondary (Alternative)</td>\n",
       "            <td>ABC Unified</td>\n",
       "            <td>50.0</td>\n",
       "            <td>3</td>\n",
       "        </tr>\n",
       "        <tr>\n",
       "            <td>Gonsalves (Joe A.) Elementary</td>\n",
       "            <td>ABC Unified</td>\n",
       "            <td>115.0</td>\n",
       "            <td>4</td>\n",
       "        </tr>\n",
       "        <tr>\n",
       "            <td>Leal (Frank C.) Elementary</td>\n",
       "            <td>ABC Unified</td>\n",
       "            <td>121.0</td>\n",
       "            <td>5</td>\n",
       "        </tr>\n",
       "        <tr>\n",
       "            <td>Cerritos Elementary</td>\n",
       "            <td>ABC Unified</td>\n",
       "            <td>127.0</td>\n",
       "            <td>6</td>\n",
       "        </tr>\n",
       "        <tr>\n",
       "            <td>Wittmann (Helen) Elementary</td>\n",
       "            <td>ABC Unified</td>\n",
       "            <td>152.0</td>\n",
       "            <td>7</td>\n",
       "        </tr>\n",
       "        <tr>\n",
       "            <td>Stowers(Cecil B.) Elementary</td>\n",
       "            <td>ABC Unified</td>\n",
       "            <td>163.0</td>\n",
       "            <td>8</td>\n",
       "        </tr>\n",
       "        <tr>\n",
       "            <td>Carmenita Middle</td>\n",
       "            <td>ABC Unified</td>\n",
       "            <td>177.0</td>\n",
       "            <td>9</td>\n",
       "        </tr>\n",
       "        <tr>\n",
       "            <td>Whitney (Gretchen) High</td>\n",
       "            <td>ABC Unified</td>\n",
       "            <td>193.0</td>\n",
       "            <td>10</td>\n",
       "        </tr>\n",
       "    </tbody>\n",
       "</table>\n",
       "<span style=\"font-style:italic;text-align:center;\">Truncated to <a href=\"https://jupysql.ploomber.io/en/latest/api/configuration.html#displaylimit\">displaylimit</a> of 10.</span>"
      ],
      "text/plain": [
       "+---------------------------------+---------------+----------------+------+\n",
       "|           school_name           | district_name | frpm_count_k12 | rank |\n",
       "+---------------------------------+---------------+----------------+------+\n",
       "| Nonpublic, Nonsectarian Schools |  ABC Unified  |      2.0       |  1   |\n",
       "|         District Office         |  ABC Unified  |      5.0       |  2   |\n",
       "|   ABC Secondary (Alternative)   |  ABC Unified  |      50.0      |  3   |\n",
       "|  Gonsalves (Joe A.) Elementary  |  ABC Unified  |     115.0      |  4   |\n",
       "|    Leal (Frank C.) Elementary   |  ABC Unified  |     121.0      |  5   |\n",
       "|       Cerritos Elementary       |  ABC Unified  |     127.0      |  6   |\n",
       "|   Wittmann (Helen) Elementary   |  ABC Unified  |     152.0      |  7   |\n",
       "|   Stowers(Cecil B.) Elementary  |  ABC Unified  |     163.0      |  8   |\n",
       "|         Carmenita Middle        |  ABC Unified  |     177.0      |  9   |\n",
       "|     Whitney (Gretchen) High     |  ABC Unified  |     193.0      |  10  |\n",
       "+---------------------------------+---------------+----------------+------+\n",
       "Truncated to displaylimit of 10."
      ]
     },
     "execution_count": 830,
     "metadata": {},
     "output_type": "execute_result"
    }
   ],
   "source": [
    "%%sql\n",
    "SELECT\n",
    "    \"School Name\" AS school_name,\n",
    "    \"District Name\" AS district_name,\n",
    "    \"FRPM Count (K-12)\" AS frpm_count_k12,\n",
    "    RANK() OVER (PARTITION BY \"District Name\" ORDER BY \"FRPM Count (K-12)\") AS rank\n",
    "FROM frpm\n",
    "WHERE school_name IS NOT NULL;"
   ]
  },
  {
   "cell_type": "markdown",
   "id": "d28f1762",
   "metadata": {},
   "source": [
    "To list only the top 3 per district, we need a slightly different strategy, which we can achieve with a CTE."
   ]
  },
  {
   "cell_type": "code",
   "execution_count": 831,
   "id": "8999ada1",
   "metadata": {},
   "outputs": [
    {
     "data": {
      "text/html": [
       "<span style=\"None\">Running query in &#x27;sqlite:///cdeschools.sqlite&#x27;</span>"
      ],
      "text/plain": [
       "Running query in 'sqlite:///cdeschools.sqlite'"
      ]
     },
     "metadata": {},
     "output_type": "display_data"
    },
    {
     "data": {
      "text/html": [
       "<table>\n",
       "    <thead>\n",
       "        <tr>\n",
       "            <th>school_name</th>\n",
       "            <th>district_name</th>\n",
       "            <th>frpm_count_k12</th>\n",
       "            <th>rank</th>\n",
       "        </tr>\n",
       "    </thead>\n",
       "    <tbody>\n",
       "        <tr>\n",
       "            <td>Nonpublic, Nonsectarian Schools</td>\n",
       "            <td>ABC Unified</td>\n",
       "            <td>2.0</td>\n",
       "            <td>1</td>\n",
       "        </tr>\n",
       "        <tr>\n",
       "            <td>District Office</td>\n",
       "            <td>ABC Unified</td>\n",
       "            <td>5.0</td>\n",
       "            <td>2</td>\n",
       "        </tr>\n",
       "        <tr>\n",
       "            <td>ABC Secondary (Alternative)</td>\n",
       "            <td>ABC Unified</td>\n",
       "            <td>50.0</td>\n",
       "            <td>3</td>\n",
       "        </tr>\n",
       "        <tr>\n",
       "            <td>Nonpublic, Nonsectarian Schools</td>\n",
       "            <td>Acalanes Union High</td>\n",
       "            <td>None</td>\n",
       "            <td>1</td>\n",
       "        </tr>\n",
       "        <tr>\n",
       "            <td>Acalanes Center for Independent Study</td>\n",
       "            <td>Acalanes Union High</td>\n",
       "            <td>1.0</td>\n",
       "            <td>2</td>\n",
       "        </tr>\n",
       "        <tr>\n",
       "            <td>Miramonte High</td>\n",
       "            <td>Acalanes Union High</td>\n",
       "            <td>17.0</td>\n",
       "            <td>3</td>\n",
       "        </tr>\n",
       "        <tr>\n",
       "            <td>Bowman Charter</td>\n",
       "            <td>Ackerman Charter</td>\n",
       "            <td>150.0</td>\n",
       "            <td>1</td>\n",
       "        </tr>\n",
       "        <tr>\n",
       "            <td>SCALE Leadership Academy</td>\n",
       "            <td>Acton-Agua Dulce Unified</td>\n",
       "            <td>12.0</td>\n",
       "            <td>1</td>\n",
       "        </tr>\n",
       "        <tr>\n",
       "            <td>Mosaica Online Academy of Los Angeles</td>\n",
       "            <td>Acton-Agua Dulce Unified</td>\n",
       "            <td>33.0</td>\n",
       "            <td>2</td>\n",
       "        </tr>\n",
       "        <tr>\n",
       "            <td>Valley Prep 6-8</td>\n",
       "            <td>Acton-Agua Dulce Unified</td>\n",
       "            <td>35.0</td>\n",
       "            <td>3</td>\n",
       "        </tr>\n",
       "    </tbody>\n",
       "</table>\n",
       "<span style=\"font-style:italic;text-align:center;\">Truncated to <a href=\"https://jupysql.ploomber.io/en/latest/api/configuration.html#displaylimit\">displaylimit</a> of 10.</span>"
      ],
      "text/plain": [
       "+---------------------------------------+--------------------------+----------------+------+\n",
       "|              school_name              |      district_name       | frpm_count_k12 | rank |\n",
       "+---------------------------------------+--------------------------+----------------+------+\n",
       "|    Nonpublic, Nonsectarian Schools    |       ABC Unified        |      2.0       |  1   |\n",
       "|            District Office            |       ABC Unified        |      5.0       |  2   |\n",
       "|      ABC Secondary (Alternative)      |       ABC Unified        |      50.0      |  3   |\n",
       "|    Nonpublic, Nonsectarian Schools    |   Acalanes Union High    |      None      |  1   |\n",
       "| Acalanes Center for Independent Study |   Acalanes Union High    |      1.0       |  2   |\n",
       "|             Miramonte High            |   Acalanes Union High    |      17.0      |  3   |\n",
       "|             Bowman Charter            |     Ackerman Charter     |     150.0      |  1   |\n",
       "|        SCALE Leadership Academy       | Acton-Agua Dulce Unified |      12.0      |  1   |\n",
       "| Mosaica Online Academy of Los Angeles | Acton-Agua Dulce Unified |      33.0      |  2   |\n",
       "|            Valley Prep 6-8            | Acton-Agua Dulce Unified |      35.0      |  3   |\n",
       "+---------------------------------------+--------------------------+----------------+------+\n",
       "Truncated to displaylimit of 10."
      ]
     },
     "execution_count": 831,
     "metadata": {},
     "output_type": "execute_result"
    }
   ],
   "source": [
    "%%sql\n",
    "WITH district_rank AS (\n",
    "    SELECT\n",
    "        s1.\"School Name\" AS school_name,\n",
    "        s1.\"District Name\" AS district_name,\n",
    "        s1.\"FRPM Count (K-12)\" AS frpm_count_k12,\n",
    "        RANK() OVER (PARTITION BY s1.\"District Name\" ORDER BY s1.\"FRPM Count (K-12)\") AS rank\n",
    "    FROM frpm AS s1\n",
    "    WHERE school_name IS NOT NULL\n",
    ")\n",
    "SELECT\n",
    "    *\n",
    "FROM district_rank AS s2\n",
    "WHERE rank <= 3;"
   ]
  },
  {
   "cell_type": "markdown",
   "id": "9b14cfef",
   "metadata": {},
   "source": [
    "### Common Table Expression (CTE)"
   ]
  },
  {
   "cell_type": "markdown",
   "id": "94a36c16",
   "metadata": {},
   "source": [
    "With a CTE named `high_frpm`, select all schools from frpm where `Percent (%) Eligible FRPM (K-12)` > 75%. Then join that CTE to schools to get their addresses."
   ]
  },
  {
   "cell_type": "code",
   "execution_count": 832,
   "id": "67e2c526",
   "metadata": {},
   "outputs": [
    {
     "data": {
      "text/html": [
       "<span style=\"None\">Running query in &#x27;sqlite:///cdeschools.sqlite&#x27;</span>"
      ],
      "text/plain": [
       "Running query in 'sqlite:///cdeschools.sqlite'"
      ]
     },
     "metadata": {},
     "output_type": "display_data"
    },
    {
     "data": {
      "text/html": [
       "<table>\n",
       "    <thead>\n",
       "        <tr>\n",
       "            <th>school_name</th>\n",
       "            <th>academic_year</th>\n",
       "            <th>school_address</th>\n",
       "            <th>pct_eligible_frpm_k12</th>\n",
       "        </tr>\n",
       "    </thead>\n",
       "    <tbody>\n",
       "        <tr>\n",
       "            <td>Monte Vista High</td>\n",
       "            <td>2014-2015</td>\n",
       "            <td>3230 Sweetwater Springs Boulevard, Spring Valley, 91977-6934, CA</td>\n",
       "            <td>0.7501508750754375</td>\n",
       "        </tr>\n",
       "        <tr>\n",
       "            <td>Traweek Middle</td>\n",
       "            <td>2014-2015</td>\n",
       "            <td>1941 East Rowland Avenue, West Covina, 91723-0269, CA</td>\n",
       "            <td>0.7502944640753828</td>\n",
       "        </tr>\n",
       "        <tr>\n",
       "            <td>Frontier High (Continuation)</td>\n",
       "            <td>2014-2015</td>\n",
       "            <td>9401 South Painter Avenue, Whittier, 90605-2729, CA</td>\n",
       "            <td>0.7504078303425775</td>\n",
       "        </tr>\n",
       "        <tr>\n",
       "            <td>Harding Elementary</td>\n",
       "            <td>2014-2015</td>\n",
       "            <td>3201 Pico Avenue, Bakersfield, 93306-3531, CA</td>\n",
       "            <td>0.7504553734061931</td>\n",
       "        </tr>\n",
       "        <tr>\n",
       "            <td>Elbow Creek Elementary</td>\n",
       "            <td>2014-2015</td>\n",
       "            <td>32747 Road 138, Visalia, 93292-9381, CA</td>\n",
       "            <td>0.7505070993914807</td>\n",
       "        </tr>\n",
       "        <tr>\n",
       "            <td>Pachappa Elementary</td>\n",
       "            <td>2014-2015</td>\n",
       "            <td>6200 Riverside Avenue, Riverside, 92506-2147, CA</td>\n",
       "            <td>0.7506426735218509</td>\n",
       "        </tr>\n",
       "        <tr>\n",
       "            <td>Crozier (George W.) Middle</td>\n",
       "            <td>2014-2015</td>\n",
       "            <td>1210 West Regent Street, Inglewood, 90301-1705, CA</td>\n",
       "            <td>0.7507082152974505</td>\n",
       "        </tr>\n",
       "        <tr>\n",
       "            <td>Vicentia Elementary</td>\n",
       "            <td>2014-2015</td>\n",
       "            <td>2005 South Vicentia Avenue, Corona, 92882-4261, CA</td>\n",
       "            <td>0.7508305647840532</td>\n",
       "        </tr>\n",
       "        <tr>\n",
       "            <td>Carl B. Munck Elementary</td>\n",
       "            <td>2014-2015</td>\n",
       "            <td>11900 Campus Drive, Oakland, 94619-3104, CA</td>\n",
       "            <td>0.7508771929824561</td>\n",
       "        </tr>\n",
       "        <tr>\n",
       "            <td>Ortega High</td>\n",
       "            <td>2014-2015</td>\n",
       "            <td>21861 Grand Avenue, Wildomar, 92395, CA</td>\n",
       "            <td>0.7510729613733905</td>\n",
       "        </tr>\n",
       "    </tbody>\n",
       "</table>\n",
       "<span style=\"font-style:italic;text-align:center;\">Truncated to <a href=\"https://jupysql.ploomber.io/en/latest/api/configuration.html#displaylimit\">displaylimit</a> of 10.</span>"
      ],
      "text/plain": [
       "+------------------------------+---------------+------------------------------------------------------------------+-----------------------+\n",
       "|         school_name          | academic_year |                          school_address                          | pct_eligible_frpm_k12 |\n",
       "+------------------------------+---------------+------------------------------------------------------------------+-----------------------+\n",
       "|       Monte Vista High       |   2014-2015   | 3230 Sweetwater Springs Boulevard, Spring Valley, 91977-6934, CA |   0.7501508750754375  |\n",
       "|        Traweek Middle        |   2014-2015   |      1941 East Rowland Avenue, West Covina, 91723-0269, CA       |   0.7502944640753828  |\n",
       "| Frontier High (Continuation) |   2014-2015   |       9401 South Painter Avenue, Whittier, 90605-2729, CA        |   0.7504078303425775  |\n",
       "|      Harding Elementary      |   2014-2015   |          3201 Pico Avenue, Bakersfield, 93306-3531, CA           |   0.7504553734061931  |\n",
       "|    Elbow Creek Elementary    |   2014-2015   |             32747 Road 138, Visalia, 93292-9381, CA              |   0.7505070993914807  |\n",
       "|     Pachappa Elementary      |   2014-2015   |         6200 Riverside Avenue, Riverside, 92506-2147, CA         |   0.7506426735218509  |\n",
       "|  Crozier (George W.) Middle  |   2014-2015   |        1210 West Regent Street, Inglewood, 90301-1705, CA        |   0.7507082152974505  |\n",
       "|     Vicentia Elementary      |   2014-2015   |        2005 South Vicentia Avenue, Corona, 92882-4261, CA        |   0.7508305647840532  |\n",
       "|   Carl B. Munck Elementary   |   2014-2015   |           11900 Campus Drive, Oakland, 94619-3104, CA            |   0.7508771929824561  |\n",
       "|         Ortega High          |   2014-2015   |             21861 Grand Avenue, Wildomar, 92395, CA              |   0.7510729613733905  |\n",
       "+------------------------------+---------------+------------------------------------------------------------------+-----------------------+\n",
       "Truncated to displaylimit of 10."
      ]
     },
     "execution_count": 832,
     "metadata": {},
     "output_type": "execute_result"
    }
   ],
   "source": [
    "%%sql\n",
    "WITH high_frpm AS (\n",
    "    SELECT\n",
    "        s1.\"School Name\" AS school_name,\n",
    "        s1.\"County Name\" AS county_name,\n",
    "        s1.\"Percent (%) Eligible FRPM (K-12)\" AS pct_eligible_frpm_k12,\n",
    "        s1.\"Academic Year\" AS academic_year\n",
    "    FROM frpm AS s1\n",
    "    WHERE s1.\"Percent (%) Eligible FRPM (K-12)\" > 0.75\n",
    ")\n",
    "SELECT\n",
    "    school_name,\n",
    "    academic_year,\n",
    "    CONCAT(Street, ', ', City, ', ', Zip, ', ', State) AS school_address,\n",
    "    pct_eligible_frpm_k12\n",
    "FROM high_frpm AS s2\n",
    "INNER JOIN schools AS s3 ON s2.school_name = s3.\"School\" AND s2.county_name = s3.\"County\" -- To disambiguate schools with the same name in different counties\n",
    "ORDER BY s2.pct_eligible_frpm_k12 ASC;"
   ]
  },
  {
   "cell_type": "markdown",
   "id": "08bd76e0",
   "metadata": {},
   "source": [
    "Find the top 10 K-12 schools in overall SAT scores, which have a `Percent (%) Eligible Free (K-12)` higher than 50%."
   ]
  },
  {
   "cell_type": "code",
   "execution_count": 833,
   "id": "34126e6e",
   "metadata": {},
   "outputs": [
    {
     "data": {
      "text/html": [
       "<span style=\"None\">Running query in &#x27;sqlite:///cdeschools.sqlite&#x27;</span>"
      ],
      "text/plain": [
       "Running query in 'sqlite:///cdeschools.sqlite'"
      ]
     },
     "metadata": {},
     "output_type": "display_data"
    },
    {
     "data": {
      "text/html": [
       "<table>\n",
       "    <thead>\n",
       "        <tr>\n",
       "            <th>school_name</th>\n",
       "            <th>county_name</th>\n",
       "            <th>pct_eligible_free_k12</th>\n",
       "            <th>overall_avg_score</th>\n",
       "        </tr>\n",
       "    </thead>\n",
       "    <tbody>\n",
       "        <tr>\n",
       "            <td>FAME Public Charter</td>\n",
       "            <td>Alameda</td>\n",
       "            <td>0.5197792088316467</td>\n",
       "            <td>518</td>\n",
       "        </tr>\n",
       "        <tr>\n",
       "            <td>Making Waves Academy</td>\n",
       "            <td>Contra Costa</td>\n",
       "            <td>0.6210526315789474</td>\n",
       "            <td>461</td>\n",
       "        </tr>\n",
       "        <tr>\n",
       "            <td>Options for Youth-Burbank Charter</td>\n",
       "            <td>Los Angeles</td>\n",
       "            <td>0.6362790697674419</td>\n",
       "            <td>456</td>\n",
       "        </tr>\n",
       "        <tr>\n",
       "            <td>Vaughn Next Century Learning Center</td>\n",
       "            <td>Los Angeles</td>\n",
       "            <td>0.8641703377386197</td>\n",
       "            <td>449</td>\n",
       "        </tr>\n",
       "        <tr>\n",
       "            <td>Options for Youth San Gabriel</td>\n",
       "            <td>Los Angeles</td>\n",
       "            <td>0.6097087378640776</td>\n",
       "            <td>447</td>\n",
       "        </tr>\n",
       "        <tr>\n",
       "            <td>Foshay Learning Center</td>\n",
       "            <td>Los Angeles</td>\n",
       "            <td>0.8169596690796277</td>\n",
       "            <td>444</td>\n",
       "        </tr>\n",
       "        <tr>\n",
       "            <td>Opportunities for Learning - Baldwin Park</td>\n",
       "            <td>Los Angeles</td>\n",
       "            <td>0.6185641769398115</td>\n",
       "            <td>435</td>\n",
       "        </tr>\n",
       "        <tr>\n",
       "            <td>Options for Youth-San Juan</td>\n",
       "            <td>Sacramento</td>\n",
       "            <td>0.5850515463917526</td>\n",
       "            <td>434</td>\n",
       "        </tr>\n",
       "        <tr>\n",
       "            <td>Rancho Dominguez Preparatory</td>\n",
       "            <td>Los Angeles</td>\n",
       "            <td>0.5704035874439461</td>\n",
       "            <td>416</td>\n",
       "        </tr>\n",
       "        <tr>\n",
       "            <td>Aspire Alexander Twilight Secondary Academy</td>\n",
       "            <td>Sacramento</td>\n",
       "            <td>0.6602739726027397</td>\n",
       "            <td>413</td>\n",
       "        </tr>\n",
       "    </tbody>\n",
       "</table>\n",
       "<span style=\"font-style:italic;text-align:center;\">Truncated to <a href=\"https://jupysql.ploomber.io/en/latest/api/configuration.html#displaylimit\">displaylimit</a> of 10.</span>"
      ],
      "text/plain": [
       "+---------------------------------------------+--------------+-----------------------+-------------------+\n",
       "|                 school_name                 | county_name  | pct_eligible_free_k12 | overall_avg_score |\n",
       "+---------------------------------------------+--------------+-----------------------+-------------------+\n",
       "|             FAME Public Charter             |   Alameda    |   0.5197792088316467  |        518        |\n",
       "|             Making Waves Academy            | Contra Costa |   0.6210526315789474  |        461        |\n",
       "|      Options for Youth-Burbank Charter      | Los Angeles  |   0.6362790697674419  |        456        |\n",
       "|     Vaughn Next Century Learning Center     | Los Angeles  |   0.8641703377386197  |        449        |\n",
       "|        Options for Youth San Gabriel        | Los Angeles  |   0.6097087378640776  |        447        |\n",
       "|            Foshay Learning Center           | Los Angeles  |   0.8169596690796277  |        444        |\n",
       "|  Opportunities for Learning - Baldwin Park  | Los Angeles  |   0.6185641769398115  |        435        |\n",
       "|          Options for Youth-San Juan         |  Sacramento  |   0.5850515463917526  |        434        |\n",
       "|         Rancho Dominguez Preparatory        | Los Angeles  |   0.5704035874439461  |        416        |\n",
       "| Aspire Alexander Twilight Secondary Academy |  Sacramento  |   0.6602739726027397  |        413        |\n",
       "+---------------------------------------------+--------------+-----------------------+-------------------+\n",
       "Truncated to displaylimit of 10."
      ]
     },
     "execution_count": 833,
     "metadata": {},
     "output_type": "execute_result"
    }
   ],
   "source": [
    "%%sql\n",
    "WITH selected_schools AS (\n",
    "    SELECT\n",
    "        s1.\"School Name\" AS school_name,\n",
    "        s1.\"County Name\" AS county_name,\n",
    "        s1.\"Percent (%) Eligible Free (K-12)\" AS pct_eligible_free_k12,\n",
    "        (s2.AvgScrMath + s2.AvgScrRead + s2.AvgScrWrite) / 3 AS overall_avg_score\n",
    "    FROM frpm AS s1\n",
    "    INNER JOIN satscores AS s2 ON s1.\"School Name\" = s2.sname AND s1.\"County Name\" = s2.cname\n",
    "    WHERE s1.\"Percent (%) Eligible Free (K-12)\" > 0.5 AND s1.\"School Type\" = \"K-12 Schools (Public)\" AND (s2.AvgScrMath + s2.AvgScrRead + s2.AvgScrWrite) IS NOT NULL\n",
    ")\n",
    "SELECT\n",
    "    *\n",
    "FROM selected_schools AS s3\n",
    "ORDER BY s3.overall_avg_score DESC\n",
    "LIMIT 10;\n"
   ]
  },
  {
   "cell_type": "markdown",
   "id": "d98bf2b5",
   "metadata": {},
   "source": [
    "Show the same as above, but the top school per county."
   ]
  },
  {
   "cell_type": "code",
   "execution_count": 834,
   "id": "c63a1dae",
   "metadata": {},
   "outputs": [
    {
     "data": {
      "text/html": [
       "<span style=\"None\">Running query in &#x27;sqlite:///cdeschools.sqlite&#x27;</span>"
      ],
      "text/plain": [
       "Running query in 'sqlite:///cdeschools.sqlite'"
      ]
     },
     "metadata": {},
     "output_type": "display_data"
    },
    {
     "data": {
      "text/html": [
       "<table>\n",
       "    <thead>\n",
       "        <tr>\n",
       "            <th>school_name</th>\n",
       "            <th>county_name</th>\n",
       "            <th>pct_eligible_free_k12</th>\n",
       "            <th>overall_avg_score</th>\n",
       "        </tr>\n",
       "    </thead>\n",
       "    <tbody>\n",
       "        <tr>\n",
       "            <td>FAME Public Charter</td>\n",
       "            <td>Alameda</td>\n",
       "            <td>0.5197792088316467</td>\n",
       "            <td>518</td>\n",
       "        </tr>\n",
       "        <tr>\n",
       "            <td>Making Waves Academy</td>\n",
       "            <td>Contra Costa</td>\n",
       "            <td>0.6210526315789474</td>\n",
       "            <td>461</td>\n",
       "        </tr>\n",
       "        <tr>\n",
       "            <td>Options for Youth-Burbank Charter</td>\n",
       "            <td>Los Angeles</td>\n",
       "            <td>0.6362790697674419</td>\n",
       "            <td>456</td>\n",
       "        </tr>\n",
       "        <tr>\n",
       "            <td>Options for Youth-San Juan</td>\n",
       "            <td>Sacramento</td>\n",
       "            <td>0.5850515463917526</td>\n",
       "            <td>434</td>\n",
       "        </tr>\n",
       "        <tr>\n",
       "            <td>Roseland Charter</td>\n",
       "            <td>Sonoma</td>\n",
       "            <td>0.7537379067722075</td>\n",
       "            <td>407</td>\n",
       "        </tr>\n",
       "    </tbody>\n",
       "</table>"
      ],
      "text/plain": [
       "+-----------------------------------+--------------+-----------------------+-------------------+\n",
       "|            school_name            | county_name  | pct_eligible_free_k12 | overall_avg_score |\n",
       "+-----------------------------------+--------------+-----------------------+-------------------+\n",
       "|        FAME Public Charter        |   Alameda    |   0.5197792088316467  |        518        |\n",
       "|        Making Waves Academy       | Contra Costa |   0.6210526315789474  |        461        |\n",
       "| Options for Youth-Burbank Charter | Los Angeles  |   0.6362790697674419  |        456        |\n",
       "|     Options for Youth-San Juan    |  Sacramento  |   0.5850515463917526  |        434        |\n",
       "|          Roseland Charter         |    Sonoma    |   0.7537379067722075  |        407        |\n",
       "+-----------------------------------+--------------+-----------------------+-------------------+"
      ]
     },
     "execution_count": 834,
     "metadata": {},
     "output_type": "execute_result"
    }
   ],
   "source": [
    "%%sql\n",
    "WITH selected_schools AS (\n",
    "    -- First, select and calculate scores for all relevant schools\n",
    "    SELECT\n",
    "        s1.\"School Name\" AS school_name,\n",
    "        s1.\"County Name\" AS county_name,\n",
    "        s1.\"Percent (%) Eligible Free (K-12)\" AS pct_eligible_free_k12,\n",
    "        (s2.AvgScrMath + s2.AvgScrRead + s2.AvgScrWrite) / 3 AS overall_avg_score\n",
    "    FROM frpm AS s1\n",
    "    INNER JOIN satscores AS s2 ON s1.\"School Name\" = s2.sname AND s1.\"County Name\" = s2.cname\n",
    "    WHERE s1.\"Percent (%) Eligible Free (K-12)\" > 0.5 AND s1.\"School Type\" = \"K-12 Schools (Public)\"\n",
    "      AND (s2.AvgScrMath + s2.AvgScrRead + s2.AvgScrWrite) IS NOT NULL\n",
    "),\n",
    "ranked_schools AS (\n",
    "    -- Next, rank each school within its county by score\n",
    "    SELECT\n",
    "        s3.school_name,\n",
    "        s3.county_name,\n",
    "        s3.pct_eligible_free_k12,\n",
    "        s3.overall_avg_score,\n",
    "        ROW_NUMBER() OVER(PARTITION BY s3.county_name ORDER BY s3.overall_avg_score DESC) AS county_rank\n",
    "    FROM selected_schools AS s3\n",
    ")\n",
    "-- Finally, select only the top-ranked school from each county\n",
    "SELECT\n",
    "    s4.school_name,\n",
    "    s4.county_name,\n",
    "    s4.pct_eligible_free_k12,\n",
    "    s4.overall_avg_score\n",
    "FROM ranked_schools AS s4\n",
    "WHERE s4.county_rank = 1\n",
    "ORDER BY s4.overall_avg_score DESC;"
   ]
  },
  {
   "cell_type": "markdown",
   "id": "516660d5",
   "metadata": {},
   "source": [
    "## Advanced SQL Features"
   ]
  },
  {
   "cell_type": "markdown",
   "id": "92d05aec",
   "metadata": {},
   "source": [
    "### Case expressions"
   ]
  },
  {
   "cell_type": "markdown",
   "id": "463b604e",
   "metadata": {},
   "source": [
    "In frpm, add a computed column that buckets % Eligible FRPM (K-12) into:\n",
    "\n",
    "- “Low” (< 25%)\n",
    "- “Medium” (25–75%)\n",
    "- “High” (> 75%)\n",
    "\n",
    "Following this, compute the average K-12 enrolment number for each of the above."
   ]
  },
  {
   "cell_type": "code",
   "execution_count": 835,
   "id": "93756137",
   "metadata": {},
   "outputs": [
    {
     "data": {
      "text/html": [
       "<span style=\"None\">Running query in &#x27;sqlite:///cdeschools.sqlite&#x27;</span>"
      ],
      "text/plain": [
       "Running query in 'sqlite:///cdeschools.sqlite'"
      ]
     },
     "metadata": {},
     "output_type": "display_data"
    },
    {
     "data": {
      "text/html": [
       "<table>\n",
       "    <thead>\n",
       "        <tr>\n",
       "            <th>avg_enrollment_k12</th>\n",
       "            <th>pct_eligible_free_k12_bucket</th>\n",
       "        </tr>\n",
       "    </thead>\n",
       "    <tbody>\n",
       "        <tr>\n",
       "            <td>548.3561232156273</td>\n",
       "            <td>High</td>\n",
       "        </tr>\n",
       "        <tr>\n",
       "            <td>690.9123211813567</td>\n",
       "            <td>Low</td>\n",
       "        </tr>\n",
       "        <tr>\n",
       "            <td>1770.5196425246695</td>\n",
       "            <td>Medium</td>\n",
       "        </tr>\n",
       "    </tbody>\n",
       "</table>"
      ],
      "text/plain": [
       "+--------------------+------------------------------+\n",
       "| avg_enrollment_k12 | pct_eligible_free_k12_bucket |\n",
       "+--------------------+------------------------------+\n",
       "| 548.3561232156273  |             High             |\n",
       "| 690.9123211813567  |             Low              |\n",
       "| 1770.5196425246695 |            Medium            |\n",
       "+--------------------+------------------------------+"
      ]
     },
     "execution_count": 835,
     "metadata": {},
     "output_type": "execute_result"
    }
   ],
   "source": [
    "%%sql\n",
    "SELECT\n",
    "    AVG(s1.\"Enrollment (K-12)\") AS avg_enrollment_k12,\n",
    "    CASE\n",
    "        WHEN s1.\"Percent (%) Eligible Free (K-12)\" < 0.25 THEN \"Low\"\n",
    "        WHEN s1.\"Percent (%) Eligible Free (K-12)\" >= 0.25 AND s1.\"Percent (%) Eligible Free (K-12)\" <= 0.75 THEN \"Medium\"\n",
    "        WHEN s1.\"Percent (%) Eligible Free (K-12)\" > 0.75 THEN \"High\"\n",
    "    END AS pct_eligible_free_k12_bucket\n",
    "FROM frpm AS s1\n",
    "WHERE s1.\"Percent (%) Eligible Free (K-12)\" IS NOT NULL\n",
    "GROUP BY pct_eligible_free_k12_bucket\n",
    "ORDER BY avg_enrollment_k12;"
   ]
  },
  {
   "cell_type": "markdown",
   "id": "37711ea1",
   "metadata": {},
   "source": [
    "### Date functions"
   ]
  },
  {
   "cell_type": "markdown",
   "id": "c1d7f3a0",
   "metadata": {},
   "source": [
    "From schools, find all charter schools (`Charter` = 1) that opened after January 1, 2018. Show `School` and `OpenDate`."
   ]
  },
  {
   "cell_type": "code",
   "execution_count": 836,
   "id": "8eebf801",
   "metadata": {},
   "outputs": [
    {
     "data": {
      "text/html": [
       "<span style=\"None\">Running query in &#x27;sqlite:///cdeschools.sqlite&#x27;</span>"
      ],
      "text/plain": [
       "Running query in 'sqlite:///cdeschools.sqlite'"
      ]
     },
     "metadata": {},
     "output_type": "display_data"
    },
    {
     "data": {
      "text/html": [
       "<table>\n",
       "    <thead>\n",
       "        <tr>\n",
       "            <th>school_name</th>\n",
       "            <th>open_date</th>\n",
       "        </tr>\n",
       "    </thead>\n",
       "    <tbody>\n",
       "        <tr>\n",
       "            <td>American Indian Public High</td>\n",
       "            <td>2006-06-22</td>\n",
       "        </tr>\n",
       "        <tr>\n",
       "            <td>Los Angeles Education Corps Charter</td>\n",
       "            <td>2006-07-10</td>\n",
       "        </tr>\n",
       "        <tr>\n",
       "            <td>Gold Rush Charter</td>\n",
       "            <td>2006-07-24</td>\n",
       "        </tr>\n",
       "        <tr>\n",
       "            <td>Pathways to College</td>\n",
       "            <td>2006-08-07</td>\n",
       "        </tr>\n",
       "        <tr>\n",
       "            <td>Acorns to Oaks</td>\n",
       "            <td>2006-08-07</td>\n",
       "        </tr>\n",
       "        <tr>\n",
       "            <td>Natomas Pacific Pathways Prep</td>\n",
       "            <td>2006-08-08</td>\n",
       "        </tr>\n",
       "        <tr>\n",
       "            <td>Pittman Charter</td>\n",
       "            <td>2006-08-14</td>\n",
       "        </tr>\n",
       "        <tr>\n",
       "            <td>Aspire Summit Charter Academy</td>\n",
       "            <td>2006-08-14</td>\n",
       "        </tr>\n",
       "        <tr>\n",
       "            <td>California Montessori Project-Shingle Springs Campus</td>\n",
       "            <td>2006-08-16</td>\n",
       "        </tr>\n",
       "        <tr>\n",
       "            <td>Antelope Valley Desert Montessori Schools, Inc.</td>\n",
       "            <td>2006-08-16</td>\n",
       "        </tr>\n",
       "    </tbody>\n",
       "</table>\n",
       "<span style=\"font-style:italic;text-align:center;\">Truncated to <a href=\"https://jupysql.ploomber.io/en/latest/api/configuration.html#displaylimit\">displaylimit</a> of 10.</span>"
      ],
      "text/plain": [
       "+------------------------------------------------------+------------+\n",
       "|                     school_name                      | open_date  |\n",
       "+------------------------------------------------------+------------+\n",
       "|             American Indian Public High              | 2006-06-22 |\n",
       "|         Los Angeles Education Corps Charter          | 2006-07-10 |\n",
       "|                  Gold Rush Charter                   | 2006-07-24 |\n",
       "|                 Pathways to College                  | 2006-08-07 |\n",
       "|                    Acorns to Oaks                    | 2006-08-07 |\n",
       "|            Natomas Pacific Pathways Prep             | 2006-08-08 |\n",
       "|                   Pittman Charter                    | 2006-08-14 |\n",
       "|            Aspire Summit Charter Academy             | 2006-08-14 |\n",
       "| California Montessori Project-Shingle Springs Campus | 2006-08-16 |\n",
       "|   Antelope Valley Desert Montessori Schools, Inc.    | 2006-08-16 |\n",
       "+------------------------------------------------------+------------+\n",
       "Truncated to displaylimit of 10."
      ]
     },
     "execution_count": 836,
     "metadata": {},
     "output_type": "execute_result"
    }
   ],
   "source": [
    "%%sql\n",
    "SELECT\n",
    "    s1.\"School\" AS school_name,\n",
    "    s1.\"OpenDate\" AS open_date\n",
    "FROM schools AS s1\n",
    "WHERE s1.\"Charter\" IS 1 AND s1.\"OpenDate\" > '2006-01-01'\n",
    "ORDER BY open_date ASC;"
   ]
  },
  {
   "cell_type": "markdown",
   "id": "c0c6443d",
   "metadata": {},
   "source": [
    "Find the oldest charter school in each county."
   ]
  },
  {
   "cell_type": "code",
   "execution_count": 837,
   "id": "52c58f2f",
   "metadata": {},
   "outputs": [
    {
     "data": {
      "text/html": [
       "<span style=\"None\">Running query in &#x27;sqlite:///cdeschools.sqlite&#x27;</span>"
      ],
      "text/plain": [
       "Running query in 'sqlite:///cdeschools.sqlite'"
      ]
     },
     "metadata": {},
     "output_type": "display_data"
    },
    {
     "data": {
      "text/html": [
       "<table>\n",
       "    <thead>\n",
       "        <tr>\n",
       "            <th>school_name</th>\n",
       "            <th>county_name</th>\n",
       "            <th>open_date</th>\n",
       "        </tr>\n",
       "    </thead>\n",
       "    <tbody>\n",
       "        <tr>\n",
       "            <td>American High</td>\n",
       "            <td>Alameda</td>\n",
       "            <td>1972-07-01</td>\n",
       "        </tr>\n",
       "        <tr>\n",
       "            <td>Alpine County Special Education</td>\n",
       "            <td>Alpine</td>\n",
       "            <td>1980-07-01</td>\n",
       "        </tr>\n",
       "        <tr>\n",
       "            <td>County Community</td>\n",
       "            <td>Amador</td>\n",
       "            <td>1980-07-01</td>\n",
       "        </tr>\n",
       "        <tr>\n",
       "            <td>Concow Elementary</td>\n",
       "            <td>Butte</td>\n",
       "            <td>1940-07-01</td>\n",
       "        </tr>\n",
       "        <tr>\n",
       "            <td>Hazel Fischer Elementary</td>\n",
       "            <td>Calaveras</td>\n",
       "            <td>1973-07-01</td>\n",
       "        </tr>\n",
       "        <tr>\n",
       "            <td>James M. Burchfield Primary</td>\n",
       "            <td>Colusa</td>\n",
       "            <td>1955-07-01</td>\n",
       "        </tr>\n",
       "        <tr>\n",
       "            <td>Knightsen Elementary</td>\n",
       "            <td>Contra Costa</td>\n",
       "            <td>1867-07-01</td>\n",
       "        </tr>\n",
       "        <tr>\n",
       "            <td>Juvenile Hall/Bar-O</td>\n",
       "            <td>Del Norte</td>\n",
       "            <td>1980-07-01</td>\n",
       "        </tr>\n",
       "        <tr>\n",
       "            <td>Indian Diggings Elementary</td>\n",
       "            <td>El Dorado</td>\n",
       "            <td>1856-07-01</td>\n",
       "        </tr>\n",
       "        <tr>\n",
       "            <td>Clay Elementary</td>\n",
       "            <td>Fresno</td>\n",
       "            <td>1880-07-01</td>\n",
       "        </tr>\n",
       "    </tbody>\n",
       "</table>\n",
       "<span style=\"font-style:italic;text-align:center;\">Truncated to <a href=\"https://jupysql.ploomber.io/en/latest/api/configuration.html#displaylimit\">displaylimit</a> of 10.</span>"
      ],
      "text/plain": [
       "+---------------------------------+--------------+------------+\n",
       "|           school_name           | county_name  | open_date  |\n",
       "+---------------------------------+--------------+------------+\n",
       "|          American High          |   Alameda    | 1972-07-01 |\n",
       "| Alpine County Special Education |    Alpine    | 1980-07-01 |\n",
       "|         County Community        |    Amador    | 1980-07-01 |\n",
       "|        Concow Elementary        |    Butte     | 1940-07-01 |\n",
       "|     Hazel Fischer Elementary    |  Calaveras   | 1973-07-01 |\n",
       "|   James M. Burchfield Primary   |    Colusa    | 1955-07-01 |\n",
       "|       Knightsen Elementary      | Contra Costa | 1867-07-01 |\n",
       "|       Juvenile Hall/Bar-O       |  Del Norte   | 1980-07-01 |\n",
       "|    Indian Diggings Elementary   |  El Dorado   | 1856-07-01 |\n",
       "|         Clay Elementary         |    Fresno    | 1880-07-01 |\n",
       "+---------------------------------+--------------+------------+\n",
       "Truncated to displaylimit of 10."
      ]
     },
     "execution_count": 837,
     "metadata": {},
     "output_type": "execute_result"
    }
   ],
   "source": [
    "%%sql\n",
    "SELECT\n",
    "    s1.\"School\" AS school_name,\n",
    "    s1.\"County\" AS county_name,\n",
    "    MIN(s1.\"OpenDate\") AS open_date\n",
    "FROM schools AS s1\n",
    "GROUP BY county_name;"
   ]
  },
  {
   "cell_type": "markdown",
   "id": "34b33aa0",
   "metadata": {},
   "source": [
    "Now find both the earliest and the most recent schools in each county."
   ]
  },
  {
   "cell_type": "code",
   "execution_count": 838,
   "id": "a8123c72",
   "metadata": {},
   "outputs": [
    {
     "data": {
      "text/html": [
       "<span style=\"None\">Running query in &#x27;sqlite:///cdeschools.sqlite&#x27;</span>"
      ],
      "text/plain": [
       "Running query in 'sqlite:///cdeschools.sqlite'"
      ]
     },
     "metadata": {},
     "output_type": "display_data"
    },
    {
     "data": {
      "text/html": [
       "<table>\n",
       "    <thead>\n",
       "        <tr>\n",
       "            <th>county_name</th>\n",
       "            <th>first_open_school</th>\n",
       "            <th>first_open_date</th>\n",
       "            <th>last_open_school</th>\n",
       "            <th>last_open_date</th>\n",
       "        </tr>\n",
       "    </thead>\n",
       "    <tbody>\n",
       "        <tr>\n",
       "            <td>Alameda</td>\n",
       "            <td>American High</td>\n",
       "            <td>1972-07-01</td>\n",
       "            <td>Lodestar: A Lighthouse Community Charter Public</td>\n",
       "            <td>2016-08-15</td>\n",
       "        </tr>\n",
       "        <tr>\n",
       "            <td>Alpine</td>\n",
       "            <td>Alpine County Special Education</td>\n",
       "            <td>1980-07-01</td>\n",
       "            <td>Woodfords High</td>\n",
       "            <td>2000-08-23</td>\n",
       "        </tr>\n",
       "        <tr>\n",
       "            <td>Amador</td>\n",
       "            <td>County Community</td>\n",
       "            <td>1980-07-01</td>\n",
       "            <td>Shenandoah Valley</td>\n",
       "            <td>2014-08-11</td>\n",
       "        </tr>\n",
       "        <tr>\n",
       "            <td>Butte</td>\n",
       "            <td>Concow Elementary</td>\n",
       "            <td>1940-07-01</td>\n",
       "            <td>Come Back Butte Charter</td>\n",
       "            <td>2016-08-17</td>\n",
       "        </tr>\n",
       "        <tr>\n",
       "            <td>Calaveras</td>\n",
       "            <td>Hazel Fischer Elementary</td>\n",
       "            <td>1973-07-01</td>\n",
       "            <td>Structured/Special Day Class Preschool</td>\n",
       "            <td>2016-09-01</td>\n",
       "        </tr>\n",
       "        <tr>\n",
       "            <td>Colusa</td>\n",
       "            <td>James M. Burchfield Primary</td>\n",
       "            <td>1955-07-01</td>\n",
       "            <td>Maxwell Middle</td>\n",
       "            <td>2015-08-19</td>\n",
       "        </tr>\n",
       "        <tr>\n",
       "            <td>Contra Costa</td>\n",
       "            <td>Knightsen Elementary</td>\n",
       "            <td>1867-07-01</td>\n",
       "            <td>Bella Vista Elementary</td>\n",
       "            <td>2016-08-15</td>\n",
       "        </tr>\n",
       "        <tr>\n",
       "            <td>Del Norte</td>\n",
       "            <td>Juvenile Hall/Bar-O</td>\n",
       "            <td>1980-07-01</td>\n",
       "            <td>Uncharted Shores Academy</td>\n",
       "            <td>2007-09-10</td>\n",
       "        </tr>\n",
       "        <tr>\n",
       "            <td>El Dorado</td>\n",
       "            <td>Indian Diggings Elementary</td>\n",
       "            <td>1856-07-01</td>\n",
       "            <td>Rising Sun Montessori</td>\n",
       "            <td>2014-08-18</td>\n",
       "        </tr>\n",
       "        <tr>\n",
       "            <td>Fresno</td>\n",
       "            <td>Clay Elementary</td>\n",
       "            <td>1880-07-01</td>\n",
       "            <td>Virginia R. Boris Elementary</td>\n",
       "            <td>2016-08-15</td>\n",
       "        </tr>\n",
       "    </tbody>\n",
       "</table>\n",
       "<span style=\"font-style:italic;text-align:center;\">Truncated to <a href=\"https://jupysql.ploomber.io/en/latest/api/configuration.html#displaylimit\">displaylimit</a> of 10.</span>"
      ],
      "text/plain": [
       "+--------------+---------------------------------+-----------------+-------------------------------------------------+----------------+\n",
       "| county_name  |        first_open_school        | first_open_date |                 last_open_school                | last_open_date |\n",
       "+--------------+---------------------------------+-----------------+-------------------------------------------------+----------------+\n",
       "|   Alameda    |          American High          |    1972-07-01   | Lodestar: A Lighthouse Community Charter Public |   2016-08-15   |\n",
       "|    Alpine    | Alpine County Special Education |    1980-07-01   |                  Woodfords High                 |   2000-08-23   |\n",
       "|    Amador    |         County Community        |    1980-07-01   |                Shenandoah Valley                |   2014-08-11   |\n",
       "|    Butte     |        Concow Elementary        |    1940-07-01   |             Come Back Butte Charter             |   2016-08-17   |\n",
       "|  Calaveras   |     Hazel Fischer Elementary    |    1973-07-01   |      Structured/Special Day Class Preschool     |   2016-09-01   |\n",
       "|    Colusa    |   James M. Burchfield Primary   |    1955-07-01   |                  Maxwell Middle                 |   2015-08-19   |\n",
       "| Contra Costa |       Knightsen Elementary      |    1867-07-01   |              Bella Vista Elementary             |   2016-08-15   |\n",
       "|  Del Norte   |       Juvenile Hall/Bar-O       |    1980-07-01   |             Uncharted Shores Academy            |   2007-09-10   |\n",
       "|  El Dorado   |    Indian Diggings Elementary   |    1856-07-01   |              Rising Sun Montessori              |   2014-08-18   |\n",
       "|    Fresno    |         Clay Elementary         |    1880-07-01   |           Virginia R. Boris Elementary          |   2016-08-15   |\n",
       "+--------------+---------------------------------+-----------------+-------------------------------------------------+----------------+\n",
       "Truncated to displaylimit of 10."
      ]
     },
     "execution_count": 838,
     "metadata": {},
     "output_type": "execute_result"
    }
   ],
   "source": [
    "%%sql\n",
    "-- This is a SELECT with a JOIN on subqueries with the general form:\n",
    "--\n",
    "-- SELECT <columns>\n",
    "--   FROM ( … ) AS s1\n",
    "--   JOIN ( … ) AS s2\n",
    "--     ON s1.key = s2.key\n",
    "--   [WHERE …]          -- Filters before the aggregation\n",
    "--   [GROUP BY …]       -- Groups them\n",
    "--   [HAVING …]         -- Filters the grouped results\n",
    "--   [ORDER BY …]       -- Sorts the final set\n",
    "--   [LIMIT …]          -- Trim the result\n",
    "--   [OFFSET …];\n",
    "\n",
    "SELECT\n",
    "  earliest.county_name,\n",
    "  earliest.school_name  AS first_open_school,\n",
    "  earliest.open_date    AS first_open_date,\n",
    "  latest.school_name    AS last_open_school,\n",
    "  latest.open_date      AS last_open_date\n",
    "FROM\n",
    "  (\n",
    "    SELECT\n",
    "      County        AS county_name,\n",
    "      School        AS school_name,\n",
    "      MIN(OpenDate) AS open_date\n",
    "    FROM schools\n",
    "    GROUP BY County\n",
    "  ) AS earliest -- This subquery is the left side of the JOIN\n",
    "  INNER JOIN\n",
    "  (\n",
    "    SELECT\n",
    "      County       AS county_name,\n",
    "      School       AS school_name,\n",
    "      MAX(OpenDate) AS open_date\n",
    "    FROM schools\n",
    "    GROUP BY County\n",
    "  ) AS latest -- This subquery is the right side of the JOIN\n",
    "    ON earliest.county_name = latest.county_name;"
   ]
  },
  {
   "cell_type": "markdown",
   "id": "ad81c77b",
   "metadata": {},
   "source": [
    "Find the average age of schools in each county."
   ]
  },
  {
   "cell_type": "code",
   "execution_count": 839,
   "id": "d0865c28",
   "metadata": {},
   "outputs": [
    {
     "data": {
      "text/html": [
       "<span style=\"None\">Running query in &#x27;sqlite:///cdeschools.sqlite&#x27;</span>"
      ],
      "text/plain": [
       "Running query in 'sqlite:///cdeschools.sqlite'"
      ]
     },
     "metadata": {},
     "output_type": "display_data"
    },
    {
     "data": {
      "text/html": [
       "<table>\n",
       "    <thead>\n",
       "        <tr>\n",
       "            <th>county_name</th>\n",
       "            <th>avg_years_since_open</th>\n",
       "        </tr>\n",
       "    </thead>\n",
       "    <tbody>\n",
       "        <tr>\n",
       "            <td>Alameda</td>\n",
       "            <td>37</td>\n",
       "        </tr>\n",
       "        <tr>\n",
       "            <td>Alpine</td>\n",
       "            <td>38</td>\n",
       "        </tr>\n",
       "        <tr>\n",
       "            <td>Amador</td>\n",
       "            <td>42</td>\n",
       "        </tr>\n",
       "        <tr>\n",
       "            <td>Butte</td>\n",
       "            <td>35</td>\n",
       "        </tr>\n",
       "        <tr>\n",
       "            <td>Calaveras</td>\n",
       "            <td>37</td>\n",
       "        </tr>\n",
       "        <tr>\n",
       "            <td>Colusa</td>\n",
       "            <td>38</td>\n",
       "        </tr>\n",
       "        <tr>\n",
       "            <td>Contra Costa</td>\n",
       "            <td>39</td>\n",
       "        </tr>\n",
       "        <tr>\n",
       "            <td>Del Norte</td>\n",
       "            <td>36</td>\n",
       "        </tr>\n",
       "        <tr>\n",
       "            <td>El Dorado</td>\n",
       "            <td>37</td>\n",
       "        </tr>\n",
       "        <tr>\n",
       "            <td>Fresno</td>\n",
       "            <td>38</td>\n",
       "        </tr>\n",
       "    </tbody>\n",
       "</table>\n",
       "<span style=\"font-style:italic;text-align:center;\">Truncated to <a href=\"https://jupysql.ploomber.io/en/latest/api/configuration.html#displaylimit\">displaylimit</a> of 10.</span>"
      ],
      "text/plain": [
       "+--------------+----------------------+\n",
       "| county_name  | avg_years_since_open |\n",
       "+--------------+----------------------+\n",
       "|   Alameda    |          37          |\n",
       "|    Alpine    |          38          |\n",
       "|    Amador    |          42          |\n",
       "|    Butte     |          35          |\n",
       "|  Calaveras   |          37          |\n",
       "|    Colusa    |          38          |\n",
       "| Contra Costa |          39          |\n",
       "|  Del Norte   |          36          |\n",
       "|  El Dorado   |          37          |\n",
       "|    Fresno    |          38          |\n",
       "+--------------+----------------------+\n",
       "Truncated to displaylimit of 10."
      ]
     },
     "execution_count": 839,
     "metadata": {},
     "output_type": "execute_result"
    }
   ],
   "source": [
    "%%sql\n",
    "SELECT\n",
    "    \"County\" AS county_name,\n",
    "    CAST(AVG((julianday('now') - julianday(OpenDate)) / 365.25) AS INTEGER) AS avg_years_since_open -- This is dependent on the database engine you are using\n",
    "FROM schools\n",
    "GROUP BY county_name"
   ]
  },
  {
   "cell_type": "markdown",
   "id": "3f81adda",
   "metadata": {},
   "source": [
    "### Three way JOINs"
   ]
  },
  {
   "cell_type": "markdown",
   "id": "6b04b37d",
   "metadata": {},
   "source": [
    "Join schools, frpm and satscores to produce a report of every public K-12 school’s name, city/zip, % Eligible FRPM (K-12) and its overall SAT average ( (AvgScrMath+AvgScrRead+AvgScrWrite)/3 ). Filter out any rows where one of the three tables has no match."
   ]
  },
  {
   "cell_type": "code",
   "execution_count": 840,
   "id": "be360be1",
   "metadata": {},
   "outputs": [
    {
     "data": {
      "text/html": [
       "<span style=\"None\">Running query in &#x27;sqlite:///cdeschools.sqlite&#x27;</span>"
      ],
      "text/plain": [
       "Running query in 'sqlite:///cdeschools.sqlite'"
      ]
     },
     "metadata": {},
     "output_type": "display_data"
    },
    {
     "data": {
      "text/html": [
       "<table>\n",
       "    <thead>\n",
       "        <tr>\n",
       "            <th>school_name</th>\n",
       "            <th>city</th>\n",
       "            <th>zip</th>\n",
       "            <th>pct_eligible_frpm_k12</th>\n",
       "            <th>avg_scores</th>\n",
       "        </tr>\n",
       "    </thead>\n",
       "    <tbody>\n",
       "        <tr>\n",
       "            <td>Mission San Jose High</td>\n",
       "            <td>Fremont</td>\n",
       "            <td>94539-4799</td>\n",
       "            <td>0.033818694222639736</td>\n",
       "            <td>674</td>\n",
       "        </tr>\n",
       "        <tr>\n",
       "            <td>Lynbrook High</td>\n",
       "            <td>San Jose</td>\n",
       "            <td>95129-4172</td>\n",
       "            <td>0.04803022126281705</td>\n",
       "            <td>667</td>\n",
       "        </tr>\n",
       "        <tr>\n",
       "            <td>Whitney (Gretchen) High</td>\n",
       "            <td>Cerritos</td>\n",
       "            <td>90703-1244</td>\n",
       "            <td>0.18940137389597644</td>\n",
       "            <td>662</td>\n",
       "        </tr>\n",
       "        <tr>\n",
       "            <td>Monta Vista High</td>\n",
       "            <td>Cupertino</td>\n",
       "            <td>95014-4055</td>\n",
       "            <td>0.022486211285532458</td>\n",
       "            <td>662</td>\n",
       "        </tr>\n",
       "        <tr>\n",
       "            <td>Henry M. Gunn High</td>\n",
       "            <td>Palo Alto</td>\n",
       "            <td>94306-3827</td>\n",
       "            <td>0.07380073800738007</td>\n",
       "            <td>658</td>\n",
       "        </tr>\n",
       "        <tr>\n",
       "            <td>Saratoga High</td>\n",
       "            <td>Saratoga</td>\n",
       "            <td>95070-4950</td>\n",
       "            <td>0.007982583454281567</td>\n",
       "            <td>654</td>\n",
       "        </tr>\n",
       "        <tr>\n",
       "            <td>Oxford Academy</td>\n",
       "            <td>Cypress</td>\n",
       "            <td>90630-2921</td>\n",
       "            <td>0.3793969849246231</td>\n",
       "            <td>643</td>\n",
       "        </tr>\n",
       "        <tr>\n",
       "            <td>Palo Alto High</td>\n",
       "            <td>Palo Alto</td>\n",
       "            <td>94301-2321</td>\n",
       "            <td>0.08183221821924859</td>\n",
       "            <td>636</td>\n",
       "        </tr>\n",
       "        <tr>\n",
       "            <td>University High</td>\n",
       "            <td>Irvine</td>\n",
       "            <td>92612-3298</td>\n",
       "            <td>0.1515631183221211</td>\n",
       "            <td>635</td>\n",
       "        </tr>\n",
       "        <tr>\n",
       "            <td>Pacific Collegiate Charter</td>\n",
       "            <td>Santa Cruz</td>\n",
       "            <td>95060-6225</td>\n",
       "            <td>0.04133858267716536</td>\n",
       "            <td>635</td>\n",
       "        </tr>\n",
       "    </tbody>\n",
       "</table>\n",
       "<span style=\"font-style:italic;text-align:center;\">Truncated to <a href=\"https://jupysql.ploomber.io/en/latest/api/configuration.html#displaylimit\">displaylimit</a> of 10.</span>"
      ],
      "text/plain": [
       "+----------------------------+------------+------------+-----------------------+------------+\n",
       "|        school_name         |    city    |    zip     | pct_eligible_frpm_k12 | avg_scores |\n",
       "+----------------------------+------------+------------+-----------------------+------------+\n",
       "|   Mission San Jose High    |  Fremont   | 94539-4799 |  0.033818694222639736 |    674     |\n",
       "|       Lynbrook High        |  San Jose  | 95129-4172 |  0.04803022126281705  |    667     |\n",
       "|  Whitney (Gretchen) High   |  Cerritos  | 90703-1244 |  0.18940137389597644  |    662     |\n",
       "|      Monta Vista High      | Cupertino  | 95014-4055 |  0.022486211285532458 |    662     |\n",
       "|     Henry M. Gunn High     | Palo Alto  | 94306-3827 |  0.07380073800738007  |    658     |\n",
       "|       Saratoga High        |  Saratoga  | 95070-4950 |  0.007982583454281567 |    654     |\n",
       "|       Oxford Academy       |  Cypress   | 90630-2921 |   0.3793969849246231  |    643     |\n",
       "|       Palo Alto High       | Palo Alto  | 94301-2321 |  0.08183221821924859  |    636     |\n",
       "|      University High       |   Irvine   | 92612-3298 |   0.1515631183221211  |    635     |\n",
       "| Pacific Collegiate Charter | Santa Cruz | 95060-6225 |  0.04133858267716536  |    635     |\n",
       "+----------------------------+------------+------------+-----------------------+------------+\n",
       "Truncated to displaylimit of 10."
      ]
     },
     "execution_count": 840,
     "metadata": {},
     "output_type": "execute_result"
    }
   ],
   "source": [
    "%%sql\n",
    "SELECT\n",
    "    s1.School AS school_name,\n",
    "    s1.City AS city,\n",
    "    s1.Zip AS zip,\n",
    "    s3.\"Percent (%) Eligible FRPM (K-12)\" AS pct_eligible_frpm_k12,\n",
    "    (s2.AvgScrMath + s2.AvgScrRead + s2.AvgScrWrite) / 3 AS avg_scores\n",
    "FROM schools AS s1\n",
    "INNER JOIN satscores AS s2 ON s1.School = s2.sname AND s1.County = s2.cname -- We need the county to disambiguate schools with the same name\n",
    "INNER JOIN frpm AS s3 ON s1.School = s3.\"School Name\" AND s1.County = s3.\"County Name\"\n",
    "WHERE avg_scores IS NOT NULL\n",
    "ORDER BY avg_scores DESC;"
   ]
  },
  {
   "cell_type": "markdown",
   "id": "8fffa2d8",
   "metadata": {},
   "source": [
    "### Derived table Subquery + JOIN"
   ]
  },
  {
   "cell_type": "markdown",
   "id": "073eff19",
   "metadata": {},
   "source": [
    "First build an inline view that, for each district in frpm, computes the district’s average % Eligible FRPM (K-12). Then join that back to frpm to list only the schools whose own FRPM % exceeds their district’s average. No window functions, just a subquery in your FROM clause."
   ]
  },
  {
   "cell_type": "code",
   "execution_count": 841,
   "id": "c8e89f9b",
   "metadata": {},
   "outputs": [
    {
     "data": {
      "text/html": [
       "<span style=\"None\">Running query in &#x27;sqlite:///cdeschools.sqlite&#x27;</span>"
      ],
      "text/plain": [
       "Running query in 'sqlite:///cdeschools.sqlite'"
      ]
     },
     "metadata": {},
     "output_type": "display_data"
    },
    {
     "data": {
      "text/html": [
       "<table>\n",
       "    <thead>\n",
       "        <tr>\n",
       "            <th>school_name</th>\n",
       "            <th>district_name</th>\n",
       "            <th>pct_eligible_frpm_k12</th>\n",
       "            <th>avg_pct_eligible_frpm_k12</th>\n",
       "        </tr>\n",
       "    </thead>\n",
       "    <tbody>\n",
       "        <tr>\n",
       "            <td>Wagner Ranch Elementary</td>\n",
       "            <td>Orinda Union Elementary</td>\n",
       "            <td>0.005076142131979695</td>\n",
       "            <td>0.0031863727082756753</td>\n",
       "        </tr>\n",
       "        <tr>\n",
       "            <td>Del Mar Middle</td>\n",
       "            <td>Reed Union Elementary</td>\n",
       "            <td>0.011976047904191617</td>\n",
       "            <td>0.0108961288043801</td>\n",
       "        </tr>\n",
       "        <tr>\n",
       "            <td>Bel Aire Elementary</td>\n",
       "            <td>Reed Union Elementary</td>\n",
       "            <td>0.012237762237762238</td>\n",
       "            <td>0.0108961288043801</td>\n",
       "        </tr>\n",
       "        <tr>\n",
       "            <td>Meadows Avenue Elementary</td>\n",
       "            <td>Manhattan Beach Unified</td>\n",
       "            <td>0.015730337078651686</td>\n",
       "            <td>0.01281003753429801</td>\n",
       "        </tr>\n",
       "        <tr>\n",
       "            <td>Manhattan Beach Middle</td>\n",
       "            <td>Manhattan Beach Unified</td>\n",
       "            <td>0.017105263157894738</td>\n",
       "            <td>0.01281003753429801</td>\n",
       "        </tr>\n",
       "        <tr>\n",
       "            <td>Joaquin Moraga Intermediate</td>\n",
       "            <td>Moraga Elementary</td>\n",
       "            <td>0.019005847953216373</td>\n",
       "            <td>0.015704834141312414</td>\n",
       "        </tr>\n",
       "        <tr>\n",
       "            <td>Los Perales Elementary</td>\n",
       "            <td>Moraga Elementary</td>\n",
       "            <td>0.019337016574585635</td>\n",
       "            <td>0.015704834141312414</td>\n",
       "        </tr>\n",
       "        <tr>\n",
       "            <td>Foothill Elementary</td>\n",
       "            <td>Saratoga Union Elementary</td>\n",
       "            <td>0.021052631578947368</td>\n",
       "            <td>0.014691454884075611</td>\n",
       "        </tr>\n",
       "        <tr>\n",
       "            <td>Donald L. Rheem Elementary</td>\n",
       "            <td>Moraga Elementary</td>\n",
       "            <td>0.02195121951219512</td>\n",
       "            <td>0.015704834141312414</td>\n",
       "        </tr>\n",
       "        <tr>\n",
       "            <td>Hermosa Valley Elementary</td>\n",
       "            <td>Hermosa Beach City Elementary</td>\n",
       "            <td>0.028254288597376387</td>\n",
       "            <td>0.022374566979100563</td>\n",
       "        </tr>\n",
       "    </tbody>\n",
       "</table>\n",
       "<span style=\"font-style:italic;text-align:center;\">Truncated to <a href=\"https://jupysql.ploomber.io/en/latest/api/configuration.html#displaylimit\">displaylimit</a> of 10.</span>"
      ],
      "text/plain": [
       "+-----------------------------+-------------------------------+-----------------------+---------------------------+\n",
       "|         school_name         |         district_name         | pct_eligible_frpm_k12 | avg_pct_eligible_frpm_k12 |\n",
       "+-----------------------------+-------------------------------+-----------------------+---------------------------+\n",
       "|   Wagner Ranch Elementary   |    Orinda Union Elementary    |  0.005076142131979695 |   0.0031863727082756753   |\n",
       "|        Del Mar Middle       |     Reed Union Elementary     |  0.011976047904191617 |     0.0108961288043801    |\n",
       "|     Bel Aire Elementary     |     Reed Union Elementary     |  0.012237762237762238 |     0.0108961288043801    |\n",
       "|  Meadows Avenue Elementary  |    Manhattan Beach Unified    |  0.015730337078651686 |    0.01281003753429801    |\n",
       "|    Manhattan Beach Middle   |    Manhattan Beach Unified    |  0.017105263157894738 |    0.01281003753429801    |\n",
       "| Joaquin Moraga Intermediate |       Moraga Elementary       |  0.019005847953216373 |    0.015704834141312414   |\n",
       "|    Los Perales Elementary   |       Moraga Elementary       |  0.019337016574585635 |    0.015704834141312414   |\n",
       "|     Foothill Elementary     |   Saratoga Union Elementary   |  0.021052631578947368 |    0.014691454884075611   |\n",
       "|  Donald L. Rheem Elementary |       Moraga Elementary       |  0.02195121951219512  |    0.015704834141312414   |\n",
       "|  Hermosa Valley Elementary  | Hermosa Beach City Elementary |  0.028254288597376387 |    0.022374566979100563   |\n",
       "+-----------------------------+-------------------------------+-----------------------+---------------------------+\n",
       "Truncated to displaylimit of 10."
      ]
     },
     "execution_count": 841,
     "metadata": {},
     "output_type": "execute_result"
    }
   ],
   "source": [
    "%%sql\n",
    "SELECT\n",
    "    left.\"School Name\" AS school_name,\n",
    "    left.\"District Name\" AS district_name,\n",
    "    left.\"Percent (%) Eligible FRPM (K-12)\" AS pct_eligible_frpm_k12,\n",
    "    right.avg_pct_eligible_frpm_k12\n",
    "FROM frpm AS left\n",
    "INNER JOIN (\n",
    "    SELECT\n",
    "        inline.\"District Name\" AS district_name,\n",
    "        AVG(inline.\"Percent (%) Eligible FRPM (K-12)\") AS avg_pct_eligible_frpm_k12\n",
    "    FROM frpm AS inline\n",
    "    GROUP BY inline.\"District Name\"\n",
    ") AS right\n",
    "    ON left.\"District Name\" = right.district_name\n",
    "WHERE pct_eligible_frpm_k12 > avg_pct_eligible_frpm_k12\n",
    "ORDER BY pct_eligible_frpm_k12 ASC;"
   ]
  }
 ],
 "metadata": {
  "kernelspec": {
   "display_name": "jupyter-sql",
   "language": "python",
   "name": "python3"
  },
  "language_info": {
   "codemirror_mode": {
    "name": "ipython",
    "version": 3
   },
   "file_extension": ".py",
   "mimetype": "text/x-python",
   "name": "python",
   "nbconvert_exporter": "python",
   "pygments_lexer": "ipython3",
   "version": "3.12.11"
  }
 },
 "nbformat": 4,
 "nbformat_minor": 5
}
